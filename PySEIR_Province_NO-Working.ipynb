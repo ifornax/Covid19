{
 "cells": [
  {
   "cell_type": "code",
   "execution_count": null,
   "metadata": {},
   "outputs": [],
   "source": [
    "!pwd"
   ]
  },
  {
   "cell_type": "code",
   "execution_count": null,
   "metadata": {},
   "outputs": [],
   "source": [
    "%reset"
   ]
  },
  {
   "cell_type": "code",
   "execution_count": 1,
   "metadata": {},
   "outputs": [],
   "source": [
    "ForColab = False"
   ]
  },
  {
   "cell_type": "code",
   "execution_count": 2,
   "metadata": {},
   "outputs": [
    {
     "name": "stdout",
     "output_type": "stream",
     "text": [
      "Working local\n"
     ]
    }
   ],
   "source": [
    "if ForColab:\n",
    "    !pip install wget\n",
    "    !pip install git+https://github.com/rajeshrinet/pyross.git\n",
    "    !pip install git+https://github.com/lukastk/PyRossGeo.git\n",
    "    import os\n",
    "    owd = os.getcwd()\n",
    "    os.chdir('../../')\n",
    "\n",
    "    import plotly.io as pio\n",
    "    pio.renderers.default = 'colab'\n",
    "else:\n",
    "    print(\"Working local\")"
   ]
  },
  {
   "cell_type": "code",
   "execution_count": 3,
   "metadata": {},
   "outputs": [],
   "source": [
    "import matplotlib.pyplot as plt\n",
    "params = {'legend.fontsize': 'x-large',\n",
    "          'figure.figsize': (12, 10),\n",
    "         'axes.labelsize': 13,\n",
    "         'axes.titlesize':13,\n",
    "         'xtick.labelsize':13,\n",
    "         'ytick.labelsize':13,\n",
    "         'axes.labelweight':'bold',\n",
    "          'legend.fontsize': 13,\n",
    "         'figure.max_open_warning': 0}\n",
    "         \n",
    "plt.rcParams.update(params)"
   ]
  },
  {
   "cell_type": "code",
   "execution_count": 4,
   "metadata": {},
   "outputs": [],
   "source": [
    "from datetime import datetime, timedelta\n",
    "import os\n",
    "from pathlib import Path\n",
    "import pickle\n",
    "from timeit import default_timer as timer\n",
    "import wget\n",
    "import ssl\n",
    "ssl._create_default_https_context = ssl._create_unverified_context\n",
    "    \n",
    "import pandas as pd\n",
    "#pd.options.plotting.backend = \"plotly\"\n",
    "\n",
    "import numpy as np\n",
    "\n",
    "from tqdm.notebook import tqdm\n",
    "\n",
    "from scipy.integrate import odeint, solve_ivp\n",
    "from scipy.optimize import minimize,curve_fit\n",
    "\n",
    "from sklearn.metrics import mean_squared_log_error, mean_squared_error\n",
    "\n",
    "from PIL import Image\n",
    "\n",
    "#import chart_studio\n",
    "#chart_studio.tools.set_config_file(world_readable=False)\n",
    "\n",
    "#import chart_studio.plotly as ply\n",
    "\n",
    "\n",
    "import pyross, pyrossgeo"
   ]
  },
  {
   "cell_type": "code",
   "execution_count": null,
   "metadata": {},
   "outputs": [],
   "source": []
  },
  {
   "cell_type": "code",
   "execution_count": null,
   "metadata": {},
   "outputs": [],
   "source": []
  },
  {
   "cell_type": "code",
   "execution_count": 5,
   "metadata": {},
   "outputs": [],
   "source": [
    "def plot_model(Data,  ICUHospital, title):\n",
    "\n",
    "    S  = model.S(Data)\n",
    "    Ia = model.Ia(Data)\n",
    "    Is = model.Is(Data)\n",
    "    R  = model.R(Data)\n",
    "\n",
    "    InfectedCases = Ia+Is\n",
    "\n",
    "    #fig, (ax1, ax2) = plt.subplots(1, 2, figsize=(14,7))\n",
    "    fig, ax1 = plt.subplots(1, 1)\n",
    "    fig.suptitle(title)\n",
    "\n",
    "    ax1.plot(S, 'tab:blue', label='Susceptible');\n",
    "    ax1.plot(Ia, 'tab:orange', label='Exposed');\n",
    "    ax1.plot(Is, 'tab:red', label='Infected');\n",
    "    ax1.plot(R, 'tab:green', label='Recovered');\n",
    "    #ax1.plot(InfectedCases, 'tab:purple', label='Hospitalised');\n",
    "    #ax1.plot(crit, 'tab:brown', label='Critical');\n",
    "    #ax1.plot(death, 'tab:cyan', label='Deceased');\n",
    "    #ax1.hlines(np.mean([SAHospital[1][0],SAHospital[1][1]]),0,len(sus),linestyles='dashed',\n",
    "    #           label=\"Mean ICU beds\")\n",
    "\n",
    "\n",
    "    ax1.semilogy()\n",
    "\n",
    "    ax1.set_xlabel(\"Days\");\n",
    "    ax1.legend(loc='best');\n",
    "    ax1.set_ylabel(\"No of people\");\n",
    "    '''        \n",
    "    ax2.plot(cases, 'tab:red', label='Cases');    \n",
    "    ax2.set_xlabel(\"Days\", fontsize=10);\n",
    "    ax2.semilogy()\n",
    "\n",
    "    ax3 = ax2.twinx()\n",
    "    ax3.plot(death, 'tab:cyan', label='Deceased');    \n",
    "    ax3.set_xlabel(\"Days\", fontsize=10);\n",
    "    ax3.semilogy()\n",
    "    '''\n",
    "\n",
    "    '''\n",
    "    ax2.set_ylabel(\"No of population (Cases)\", fontsize=10, color='tab:red');\n",
    "    ax3.set_ylabel(\"No of population (Fatalities)\", fontsize=10, color='tab:cyan');\n",
    "    '''        \n",
    "\n",
    "    ax1.legend(loc='upper center', bbox_to_anchor=(0.5, -0.125),ncol=3, fancybox=True, shadow=True)"
   ]
  },
  {
   "cell_type": "code",
   "execution_count": 6,
   "metadata": {},
   "outputs": [],
   "source": [
    "NZA = 59156682 # Total South Africa population"
   ]
  },
  {
   "cell_type": "markdown",
   "metadata": {},
   "source": [
    "# Getting Covid values for cases in SA for each province "
   ]
  },
  {
   "cell_type": "code",
   "execution_count": 7,
   "metadata": {},
   "outputs": [],
   "source": [
    "def get_SA_province(ToUpdateSAProvince):\n",
    "    \n",
    "    '''\n",
    "    This function will get the SA provincial confirmed and cases as function of date\n",
    "    It also has the total that should agree with the reported worldodometer confirmed cases\n",
    "    \n",
    "    Usage:\n",
    "    \n",
    "        get_SA_province('y') or get_SA_province('n')\n",
    "    \n",
    "    Input:\n",
    "        Take a y or n - whether to update the dataset or not\n",
    "    \n",
    "    Output:\n",
    "        Returns the SA province confirmed dataframe\n",
    "    '''\n",
    "    \n",
    "    import pandas as pd\n",
    "    import wget\n",
    "    import ssl\n",
    "    ssl._create_default_https_context = ssl._create_unverified_context\n",
    "\n",
    "    if ToUpdateSAProvince.lower() =='y':\n",
    "        \n",
    "        print(\"updating data\")\n",
    "        ConfirmedURL = \"https://raw.githubusercontent.com/dsfsi/covid19za/master/data/covid19za_provincial_cumulative_timeline_confirmed.csv\"\n",
    "        SAProvinConfirmed = pd.read_csv(wget.download(ConfirmedURL, out ='covid19za_provincial_cumulative_timeline_confirmed.csv'))\n",
    "        DeathURL = \"https://raw.githubusercontent.com/dsfsi/covid19za/master/data/covid19za_provincial_cumulative_timeline_deaths.csv\"\n",
    "        SAProvinDead = pd.read_csv(wget.download(DeathURL, out= 'covid19za_provincial_cumulative_timeline_deaths.csv'))\n",
    "        RecoveredURL = \"https://raw.githubusercontent.com/dsfsi/covid19za/master/data/covid19za_provincial_cumulative_timeline_recoveries.csv\"\n",
    "        SAProvinrecover = pd.read_csv(wget.download(DeathURL, out ='covid19za_provincial_cumulative_timeline_recoveries.csv'))\n",
    "        \n",
    "    else:\n",
    "        print(\"Reading local file... Please check data is uptodate\")\n",
    "        SAProvinConfirmed  = pd.read_csv(\"covid19za_provincial_cumulative_timeline_confirmed.csv\")\n",
    "        SAProvinDead = pd.read_csv(\"covid19za_provincial_cumulative_timeline_deaths.csv\")\n",
    "        SAProvinrecover = pd.read_csv(\"covid19za_provincial_cumulative_timeline_recoveries.csv\")\n",
    "        print(f\"Note: File was last updated on {SAProvinConfirmed['date'].values[-1]}\")\n",
    "    #\n",
    "    # Drop the unwanted column\n",
    "    #\n",
    "    if 'YYYYMMDD' in SAProvinConfirmed.columns:\n",
    "        SAProvinConfirmed.drop(columns='YYYYMMDD', inplace = True)\n",
    "        SAProvinDead.drop(columns='YYYYMMDD', inplace = True)\n",
    "        SAProvinrecover.drop(columns='YYYYMMDD', inplace = True)\n",
    "    #\n",
    "    # Drop the source of information\n",
    "    #\n",
    "    if 'source' in SAProvinConfirmed.columns:\n",
    "        SAProvinConfirmed.drop(columns='source', inplace = True)\n",
    "        SAProvinDead.drop(columns='source', inplace = True)\n",
    "        SAProvinrecover.drop(columns='source', inplace = True)\n",
    "    #\n",
    "    # Make the date the index\n",
    "    #\n",
    "    SAProvinConfirmed[\"date\"] = pd.to_datetime(SAProvinConfirmed.date, format='%d-%m-%Y')\n",
    "    SAProvinConfirmed.index = SAProvinConfirmed[\"date\"]\n",
    "    \n",
    "    SAProvinDead[\"date\"] = pd.to_datetime(SAProvinDead.date, format='%d-%m-%Y')\n",
    "    SAProvinDead.index = SAProvinDead[\"date\"]\n",
    "    \n",
    "    SAProvinrecover[\"date\"] = pd.to_datetime(SAProvinrecover.date, format='%d-%m-%Y')\n",
    "    SAProvinrecover.index = SAProvinrecover[\"date\"]\n",
    "    \n",
    "    #\n",
    "    # Deleting the date column now\n",
    "    #\n",
    "    SAProvinConfirmed.drop(columns='date', inplace = True)\n",
    "    SAProvinDead.drop(columns='date', inplace = True)\n",
    "    SAProvinrecover.drop(columns='date', inplace = True)\n",
    "    #\n",
    "    # Renaming the Total column to Confirmed\n",
    "    #\n",
    "    SAProvinConfirmed = SAProvinConfirmed.rename(columns={'total': 'Confirmed'})\n",
    "    SAProvinDead = SAProvinDead.rename(columns={'total': 'Dead'})\n",
    "    SAProvinrecover = SAProvinrecover.rename(columns={'total': 'Recovered'})\n",
    "    #\n",
    "    #\n",
    "    #\n",
    "    return(SAProvinConfirmed,SAProvinDead, SAProvinrecover)\n",
    "\n"
   ]
  },
  {
   "cell_type": "code",
   "execution_count": 8,
   "metadata": {},
   "outputs": [
    {
     "name": "stdout",
     "output_type": "stream",
     "text": [
      "updating data\n"
     ]
    }
   ],
   "source": [
    "ProvinConf, ProvinDead, ProvinRecover = get_SA_province('y') "
   ]
  },
  {
   "cell_type": "code",
   "execution_count": 9,
   "metadata": {},
   "outputs": [],
   "source": [
    "ProvinConf.dropna(inplace=True)"
   ]
  },
  {
   "cell_type": "code",
   "execution_count": 10,
   "metadata": {},
   "outputs": [],
   "source": [
    "ProvinConf = ProvinConf.astype('int64')"
   ]
  },
  {
   "cell_type": "code",
   "execution_count": 11,
   "metadata": {},
   "outputs": [
    {
     "data": {
      "text/html": [
       "<div>\n",
       "<style scoped>\n",
       "    .dataframe tbody tr th:only-of-type {\n",
       "        vertical-align: middle;\n",
       "    }\n",
       "\n",
       "    .dataframe tbody tr th {\n",
       "        vertical-align: top;\n",
       "    }\n",
       "\n",
       "    .dataframe thead th {\n",
       "        text-align: right;\n",
       "    }\n",
       "</style>\n",
       "<table border=\"1\" class=\"dataframe\">\n",
       "  <thead>\n",
       "    <tr style=\"text-align: right;\">\n",
       "      <th></th>\n",
       "      <th>EC</th>\n",
       "      <th>FS</th>\n",
       "      <th>GP</th>\n",
       "      <th>KZN</th>\n",
       "      <th>LP</th>\n",
       "      <th>MP</th>\n",
       "      <th>NC</th>\n",
       "      <th>NW</th>\n",
       "      <th>WC</th>\n",
       "      <th>UNKNOWN</th>\n",
       "      <th>Confirmed</th>\n",
       "    </tr>\n",
       "    <tr>\n",
       "      <th>date</th>\n",
       "      <th></th>\n",
       "      <th></th>\n",
       "      <th></th>\n",
       "      <th></th>\n",
       "      <th></th>\n",
       "      <th></th>\n",
       "      <th></th>\n",
       "      <th></th>\n",
       "      <th></th>\n",
       "      <th></th>\n",
       "      <th></th>\n",
       "    </tr>\n",
       "  </thead>\n",
       "  <tbody>\n",
       "    <tr>\n",
       "      <th>2020-03-05</th>\n",
       "      <td>0</td>\n",
       "      <td>0</td>\n",
       "      <td>0</td>\n",
       "      <td>1</td>\n",
       "      <td>0</td>\n",
       "      <td>0</td>\n",
       "      <td>0</td>\n",
       "      <td>0</td>\n",
       "      <td>0</td>\n",
       "      <td>0</td>\n",
       "      <td>1</td>\n",
       "    </tr>\n",
       "    <tr>\n",
       "      <th>2020-03-07</th>\n",
       "      <td>0</td>\n",
       "      <td>0</td>\n",
       "      <td>1</td>\n",
       "      <td>1</td>\n",
       "      <td>0</td>\n",
       "      <td>0</td>\n",
       "      <td>0</td>\n",
       "      <td>0</td>\n",
       "      <td>0</td>\n",
       "      <td>0</td>\n",
       "      <td>2</td>\n",
       "    </tr>\n",
       "    <tr>\n",
       "      <th>2020-03-08</th>\n",
       "      <td>0</td>\n",
       "      <td>0</td>\n",
       "      <td>1</td>\n",
       "      <td>2</td>\n",
       "      <td>0</td>\n",
       "      <td>0</td>\n",
       "      <td>0</td>\n",
       "      <td>0</td>\n",
       "      <td>0</td>\n",
       "      <td>0</td>\n",
       "      <td>3</td>\n",
       "    </tr>\n",
       "    <tr>\n",
       "      <th>2020-03-09</th>\n",
       "      <td>0</td>\n",
       "      <td>0</td>\n",
       "      <td>1</td>\n",
       "      <td>6</td>\n",
       "      <td>0</td>\n",
       "      <td>0</td>\n",
       "      <td>0</td>\n",
       "      <td>0</td>\n",
       "      <td>0</td>\n",
       "      <td>0</td>\n",
       "      <td>7</td>\n",
       "    </tr>\n",
       "    <tr>\n",
       "      <th>2020-03-11</th>\n",
       "      <td>0</td>\n",
       "      <td>0</td>\n",
       "      <td>5</td>\n",
       "      <td>7</td>\n",
       "      <td>0</td>\n",
       "      <td>0</td>\n",
       "      <td>0</td>\n",
       "      <td>0</td>\n",
       "      <td>1</td>\n",
       "      <td>0</td>\n",
       "      <td>13</td>\n",
       "    </tr>\n",
       "  </tbody>\n",
       "</table>\n",
       "</div>"
      ],
      "text/plain": [
       "            EC  FS  GP  KZN  LP  MP  NC  NW  WC  UNKNOWN  Confirmed\n",
       "date                                                               \n",
       "2020-03-05   0   0   0    1   0   0   0   0   0        0          1\n",
       "2020-03-07   0   0   1    1   0   0   0   0   0        0          2\n",
       "2020-03-08   0   0   1    2   0   0   0   0   0        0          3\n",
       "2020-03-09   0   0   1    6   0   0   0   0   0        0          7\n",
       "2020-03-11   0   0   5    7   0   0   0   0   1        0         13"
      ]
     },
     "execution_count": 11,
     "metadata": {},
     "output_type": "execute_result"
    }
   ],
   "source": [
    "ProvinConf.head()"
   ]
  },
  {
   "cell_type": "code",
   "execution_count": null,
   "metadata": {},
   "outputs": [],
   "source": []
  },
  {
   "cell_type": "code",
   "execution_count": 12,
   "metadata": {},
   "outputs": [
    {
     "data": {
      "image/png": "[encoded data removed]",
      "text/plain": [
       "<Figure size 864x720 with 1 Axes>"
      ]
     },
     "metadata": {
      "needs_background": "light"
     },
     "output_type": "display_data"
    }
   ],
   "source": [
    "#ProvinConf.plot(x=ProvinConf.index, y=['EC', 'FS', 'GP', 'KZN', 'LP', 'MP', 'NC', 'NW', 'WC', 'UNKNOWN'],\n",
    "ProvinConf.plot(title=f\"SA provincial distribution as at {ProvinConf.index[-1].date()}\");\n"
   ]
  },
  {
   "cell_type": "code",
   "execution_count": 13,
   "metadata": {},
   "outputs": [],
   "source": [
    "#ProvinConf.plot(ProvinConf,x=ProvinConf.index, y=ProvinConf['Confirmed'])"
   ]
  },
  {
   "cell_type": "code",
   "execution_count": null,
   "metadata": {},
   "outputs": [],
   "source": []
  },
  {
   "cell_type": "markdown",
   "metadata": {},
   "source": [
    "## Getting the ZA province population "
   ]
  },
  {
   "cell_type": "code",
   "execution_count": 14,
   "metadata": {},
   "outputs": [],
   "source": [
    "def get_SA_Prov_Pop(ToUpdateSAProvince):\n",
    "    \n",
    "    '''\n",
    "    Usage:\n",
    "    \n",
    "        get_SA_province('y') or get_SA_province('n')\n",
    "    \n",
    "    This function will get the SA provincial population numbers.\n",
    "    \n",
    "    Input:\n",
    "        Take a y or n - whether to update the dataset or not\n",
    "    \n",
    "    Output:\n",
    "        Returns the SA province population dataframe\n",
    "    '''\n",
    "    \n",
    "    import pandas as pd\n",
    "    import wget\n",
    "    import ssl\n",
    "    ssl._create_default_https_context = ssl._create_unverified_context\n",
    "\n",
    "    if ToUpdateSAProvince.lower() =='y':\n",
    "        \n",
    "        print(\"updating data\")\n",
    "        ConfirmedURL = 'https://raw.githubusercontent.com/dsfsi/covid19za/master/data/district_data/za_province_pop.csv'\n",
    "        SAProvinPop = pd.read_csv(wget.download(ConfirmedURL, out='za_province_pop.csv'),header=None)\n",
    "        SAProvinPop.columns = ['Province', 'Pop']\n",
    "\n",
    "    return(SAProvinPop)\n"
   ]
  },
  {
   "cell_type": "code",
   "execution_count": 15,
   "metadata": {},
   "outputs": [
    {
     "name": "stdout",
     "output_type": "stream",
     "text": [
      "updating data\n"
     ]
    }
   ],
   "source": [
    "SAProvPop = get_SA_Prov_Pop('y')"
   ]
  },
  {
   "cell_type": "code",
   "execution_count": 16,
   "metadata": {},
   "outputs": [
    {
     "data": {
      "text/plain": [
       "<matplotlib.axes._subplots.AxesSubplot at 0x7fd3be461b70>"
      ]
     },
     "execution_count": 16,
     "metadata": {},
     "output_type": "execute_result"
    },
    {
     "data": {
      "image/png": "[encoded data removed]",
      "text/plain": [
       "<Figure size 864x720 with 1 Axes>"
      ]
     },
     "metadata": {
      "needs_background": "light"
     },
     "output_type": "display_data"
    }
   ],
   "source": [
    "SAProvPop.plot(kind='bar',x='Province',y='Pop')"
   ]
  },
  {
   "cell_type": "markdown",
   "metadata": {},
   "source": [
    "## Getting the Rt calculate values for each province"
   ]
  },
  {
   "cell_type": "code",
   "execution_count": 17,
   "metadata": {},
   "outputs": [],
   "source": [
    "#\n",
    "# Taken from Felix updated notebook\n",
    "#\n",
    "def get_Rt_lm(DFSeries):\n",
    "    '''\n",
    "    This function will calculate the value of Rt for a series.\n",
    "    In order to calculate R0 we can adapt this \n",
    "    https://en.wikipedia.org/wiki/Basic_reproduction_number#Estimation_methods\n",
    "\n",
    "    Reminder: Rt = R0 when no intervention has been applied and there is mixing\n",
    "    \n",
    "    usage get_Rt(pandas_series)\n",
    "    \n",
    "    Input:\n",
    "        Take in a pandas series with time and value\n",
    "    Output:\n",
    "        Return the value of R0\n",
    "    In addition we use a different fitting approach than above\n",
    "    '''\n",
    "    import numpy as np\n",
    "    from lmfit import minimize, Parameters, report_fit # added by [NO]\n",
    "    \n",
    "    params = Parameters()\n",
    "    params.add('a', value=0.)\n",
    "    params.add('b', value=0.)\n",
    "    def get_residuals(params, x, data):\n",
    "      a=params['a'].value\n",
    "      b=params['b'].value\n",
    "      model = a * np.exp(b*x)\n",
    "      return data - model\n",
    "    x = np.arange(len(DFSeries))\n",
    "    data = list(DFSeries.values)\n",
    "    out = minimize(get_residuals,params, args = (x,data))\n",
    "    a = out.params['a'].value\n",
    "    b = out.params['b'].value\n",
    "    sigma_b = out.params['b'].stderr\n",
    "    \n",
    "    #a = LogisticFit[0][0]\n",
    "    #b = LogisticFit[0][1] # This is also known as K from description in Wikipedia\n",
    "    #\n",
    "    # The dooubling rate is given by T_d\n",
    "    #\n",
    "    T_d = np.log(2)/b \n",
    "    #\n",
    "    # We will use the imperial value for tau, this can change later\n",
    "    #\n",
    "    tau = 5.1 \n",
    "    sigma_Rt = (np.exp(b*tau)) * (np.sinh(tau*sigma_b)) #obtaining error for Rt based on error in b\n",
    "    Rt = np.mean(np.exp(b*tau))\n",
    "    \n",
    "    #report_fit(out) # added by [NO]\n",
    "    \n",
    "    return (Rt , sigma_Rt)"
   ]
  },
  {
   "cell_type": "code",
   "execution_count": 18,
   "metadata": {},
   "outputs": [],
   "source": [
    "# To updated Rt based on the exponential fit parameters we run this function after updating the dataframes\n",
    "Recent_prov_Rt = {i: get_Rt_lm(ProvinConf.tail(14)[i]) for i in ProvinConf.columns}"
   ]
  },
  {
   "cell_type": "code",
   "execution_count": 21,
   "metadata": {},
   "outputs": [
    {
     "data": {
      "text/plain": [
       "{'EC': (1.3221295554208243, 0.009041033135357705),\n",
       " 'FS': (1.2642614395548462, 0.014268026278152135),\n",
       " 'GP': (1.2922144338622958, 0.006655927360490546),\n",
       " 'KZN': (1.2214001591152501, 0.016032211671960787),\n",
       " 'LP': (1.2632518690412604, 0.01597968584998862),\n",
       " 'MP': (1.1761927247857884, 0.012054249383896917),\n",
       " 'NC': (1.533976988801196, 0.046686690908126834),\n",
       " 'NW': (1.9601342748376813, 0.09472253885896699),\n",
       " 'WC': (1.3262619342995963, 0.006355002513901561),\n",
       " 'UNKNOWN': (1.4689201337498605, 0.9328316707093344),\n",
       " 'Confirmed': (1.3144026798541677, 0.005523518872580347)}"
      ]
     },
     "execution_count": 21,
     "metadata": {},
     "output_type": "execute_result"
    }
   ],
   "source": [
    "Recent_prov_Rt"
   ]
  },
  {
   "cell_type": "code",
   "execution_count": null,
   "metadata": {},
   "outputs": [],
   "source": []
  },
  {
   "cell_type": "markdown",
   "metadata": {},
   "source": [
    "# SEAI8R"
   ]
  },
  {
   "cell_type": "markdown",
   "metadata": {},
   "source": [
    "## Description of the model: "
   ]
  },
  {
   "cell_type": "markdown",
   "metadata": {},
   "source": [
    "\n",
    "![Screenshot_2020-05-13_at_13.54.00](https://gitlab.com/camsofties/covid19//uploads/55279e434788919018151d4793bb11f0/Screenshot_2020-05-13_at_13.54.00.png)\n"
   ]
  },
  {
   "cell_type": "markdown",
   "metadata": {},
   "source": [
    "In this model we are still using an SIR except that we added an Exposed (E), Activated (A) compartment.\n",
    "\n",
    "- The activated compartment holds the population of cases that are asymptomatic and infectious.\n",
    "\n",
    "The following parameters are used in this model:\n",
    "\n",
    "* $\\alpha$ (fraction of asymptomatic infectives), \n",
    "* $\\beta$ (probability of infection on contact), \n",
    "* $\\gamma_{I_a}$ (rate of recovery for asymptomatic infected individuals), \n",
    "* $\\gamma_{I_s}$ (rate of recovery for symptomatic infected individuals), \n",
    "* $\\gamma_\\mathrm{E}$ (rate of exposed -> activated), \n",
    "* $\\gamma_\\mathrm{A}$ (rate of activated -> infected, symptomatic or asymptomatic)\n",
    "* $\\mathrm{hh}$ (rate of infected -> hospitalised)\n"
   ]
  },
  {
   "cell_type": "markdown",
   "metadata": {},
   "source": [
    "\n",
    "# Doing a more complex model now pyross.deterministic.SEAI8R for ZA\n"
   ]
  },
  {
   "cell_type": "markdown",
   "metadata": {},
   "source": [
    "## 1 - Define model"
   ]
  },
  {
   "cell_type": "code",
   "execution_count": null,
   "metadata": {},
   "outputs": [],
   "source": [
    "PyROSSPATH = pyross.__path__[0]"
   ]
  },
  {
   "cell_type": "code",
   "execution_count": null,
   "metadata": {},
   "outputs": [],
   "source": [
    "PyROSSPATH"
   ]
  },
  {
   "cell_type": "code",
   "execution_count": null,
   "metadata": {},
   "outputs": [],
   "source": [
    "!pwd"
   ]
  },
  {
   "cell_type": "code",
   "execution_count": null,
   "metadata": {},
   "outputs": [],
   "source": [
    "PyROSSAgePATH = '/home/ubuntu/DS/COVID/pyross/examples/data/age_structures/'"
   ]
  },
  {
   "cell_type": "markdown",
   "metadata": {},
   "source": [
    "### 1.1 - Set up age group"
   ]
  },
  {
   "cell_type": "code",
   "execution_count": null,
   "metadata": {},
   "outputs": [],
   "source": [
    "def AgeClass(AgeMat, ToDoAge):\n",
    "    '''\n",
    "    This function will return the Age matrix\n",
    "    Input:\n",
    "        M - number of age classes\n",
    "        AgeMat - matrix holding the age classes\n",
    "    OutPut:\n",
    "        N - total population is the size of this age group\n",
    "    '''\n",
    "    #\n",
    "    # population and age classes\n",
    "    #\n",
    "    if ToDoAge:\n",
    "        \n",
    "        print(\"#####\\n Age classes has been selected \\n#####\")\n",
    "        M     = len(AgeMat)                           # number of age classes, here taking all 21\n",
    "        Ni    = AgeMat['M'].values+AgeMat['F'].values # aM, aF - age male and age female\n",
    "        Ni    = Ni[0:M]                               # Give the total population in each age group\n",
    "        N     = np.sum(Ni)                            # Getting the total population of country\n",
    "\n",
    "    else:\n",
    "        print(\"#####\\n NO age classes has been selected \\n#####\")\n",
    "        M     = 1                                     # Number of compartments of individual for each class,\n",
    "                                                      # the SIR model has no age structure for now\n",
    "        Ni    = NZA*np.ones(M)                        # Initial number in each compartment and class\n",
    "        N     = np.sum(Ni)                            # and the total population is the size of this age group\n",
    "    \n",
    "    return(M, Ni, N)"
   ]
  },
  {
   "cell_type": "code",
   "execution_count": null,
   "metadata": {},
   "outputs": [],
   "source": [
    "#\n",
    "# loading ZAage structure, if not available locally will pull from the github repo\n",
    "#\n",
    "try:\n",
    "    AgeZA = pd.read_csv(PyROSSAgePATH+'SouthAfrica-2019.csv')\n",
    "except:\n",
    "    print(\"Loading data from github repo\")\n",
    "    URL = 'https://raw.githubusercontent.com/ifornax/Covid19/master/SouthAfrica-2019.csv'\n",
    "    AgeZA = pd.read_csv(wget.download(URL, out='SouthAfrica-2019.csv'),header=None)\n",
    "\n",
    "M, Ni, N = AgeClass(AgeZA, False)"
   ]
  },
  {
   "cell_type": "code",
   "execution_count": null,
   "metadata": {},
   "outputs": [],
   "source": [
    "print(f\"Number of classes = {M} \\nNumber Population in each age group {Ni[0]} \\nTotal population is {N}\")"
   ]
  },
  {
   "cell_type": "code",
   "execution_count": null,
   "metadata": {},
   "outputs": [],
   "source": []
  },
  {
   "cell_type": "markdown",
   "metadata": {},
   "source": [
    "### 1.2 - Set up the contact Matrix"
   ]
  },
  {
   "cell_type": "code",
   "execution_count": null,
   "metadata": {},
   "outputs": [],
   "source": [
    "ToDoContact = False\n",
    "#\n",
    "# ToDo a contactmatrix for SouthAfrica provinces\n",
    "#\n",
    "# pyross.contactMatrix.ContactMatrixFunction?\n",
    "# CH:  constant matrix at home\n",
    "# CW:  constant matrix at work\n",
    "# CS:  constant matrix at school\n",
    "# CO:  constant matrix at other locations\n",
    "#\n",
    "\n",
    "Tf = 240                              # reference trajectory is 240 days long\n",
    "Nf = 600                     \n",
    "times = [21, Tf]                      # temporal boundaries between different contact-behaviour\n",
    "\n",
    "\n",
    "if ToDoContact:\n",
    "    #\n",
    "    # Get individual contact matrices\n",
    "    #\n",
    "    #CH, CW, CS, CO = pyross.contactMatrix.India()\n",
    "    url = 'https://raw.githubusercontent.com/sillsphelyx/Pyross-SA-contact-matrices/master/CH.csv'\n",
    "    CH = np.genfromtxt((wget.download(url, out = 'CH.csv')),delimiter = ',' ,skip_header = 0)\n",
    "    url = 'https://raw.githubusercontent.com/sillsphelyx/Pyross-SA-contact-matrices/master/CH.csv'\n",
    "    CW = np.genfromtxt((wget.download(url, out = 'CW.csv')),delimiter = ',' ,skip_header = 0)\n",
    "    url = 'https://raw.githubusercontent.com/sillsphelyx/Pyross-SA-contact-matrices/master/CH.csv'\n",
    "    CS = np.genfromtxt((wget.download(url, out = 'CS.csv')),delimiter = ',' ,skip_header = 0)\n",
    "    url = 'https://raw.githubusercontent.com/sillsphelyx/Pyross-SA-contact-matrices/master/CH.csv'\n",
    "    CO = np.genfromtxt((wget.download(url, out = 'CO.csv')),delimiter = ',' ,skip_header = 0)\n",
    "\n",
    "    #\n",
    "    # Generate class with contact matrix for SIR model with South Africa contact structure\n",
    "    #\n",
    "    generator = pyross.contactMatrix.ContactMatrixFunction(CH, CW, CS, CO)\n",
    "\n",
    "\n",
    "    aW, aS, aO = 0.3, 0.2, 0.8\n",
    "\n",
    "    # prefactors for CW, CS, CO:\n",
    "    interventions = [[1.0,1.0,1.0],      # before first time\n",
    "                     [aW, aS, aO],       # between first and second time\n",
    "                    ]         \n",
    "\n",
    "    # generate corresponding contact matrix function\n",
    "    contactMatrix = generator.interventions_temporal(times=times,interventions=interventions)\n",
    "    \n",
    "else:\n",
    "    def contactMatrix(t):   \n",
    "        return np.identity(M)"
   ]
  },
  {
   "cell_type": "code",
   "execution_count": null,
   "metadata": {},
   "outputs": [],
   "source": []
  },
  {
   "cell_type": "markdown",
   "metadata": {},
   "source": [
    "### 1.3 - Parameters of trajectory"
   ]
  },
  {
   "cell_type": "code",
   "execution_count": null,
   "metadata": {},
   "outputs": [],
   "source": [
    "#\n",
    "# Model parameters set up\n",
    "#\n",
    "alpha = 0.75                 # fraction of infected who are asymptomatic\n",
    "\n",
    "#beta  = 0.5                # Uncomment to use infection rate for South Africa from \n",
    "                            # https://www.medrxiv.org/content/10.1101/2020.04.18.20070771v2\n",
    "                            # beta = Rt/tinf\n",
    "Rt    = 2.4                 # using the value we used in our original model\n",
    "tinf  = 6.1                 # infectious time\n",
    "beta  = Rt/tinf\n",
    "\n",
    "#gE    = 1./2.72            # rate of removal of Exposed\n",
    "gE    = 1./5.1              # rate of removal of Exposed, aka 1/t_incu \n",
    "gA    = 1./3.12             # rate of removal of Activated\n",
    "gIa   = 1./7.               # rate of removal of asymptomatic infectives \n",
    "gIs   = 1./4.82             # rate of removal of symptomatic infectives \n",
    "\n",
    "fsa   = 1.                  # the self-isolation parameter   \n",
    "fh    = 0.2                 # fraction by which hospitalised individuals are isolated\n",
    "gIh   = 1./10.              # rate of removal for hospitalised individuals\n",
    "gIc   = 1./10.              # rate of removal for idividuals in intensive care\n",
    " \n",
    "gIsp  = 1./7.               # rate of removal from symptomatic individuals towards buffer\n",
    "gIhp  = 1./7.               # rate of removal from hospitalised individuals towards buffer\n",
    "gIcp  = 1./7.               # rate of removal from ICU individuals towards buffer"
   ]
  },
  {
   "cell_type": "code",
   "execution_count": null,
   "metadata": {},
   "outputs": [],
   "source": [
    "#\n",
    "# The following parameters are not varying for now\n",
    "#"
   ]
  },
  {
   "cell_type": "code",
   "execution_count": null,
   "metadata": {},
   "outputs": [],
   "source": [
    "sa   = 0.2*np.ones(M)       # daily arrival of new susceptables - \n",
    "                            # sa is rate of additional/removal of population by birth etc\n",
    "hh   = 0.1*np.ones(M)       # fraction which goes from Is to hospital\n",
    "cc   = 0.05*np.ones(M)      # fraction sent to ICU from hospitalised\n",
    "mm   = 0.8*np.ones(M)       # mortality rate in ICU, aka IFR !!!"
   ]
  },
  {
   "cell_type": "markdown",
   "metadata": {},
   "source": [
    "\n",
    "### 1.4 - Initial conditions    \n"
   ]
  },
  {
   "cell_type": "code",
   "execution_count": null,
   "metadata": {},
   "outputs": [],
   "source": [
    "\n",
    "DateToStart = '2020-05-01'     # Date to start the prediction \n"
   ]
  },
  {
   "cell_type": "code",
   "execution_count": null,
   "metadata": {},
   "outputs": [],
   "source": [
    "\n",
    "#E_0   = np.zeros((M))\n",
    "\n",
    "A_0   = np.zeros((M))\n",
    "\n",
    "#Ia_0  = 1000*np.ones((M))            # assume 1000 asymptomatic cases \n",
    "                                      # 5-80% https://www.cebm.net/covid-19/covid-19-what-proportion-are-asymptomatic/\n",
    "frac_asymptomatic = alpha\n",
    "\n",
    "#n_tested_active   = 4502              # total cases - recovered: 5951 - 2498\n",
    "n_tested_active   = ProvinConf[ProvinConf.index == DateToStart]['Confirmed'].values[0]- \\\n",
    "                    ProvinRecover[ProvinRecover.index == DateToStart]['Recovered'].values[0]\n",
    "Ia_0              = (n_tested_active * (1/(1-frac_asymptomatic)))*np.ones((M)) \n",
    "\n",
    "\n",
    "E_0   = Ia_0 * 1.7                     # (R_t^(time from infection to test)/t_inf ~ 2)*n_infected\n",
    "\n",
    "#Is_0  = np.zeros((M))                 # initial symptomatic cases\n",
    "Is_0  = ProvinConf[ProvinConf.index == DateToStart]['Confirmed'].values[0]*np.ones((M))\n",
    "\n",
    "Isp_0 = np.zeros((M))\n",
    "\n",
    "#Ih_0  = np.zeros((M))                 # initial hospitalised cases\n",
    "Ih_0  = 140*np.ones((M))               # can put each province number hereon\n",
    "Ihp_0 = np.zeros((M))\n",
    "\n",
    "#Ic_0  = np.zeros((M))                 # initial icu patients\n",
    "Ic_0  = 70*np.ones((M))                # can put each province number hereon\n",
    "Icp_0 = np.zeros((M))\n",
    "\n",
    "#Im_0  = np.zeros((M))                 # initial mortality cases\n",
    "Im_0  = ProvinDead[ProvinDead.index == DateToStart]['Dead'].values[0]*np.ones((M))\n",
    "\n",
    "#R_0   = np.zeros((M))                 # assume no removed individuals\n",
    "#n_recovered = (n_total_cases - n_tested_active) * (1/(1-frac_asymptomatic))\n",
    "R_0   = (ProvinConf[ProvinConf.index == DateToStart]['Confirmed'].values[0] - n_tested_active)*\\\n",
    "        (1/(1-frac_asymptomatic))*np.ones(M)\n",
    "\n",
    "S_0   = Ni - (E_0 + A_0 + Ia_0 + Is_0 + Isp_0+ Icp_0+ Ihp_0 + Ih_0 + Ic_0  + R_0)\n"
   ]
  },
  {
   "cell_type": "markdown",
   "metadata": {},
   "source": [
    "## 2 - Use pyross to generate model"
   ]
  },
  {
   "cell_type": "markdown",
   "metadata": {},
   "source": [
    "- In or model we are interested in the population of cases which are critical, we can either use a SEAI8R or SEA5IR\n",
    "- The major differences is that the SEAI8R model has 3 ganular compartments of Symptomatic, Hospitalised and ICU\n",
    "cases that recover. Each will have a separate compartment.\n",
    "\n",
    "- We will look at both the SEAI8R and SEAI5R model"
   ]
  },
  {
   "cell_type": "markdown",
   "metadata": {},
   "source": [
    "### 2.1 - SEAI8R model (This is for testing and adapting)"
   ]
  },
  {
   "cell_type": "code",
   "execution_count": null,
   "metadata": {},
   "outputs": [],
   "source": [
    "#\n",
    "# intantiate model\n",
    "#\n",
    "parameters = {'alpha':alpha,'beta':beta, 'gIa':gIa,'gIs':gIs,\n",
    "              'gIh':gIh,'gIc':gIc,  'gE':gE, 'gA':gA,\n",
    "              'fsa':fsa, 'fh':fh, 'gIsp':gIsp, 'gIcp':gIcp, 'gIhp':gIhp,\n",
    "              'sa':sa, 'hh':hh, 'cc':cc, 'mm':mm}\n",
    "model = pyross.deterministic.SEAI8R(parameters, M, Ni)\n",
    "data  = model.simulate(S_0, E_0, A_0, Ia_0, Is_0, Isp_0, Ih_0, \n",
    "                       Ih_0, Ic_0, Icp_0, Im_0, contactMatrix, Tf, Nf)\n",
    "data_array = data['X']\n",
    "np.save('Deterministic_Trajectory.npy', data_array) # this is needed in the inference part later"
   ]
  },
  {
   "cell_type": "markdown",
   "metadata": {},
   "source": [
    "### 2.1.1 - Intermediate SEAI8R visualization"
   ]
  },
  {
   "cell_type": "code",
   "execution_count": null,
   "metadata": {},
   "outputs": [],
   "source": [
    "#\n",
    "# plot the stochastic solution \n",
    "#\n",
    "fig,ax = plt.subplots(1,1, dpi=80, facecolor='w', edgecolor='k')\n",
    "\n",
    "S = model.S(data);\n",
    "E = model.E(data);\n",
    "A = model.A(data);\n",
    "\n",
    "Ia = model.Ia(data);\n",
    "Is = model.Is(data);\n",
    "Im = model.Im(data);\n",
    "Ih = model.Ih(data);\n",
    "Ic = model.Ic(data);\n",
    "\n",
    "Itotal = Ia+Is\n",
    "\n",
    "R = model.R(data);\n",
    "\n",
    "#cases = (inf + rec + hosp + crit + death)\n",
    "TotalCases = (Is + R + Ih + Im)\n",
    "\n",
    "#ax.plot(data['t'], S.sum(axis=1), lw=3, label='S - Suceptible')\n",
    "#ax.plot(data['t'], E.sum(axis=1), lw=3, label='E - Exposed')\n",
    "#ax.plot(data['t'], A.sum(axis=1), lw=3, label='A - Activated')\n",
    "#ax.plot(data['t'], Ia.sum(axis=1), lw=3, label='Ia - Infected Asymptomatic')\n",
    "#ax.plot(data['t'], Is.sum(axis=1), lw=3, label='Is - Infected Symptomatic')\n",
    "ax.plot(data['t'], Im.sum(axis=1), lw=3, label='Im - Fatality')\n",
    "ax.plot(data['t'], Ih.sum(axis=1), lw=3, label='Ih - Hospitalised')\n",
    "ax.plot(data['t'], Ic.sum(axis=1), lw=3, label='Ic - Critical/ICU')\n",
    "#ax.plot(data['t'], Itotal.sum(axis=1), lw=3, label='It - Total Infected')\n",
    "#ax.plot(data['t'], R.sum(axis=1), lw=3, label='R - Total Recovered')\n",
    "ax.plot(data['t'], TotalCases.sum(axis=1), lw=3, label='Cases - Total Cases')\n",
    "\n",
    "\n",
    "ax.set_xlabel(f\"Time [No. days from {DateToStart}]\")\n",
    "ax.set_ylabel('Populations')\n",
    "#ax.set_title('SEAI8R model')\n",
    "\n",
    "#ax2 = ax.twiny()\n",
    "#ax2.set_xlabel(\"Date\")\n",
    "    \n",
    "ax.legend(loc='upper center', bbox_to_anchor=(0.5, 1.15),ncol=3, fancybox=True, shadow=True)\n",
    "plt.semilogy()\n",
    "plt.savefig('PyROSS_SEAI8R_SEIRHCD.png')\n",
    "plt.show()\n",
    "plt.close()"
   ]
  },
  {
   "cell_type": "markdown",
   "metadata": {},
   "source": [
    "### 2.2 - SEAI5R model"
   ]
  },
  {
   "cell_type": "code",
   "execution_count": null,
   "metadata": {},
   "outputs": [],
   "source": [
    "#\n",
    "# intantiate model\n",
    "#\n",
    "parameters = {'alpha':alpha,'beta':beta, 'gIa':gIa,'gIs':gIs,\n",
    "              'gIh':gIh,'gIc':gIc,  'gE':gE, 'gA':gA,\n",
    "              'fsa':fsa, 'fh':fh, 'gIsp':gIsp, 'gIcp':gIcp, 'gIhp':gIhp,\n",
    "              'sa':sa, 'hh':hh, 'cc':cc, 'mm':mm}\n",
    "model = pyross.deterministic.SEAI5R(parameters, M, Ni)\n",
    "data  = model.simulate(S_0, E_0, A_0, Ia_0, Is_0, Ih_0, Ic_0, Im_0, contactMatrix, Tf, Nf)\n",
    "data_array = data['X']\n",
    "np.save('SEAI5R_Deterministic_Trajectory.npy', data_array) # this is needed in the inference part later"
   ]
  },
  {
   "cell_type": "code",
   "execution_count": null,
   "metadata": {},
   "outputs": [],
   "source": [
    "for key in data.keys():\n",
    "    print(key)"
   ]
  },
  {
   "cell_type": "code",
   "execution_count": null,
   "metadata": {},
   "outputs": [],
   "source": [
    "#\n",
    "# plot the stochastic solution \n",
    "#\n",
    "fig,ax = plt.subplots(1,1, dpi=80, facecolor='w', edgecolor='k')\n",
    "\n",
    "S = model.S(data);\n",
    "E = model.E(data);\n",
    "A = model.A(data);\n",
    "\n",
    "Ia = model.Ia(data);\n",
    "Is = model.Is(data);\n",
    "Im = model.Im(data);\n",
    "Ih = model.Ih(data);\n",
    "Ic = model.Ic(data);\n",
    "\n",
    "R = model.R(data);\n",
    "#\n",
    "# TotalCases = (inf + rec + hosp + crit + death)\n",
    "#\n",
    "TotalCases = (Is + R + Ih + Im)\n",
    "\n",
    "#ax.plot(data['t'], S.sum(axis=1), lw=3, label='S - Suceptible')\n",
    "#ax.plot(data['t'], E.sum(axis=1), lw=3, label='E - Exposed')\n",
    "#ax.plot(data['t'], A.sum(axis=1), lw=3, label='A - Activated')\n",
    "#ax.plot(data['t'], Ia.sum(axis=1), lw=3, label='Ia - Infected Asymptomatic')\n",
    "#ax.plot(data['t'], Is.sum(axis=1), lw=3, label='Is - Infected Symptomatic')\n",
    "ax.plot(data['t'], Im.sum(axis=1), lw=3, label='Im - Fatality')\n",
    "ax.plot(data['t'], Ih.sum(axis=1), lw=3, label='Ih - Hospitalised')\n",
    "ax.plot(data['t'], Ic.sum(axis=1), lw=3, label='Ic - Critical/ICU')\n",
    "#ax.plot(data['t'], Itotal.sum(axis=1), lw=3, label='It - Total Infected')\n",
    "#ax.plot(data['t'], R.sum(axis=1), lw=3, label='R - Total Recovered')\n",
    "ax.plot(data['t'], TotalCases.sum(axis=1), lw=3, label='Cases - Total Cases')\n",
    "\n",
    "\n",
    "ax.set_xlabel(f\"Time [No. days from {DateToStart}]\")\n",
    "ax.set_ylabel('Populations')\n",
    "#ax.set_title('SEAI8R model')\n",
    "\n",
    "#ax2 = ax.twiny()\n",
    "#ax2.set_xlabel(\"Date\")\n",
    "    \n",
    "ax.legend(loc='upper center', bbox_to_anchor=(0.5, 1.15),ncol=3, fancybox=True, shadow=True)\n",
    "plt.semilogy()\n",
    "plt.savefig('PyROSS_SEAI5R_SEIRHCD.png')\n",
    "plt.show()\n",
    "plt.close()"
   ]
  },
  {
   "cell_type": "markdown",
   "metadata": {},
   "source": [
    "# Below this cell can be very computer intensive "
   ]
  },
  {
   "cell_type": "markdown",
   "metadata": {},
   "source": [
    "### Here we, will create and array with the parameters from an ensemble similar to what we did for the National model."
   ]
  },
  {
   "cell_type": "code",
   "execution_count": null,
   "metadata": {},
   "outputs": [],
   "source": [
    "#\n",
    "# Model parameters set up, each parameter names will be a column and the number of ensemble will be the rows\n",
    "#\n",
    "def ToEnsemble(NoIteration, ProvinceRt):\n",
    "\n",
    "    alpha  = []\n",
    "    Rt     = [] ; tinf   = [] ; beta   = []\n",
    "    t_incu = []\n",
    "    gE     = []; gA     = []; gIa    = []; gIs    = []\n",
    "    fsa    = []; fh     = []\n",
    "    gIh    = []; gIc    = []; gIsp   = []; gIhp   = []; gIcp   = []\n",
    "\n",
    "    for i in range(NoIteration):\n",
    "\n",
    "        alpha_tmp = np.minimum(0.96, np.random.normal(0.75, 0.15))\n",
    "        alpha.append(alpha_tmp)                         # fraction of infected who are asymptomatic\n",
    "\n",
    "        #beta  = 0.5                               # Uncomment to use infection rate for South Africa from \n",
    "                                                   # https://www.medrxiv.org/content/10.1101/2020.04.18.20070771v2\n",
    "                                                   # beta = Rt/tinf\n",
    "        Rt_tmp = ProvinceRt*np.random.normal(1.0, 0.03)\n",
    "        Rt.append(Rt_tmp)                          # using the value we used in our original model\n",
    "\n",
    "        tinf_tmp = np.maximum(2, np.random.normal(8.15, 1.15))\n",
    "        tinf.append(tinf_tmp)                      # infectious time\n",
    "        beta.append(Rt_tmp/tinf_tmp)\n",
    "\n",
    "        t_incu_tmp = 5.1\n",
    "        t_incu.append(t_incu_tmp)\n",
    "        gE.append(1./t_incu_tmp)                   # rate of removal of Exposed, aka 1/t_incu \n",
    "\n",
    "        gA_tmp = 3.12\n",
    "        gA.append(1./gA_tmp)                       # rate of removal of Activated\n",
    "        gIa_tmp = 7.\n",
    "        gIa.append(1./gIa_tmp)                     # rate of removal of asymptomatic infectives \n",
    "        gIs_tmp = 4.82\n",
    "        gIs.append(1./gIs_tmp)                     # rate of removal of symptomatic infectives \n",
    "\n",
    "\n",
    "        fsa    = 1.                                # the self-isolation parameter   \n",
    "        fh     = 0.2                               # fraction by which hospitalised individuals are isolated\n",
    "\n",
    "        gIh_tmp = np.maximum(3, np.random.normal(10.4, 4))\n",
    "        gIh.append(1./gIh_tmp)                     # rate of removal for hospitalised individuals\n",
    "        gIc_tmp = np.maximum(3, np.random.normal(10.4, 4))\n",
    "        gIc.append(1./gIc_tmp)                     # rate of removal for idividuals in intensive care\n",
    "\n",
    "        gIsp_tmp = 7.\n",
    "        gIsp.append(1./gIsp_tmp)                   # rate of removal from symptomatic individuals towards buffer\n",
    "\n",
    "        gIhp_tmp = np.maximum(3, np.random.normal(10.4, 4))\n",
    "        gIhp.append(1./gIhp_tmp)                   # rate of removal from hospitalised individuals towards buffer\n",
    "\n",
    "        gIcp_tmp = np.maximum(3, np.random.normal(10, 2))\n",
    "        gIcp.append(1./gIcp_tmp)                   # rate of removal from ICU individuals towards buffer\n",
    "\n",
    "\n",
    "    ModelParamDf = pd.DataFrame({'alpha':alpha,'Rt': Rt, 'tinf': tinf, 'beta':beta, 't_incu':t_incu,\n",
    "                                 'gE': gE, 'gA': gA, 'gIa':gIa, 'gIs':gIs,'fsa':fsa, \n",
    "                                 'fh':fh, 'gIh':gIh,'gIc':gIc, 'gIsp':gIsp, 'gIhp':gIhp, \n",
    "                                 'gIcp':gIcp}, \n",
    "                                columns = ['alpha', 'Rt', 'tinf', 'beta', 't_incu', \n",
    "                                           'gE', 'gA', 'gIa', 'gIs', 'fsa', 'fh', 'gIh',\n",
    "                                           'gIc', 'gIsp', 'gIhp', 'gIcp'])\n",
    "    return(ModelParamDf)"
   ]
  },
  {
   "cell_type": "code",
   "execution_count": null,
   "metadata": {},
   "outputs": [],
   "source": [
    "#\n",
    "# This is testing for National values, change Rt initial if required\n",
    "# \n",
    "Nums = 1000\n",
    "ParamDf = ToEnsemble(Nums, ProvinceRt=2.4)\n"
   ]
  },
  {
   "cell_type": "code",
   "execution_count": null,
   "metadata": {},
   "outputs": [],
   "source": [
    "ParamDf.head()"
   ]
  },
  {
   "cell_type": "code",
   "execution_count": null,
   "metadata": {},
   "outputs": [],
   "source": [
    "ParamDf.Rt.plot(kind='hist',bins=25)"
   ]
  },
  {
   "cell_type": "markdown",
   "metadata": {},
   "source": [
    "## Setting the initial conditions based on the sensemble "
   ]
  },
  {
   "cell_type": "code",
   "execution_count": null,
   "metadata": {},
   "outputs": [],
   "source": [
    "def ToPlot(ArrayToPlot, TimeArray, title):\n",
    "    '''\n",
    "    \n",
    "    This function will take the prediction array and produce the plots similar to the ones we have used in our report\n",
    "    \n",
    "    '''\n",
    "    \n",
    "    S = ArrayToPlot[:,:,0]\n",
    "    E = ArrayToPlot[:,:,1]\n",
    "    A = ArrayToPlot[:,:,2]\n",
    "    Ia = ArrayToPlot[:,:,3]\n",
    "    Is = ArrayToPlot[:,:,4]\n",
    "    Ih = ArrayToPlot[:,:,5]\n",
    "    Ic = ArrayToPlot[:,:,6]\n",
    "    Im = ArrayToPlot[:,:,7]\n",
    "    R = ArrayToPlot[:,:,8]\n",
    "\n",
    "    TotalCases = (Ia + Is + Ih + Ic + Im)\n",
    "\n",
    "    Time = data['t']\n",
    "\n",
    "    #StartDate = datetime.strptime(DateToStart, \"%Y-%m-%d\")\n",
    "    #datelist = pd.date_range(StartDate, periods=Tf).tolist()\n",
    "\n",
    "    fig, ((ax1, ax2), (ax3, ax4)) = plt.subplots(2, 2, figsize=(16,12))\n",
    "\n",
    "    #title='PyRoss SEI5R Model'\n",
    "    # set uniform characteristics for axes\n",
    "    for idx, axis in enumerate([ax1, ax2, ax3, ax4]):\n",
    "        axis.set_ylim(ymin=10, ymax=NZA*1.2)\n",
    "        axis.set_xlim(0, Tf)\n",
    "        axis.set_yscale('log')\n",
    "        axis.tick_params(axis='y', labelsize=15);\n",
    "        axis.hlines([1e+03, 1e+04, 1e+05, 1e+06], xmin=0, xmax=Tf, linestyles='dotted', alpha = 0.6);\n",
    "\n",
    "\n",
    "    for i in range(len(ArrayToPlot)):\n",
    "        ax1.plot(TimeArray, Ic[i,:], 'tab:orange', alpha=0.1, label='Ic - Critical/ICU')\n",
    "        ax2.plot(TimeArray, Im[i,:], 'tab:red', alpha=0.1, label='Im - Fatality')\n",
    "        ax3.plot(TimeArray, Ih[i,:], 'dodgerblue', alpha=0.1, label='Ih - Hospitalised')\n",
    "        ax4.plot(TimeArray, TotalCases[i,:], 'tab:blue', alpha=0.1, label='Cases - Total Cases')\n",
    "\n",
    "    #ax2.plot(ProvinDead[ProvinDead.index >= DateToStart]['Dead'].values, 'k', lw=3)\n",
    "\n",
    "    fig.suptitle(title, fontsize=16)\n",
    "\n",
    "    ax1.set_title(\"Individuals in Critical State\")\n",
    "    ax2.set_title(\"Fatalities\")\n",
    "    ax3.set_title(\"Individuals in Hospital\")\n",
    "    ax4.set_title((\"Cumulative Total Cases\"))\n",
    "\n",
    "\n",
    "    ax1.set_ylabel('Populations')\n",
    "    ax3.set_ylabel('Populations')\n",
    "    ax3.set_xlabel(f\"Time [No. days from {DateToStart}]\")\n",
    "    ax4.set_xlabel(f\"Time [No. days from {DateToStart}]\")\n",
    "\n",
    "    return()"
   ]
  },
  {
   "cell_type": "code",
   "execution_count": null,
   "metadata": {},
   "outputs": [],
   "source": [
    "#\n",
    "# Now instantiate model again \n",
    "#"
   ]
  },
  {
   "cell_type": "code",
   "execution_count": null,
   "metadata": {},
   "outputs": [],
   "source": [
    "\n",
    "NoCompartment = 9\n",
    "trajectories_s = np.zeros([Nums,Nf,9*M],dtype=float)\n",
    "\n",
    "for i in range(Nums):\n",
    "    print('Running simulation {0} of {1}'.format(i+1,Nums),end='\\r')\n",
    "    #\n",
    "    # intantiate model\n",
    "    #\n",
    "  \n",
    "    A_0   = np.zeros((M))\n",
    "\n",
    "    #\n",
    "    #Ia_0  initial asymptomatic cases\n",
    "    #\n",
    "                                          \n",
    "    frac_asymptomatic = ParamDf['alpha'].values[i] # 5-80% https://www.cebm.net/covid-19/covid-19-what-proportion-are-asymptomatic/\n",
    "    \n",
    "    #\n",
    "    # total cases - recovered: 5951 - 2498\n",
    "    #\n",
    "    n_tested_active   = ProvinConf[ProvinConf.index == DateToStart]['Confirmed'].values[0]- \\\n",
    "                        ProvinRecover[ProvinRecover.index == DateToStart]['Recovered'].values[0]\n",
    "    \n",
    "    Ia_0              = (n_tested_active * (1/(1-frac_asymptomatic)))*np.ones((M)) \n",
    "\n",
    "    E_0   = Ia_0 * 1.7                     # (R_t^(time from infection to test)/t_inf ~ 2)*n_infected\n",
    "\n",
    "    #\n",
    "    # initial symptomatic cases\n",
    "    #\n",
    "    Is_0  = ProvinConf[ProvinConf.index == DateToStart]['Confirmed'].values[0]*np.ones((M))\n",
    "\n",
    "    Isp_0 = np.zeros((M))\n",
    "\n",
    "    #\n",
    "    # initial hospitalised cases\n",
    "    #\n",
    "    Ih_0  = 140*np.ones((M))               \n",
    "    Ihp_0 = np.zeros((M))\n",
    "\n",
    "    #\n",
    "    # initial icu patients\n",
    "    #\n",
    "    Ic_0  = 70*np.ones((M))                \n",
    "    Icp_0 = np.zeros((M))\n",
    "\n",
    "    #\n",
    "    # initial mortality cases\n",
    "    #\n",
    "    Im_0  = ProvinDead[ProvinDead.index == DateToStart]['Dead'].values[0]*np.ones((M))\n",
    "\n",
    "    #\n",
    "    # assume no removed individuals\n",
    "    #\n",
    "    #n_recovered = (n_total_cases - n_tested_active) * (1/(1-frac_asymptomatic))\n",
    "    R_0   = (ProvinConf[ProvinConf.index == DateToStart]['Confirmed'].values[0] - n_tested_active)*\\\n",
    "            (1/(1-frac_asymptomatic))*np.ones(M)\n",
    "\n",
    "    S_0   = Ni - (E_0 + A_0 + Ia_0 + Is_0 + Isp_0+ Icp_0+ Ihp_0 + Ih_0 + Ic_0  + R_0)\n",
    "\n",
    "    parameters = {'alpha':ParamDf['alpha'].values[i],\n",
    "                  'beta' :ParamDf['beta'].values[i], \n",
    "                  'gIa'  :ParamDf['gIa'].values[i],\n",
    "                  'gIs'  :ParamDf['gIs'].values[i],\n",
    "                  'gIh'  :ParamDf['gIh'].values[i],\n",
    "                  'gIc'  :ParamDf['gIc'].values[i],\n",
    "                  'gE'   :ParamDf['gE'].values[i],\n",
    "                  'gA'   :ParamDf['gA'].values[i],\n",
    "                  'fsa'  :ParamDf['fsa'].values[i],\n",
    "                  'fh'   :ParamDf['fh'].values[i], \n",
    "                  'gIsp' :ParamDf['gIsp'].values[i], \n",
    "                  'gIcp' :ParamDf['gIcp'].values[i], \n",
    "                  'gIhp' :ParamDf['gIhp'].values[i],\n",
    "                  'sa':sa, 'hh':hh, 'cc':cc, 'mm':mm}\n",
    "    model = pyross.deterministic.SEAI5R(parameters, M, Ni)\n",
    "    data  = model.simulate(S_0, E_0, A_0, Ia_0, Is_0, Ih_0, Ic_0, Im_0, contactMatrix, Tf, Nf)\n",
    "    trajectories_s[i] = data['X']"
   ]
  },
  {
   "cell_type": "code",
   "execution_count": null,
   "metadata": {},
   "outputs": [],
   "source": [
    "trajectories_s.shape"
   ]
  },
  {
   "cell_type": "code",
   "execution_count": null,
   "metadata": {},
   "outputs": [],
   "source": []
  },
  {
   "cell_type": "markdown",
   "metadata": {},
   "source": [
    "## Run the above model using  WC province here"
   ]
  },
  {
   "cell_type": "code",
   "execution_count": null,
   "metadata": {},
   "outputs": [],
   "source": []
  },
  {
   "cell_type": "code",
   "execution_count": null,
   "metadata": {},
   "outputs": [],
   "source": [
    "## Will make a function to call the model\n",
    "\n",
    "def MyModel(NoIteration, ParamDf, M,  Tf, Nf, Ni):\n",
    "\n",
    "    NoCompartment = 9\n",
    "    trajectories_s = np.zeros([NoIteration,Nf,9*M],dtype=float)\n",
    "\n",
    "    for i in range(NoIteration):\n",
    "        print('Running simulation {0} of {1}'.format(i+1,NoIteration),end='\\r')\n",
    "        #\n",
    "        # intantiate model\n",
    "        #\n",
    "\n",
    "        A_0   = np.zeros((M))\n",
    "\n",
    "        #\n",
    "        #Ia_0  initial asymptomatic cases\n",
    "        #\n",
    "\n",
    "        frac_asymptomatic = ParamDf['alpha'].values[i] # 5-80% https://www.cebm.net/covid-19/covid-19-what-proportion-are-asymptomatic/\n",
    "\n",
    "        #\n",
    "        # total cases - recovered: 5951 - 2498\n",
    "        #\n",
    "        n_tested_active   = ProvinConf[ProvinConf.index == DateToStart]['Confirmed'].values[0]- \\\n",
    "                            ProvinRecover[ProvinRecover.index == DateToStart]['Recovered'].values[0]\n",
    "\n",
    "        Ia_0              = (n_tested_active * (1/(1-frac_asymptomatic)))*np.ones((M)) \n",
    "\n",
    "        E_0   = Ia_0 * 1.7                     # (R_t^(time from infection to test)/t_inf ~ 2)*n_infected\n",
    "\n",
    "        #\n",
    "        # initial symptomatic cases\n",
    "        #\n",
    "        Is_0  = ProvinConf[ProvinConf.index == DateToStart]['Confirmed'].values[0]*np.ones((M))\n",
    "\n",
    "        Isp_0 = np.zeros((M))\n",
    "\n",
    "        #\n",
    "        # initial hospitalised cases\n",
    "        #\n",
    "        Ih_0  = 140*np.ones((M))               \n",
    "        Ihp_0 = np.zeros((M))\n",
    "\n",
    "        #\n",
    "        # initial icu patients\n",
    "        #\n",
    "        Ic_0  = 70*np.ones((M))                \n",
    "        Icp_0 = np.zeros((M))\n",
    "\n",
    "        #\n",
    "        # initial mortality cases\n",
    "        #\n",
    "        Im_0  = ProvinDead[ProvinDead.index == DateToStart]['Dead'].values[0]*np.ones((M))\n",
    "\n",
    "        #\n",
    "        # assume no removed individuals\n",
    "        #\n",
    "        #n_recovered = (n_total_cases - n_tested_active) * (1/(1-frac_asymptomatic))\n",
    "        R_0   = (ProvinConf[ProvinConf.index == DateToStart]['Confirmed'].values[0] - n_tested_active)*\\\n",
    "                (1/(1-frac_asymptomatic))*np.ones(M)\n",
    "\n",
    "        S_0   = Ni - (E_0 + A_0 + Ia_0 + Is_0 + Isp_0+ Icp_0+ Ihp_0 + Ih_0 + Ic_0  + R_0)\n",
    "\n",
    "        parameters = {'alpha':ParamDf['alpha'].values[i],\n",
    "                      'beta' :ParamDf['beta'].values[i], \n",
    "                      'gIa'  :ParamDf['gIa'].values[i],\n",
    "                      'gIs'  :ParamDf['gIs'].values[i],\n",
    "                      'gIh'  :ParamDf['gIh'].values[i],\n",
    "                      'gIc'  :ParamDf['gIc'].values[i],\n",
    "                      'gE'   :ParamDf['gE'].values[i],\n",
    "                      'gA'   :ParamDf['gA'].values[i],\n",
    "                      'fsa'  :ParamDf['fsa'].values[i],\n",
    "                      'fh'   :ParamDf['fh'].values[i], \n",
    "                      'gIsp' :ParamDf['gIsp'].values[i], \n",
    "                      'gIcp' :ParamDf['gIcp'].values[i], \n",
    "                      'gIhp' :ParamDf['gIhp'].values[i],\n",
    "                      'sa':sa, 'hh':hh, 'cc':cc, 'mm':mm}\n",
    "        model = pyross.deterministic.SEAI5R(parameters, M, Ni)\n",
    "        data  = model.simulate(S_0, E_0, A_0, Ia_0, Is_0, Ih_0, Ic_0, Im_0, contactMatrix, Tf, Nf)\n",
    "        trajectories_s[i] = data['X']\n",
    "    \n",
    "    trajectories_time =  data['t']\n",
    "    return(trajectories_s, trajectories_time)"
   ]
  },
  {
   "cell_type": "markdown",
   "metadata": {},
   "source": [
    "# Need to extract the Rt for the province and pass it in the function below"
   ]
  },
  {
   "cell_type": "code",
   "execution_count": null,
   "metadata": {},
   "outputs": [],
   "source": [
    "#\n",
    "# First calculate ParamDf, e.g. using Rt for WC\n",
    "#\n",
    "ParamDf = ToEnsemble(Nums, 2.4)"
   ]
  },
  {
   "cell_type": "code",
   "execution_count": null,
   "metadata": {},
   "outputs": [],
   "source": [
    "#SAProvPop.head"
   ]
  },
  {
   "cell_type": "code",
   "execution_count": null,
   "metadata": {},
   "outputs": [],
   "source": [
    "province = input(f\"Enter province name of [National] from above names {SAProvPop.Province.unique()}\") \n"
   ]
  },
  {
   "cell_type": "code",
   "execution_count": null,
   "metadata": {},
   "outputs": [],
   "source": [
    "if province == 'National':\n",
    "    Ni = np.array([NZA])\n",
    "else:\n",
    "    Ni = SAProvPop[SAProvPop['Province'] == province]['Pop'].values"
   ]
  },
  {
   "cell_type": "code",
   "execution_count": null,
   "metadata": {},
   "outputs": [],
   "source": []
  },
  {
   "cell_type": "code",
   "execution_count": null,
   "metadata": {},
   "outputs": [],
   "source": [
    "print(f\"Total population in {province} = {Ni}\")"
   ]
  },
  {
   "cell_type": "code",
   "execution_count": null,
   "metadata": {},
   "outputs": [],
   "source": [
    "MyPredict, MyPredictTime = MyModel(500, ParamDf, M,  Tf, Nf, Ni)"
   ]
  },
  {
   "cell_type": "code",
   "execution_count": null,
   "metadata": {},
   "outputs": [],
   "source": [
    "MyPredict.shape, MyPredictTime.shape"
   ]
  },
  {
   "cell_type": "code",
   "execution_count": null,
   "metadata": {},
   "outputs": [],
   "source": [
    "ToPlot(MyPredict, MyPredictTime, province+\" SEI5R prediction\")"
   ]
  },
  {
   "cell_type": "markdown",
   "metadata": {},
   "source": [
    "# Using the stochastic method\n",
    "## Averaging over several realisations\n",
    "\n",
    "## NB: this is quite computer intensive as it takes time to run \n"
   ]
  },
  {
   "cell_type": "code",
   "execution_count": null,
   "metadata": {},
   "outputs": [],
   "source": [
    "break"
   ]
  },
  {
   "cell_type": "code",
   "execution_count": null,
   "metadata": {},
   "outputs": [],
   "source": [
    "#\n",
    "# run 100 simulations\n",
    "#\n",
    "N_runs = 5\n",
    "\n",
    "model = pyross.stochastic.SEAI5R(parameters, M, Ni)\n",
    "\n",
    "trajectories_s = np.zeros([N_runs,Nf,9*M],dtype=float)\n",
    "\n",
    "from numba import jit\n",
    "\n",
    "@jit\n",
    "def RunSim():\n",
    "    for i in range(N_runs):\n",
    "        print('Running simulation {0} of {1}'.format(i+1,N_runs),end='\\r')\n",
    "        cur_result = model.simulate(S_0, E_0, A_0, Ia_0, Is_0, Ih_0, Ic_0, Im_0, contactMatrix, Tf, Nf)\n",
    "        trajectories_s[i] = cur_result['X']\n",
    "    t_s = cur_result['t']\n",
    "    return(t_s)"
   ]
  },
  {
   "cell_type": "code",
   "execution_count": null,
   "metadata": {},
   "outputs": [],
   "source": [
    "#\n",
    "# Uncomment to run, but this is very computer intensive\n",
    "#\n",
    "#RunSim()"
   ]
  },
  {
   "cell_type": "code",
   "execution_count": null,
   "metadata": {},
   "outputs": [],
   "source": [
    "# Calculate mean, standard deviation, and 10 as well as 90 percent quantiles\n",
    "# for\n",
    "# - the number of exposed and asymptomatic infectives,\n",
    "# - the number of symptomatic infectives,\n",
    "# - the number of hospitalised infectives,\n",
    "# - the number of infectives in ICU,\n",
    "# - the number of deceased infectives\n",
    "\n",
    "trajectories_E_A_Ia = np.zeros([N_runs,Nf],dtype=float)\n",
    "trajectories_Is = np.zeros([N_runs,Nf],dtype=float)\n",
    "trajectories_Ih = np.zeros([N_runs,Nf],dtype=float)\n",
    "trajectories_Ic = np.zeros([N_runs,Nf],dtype=float)\n",
    "trajectories_Im = np.zeros([N_runs,Nf],dtype=float)\n",
    "for i,e in enumerate(trajectories_s):\n",
    "    for j in range(M):\n",
    "        trajectories_E_A_Ia[i] += e[:,j+1*M] + e[:,j+2*M] + e[:,j+3*M] # E + A + Ia\n",
    "        trajectories_Is[i] += e[:,j+3*M] # Is\n",
    "        trajectories_Ih[i] += e[:,j+4*M] # Ih\n",
    "        trajectories_Ic[i] += e[:,j+5*M] # Ic\n",
    "        trajectories_Im[i] += e[:,j+6*M] # Im\n",
    "\n",
    "        \n",
    "# mean and standard deviation\n",
    "mean_E_A_Ia = np.mean(trajectories_E_A_Ia, axis = 0)\n",
    "mean_Is = np.mean(trajectories_Is, axis = 0)\n",
    "mean_Ih = np.mean(trajectories_Ih, axis = 0)\n",
    "mean_Ic = np.mean(trajectories_Ic, axis = 0)\n",
    "mean_Im = np.mean(trajectories_Im, axis = 0)\n",
    "\n",
    "std_E_A_Ia = np.std(trajectories_E_A_Ia, axis = 0)\n",
    "std_Is = np.std(trajectories_Is, axis = 0)\n",
    "std_Ih = np.std(trajectories_Ih, axis = 0)\n",
    "std_Ic = np.std(trajectories_Ic, axis = 0)\n",
    "std_Im = np.std(trajectories_Im, axis = 0)\n",
    "\n",
    "\n",
    "# quantiles\n",
    "percentile = 10\n",
    "\n",
    "cur_traj = trajectories_E_A_Ia\n",
    "percentiles_lower_E_A_Ia = np.percentile(cur_traj,percentile,axis=0)\n",
    "percentiles_upper_E_A_Ia = np.percentile(cur_traj,100-percentile,axis=0)\n",
    "percentiles_median_E_A_Ia = np.percentile(cur_traj,50,axis=0)\n",
    "\n",
    "cur_traj = trajectories_Is\n",
    "percentiles_lower_Is = np.percentile(cur_traj,percentile,axis=0)\n",
    "percentiles_upper_Is = np.percentile(cur_traj,100-percentile,axis=0)\n",
    "percentiles_median_Is = np.percentile(cur_traj,50,axis=0)\n",
    "\n",
    "cur_traj = trajectories_Ih\n",
    "percentiles_lower_Ih = np.percentile(cur_traj,percentile,axis=0)\n",
    "percentiles_upper_Ih = np.percentile(cur_traj,100-percentile,axis=0)\n",
    "percentiles_median_Ih = np.percentile(cur_traj,50,axis=0)\n",
    "\n",
    "cur_traj = trajectories_Ic\n",
    "percentiles_lower_Ic = np.percentile(cur_traj,percentile,axis=0)\n",
    "percentiles_upper_Ic = np.percentile(cur_traj,100-percentile,axis=0)\n",
    "percentiles_median_Ic = np.percentile(cur_traj,50,axis=0)\n",
    "\n",
    "cur_traj = trajectories_Im\n",
    "percentiles_lower_Im = np.percentile(cur_traj,percentile,axis=0)\n",
    "percentiles_upper_Im = np.percentile(cur_traj,100-percentile,axis=0)\n",
    "percentiles_median_Im = np.percentile(cur_traj,50,axis=0)"
   ]
  },
  {
   "cell_type": "markdown",
   "metadata": {},
   "source": [
    "## Plot of results from 100 deterministic simulations"
   ]
  },
  {
   "cell_type": "code",
   "execution_count": null,
   "metadata": {},
   "outputs": [],
   "source": [
    "def plot_data(t,trajectories,mean,std,median,percentiles_lower,percentiles_upper,\n",
    "             ylabel='Population'):\n",
    "    #\n",
    "    # Trajectories + mean and standard deviation\n",
    "    #\n",
    "    fig,ax = plt.subplots(1,1,figsize=(10,6))\n",
    "    fig.suptitle('Trajectories, with mean and standard deviation')\n",
    "    ax.fill_between(t,mean-std,mean+std,\n",
    "                    color='red',alpha=0.1\n",
    "                   )\n",
    "    for i,e in enumerate(trajectories):\n",
    "        ax.plot(t,e,\n",
    "               alpha=0.3)\n",
    "    ax.plot(t,mean,lw=3,color='black',label='Mean')\n",
    "    ax.plot(t,mean+std,lw=2,ls='--',color='red',label='Standard deviation')\n",
    "    ax.plot(t,mean-std,lw=2,ls='--',color='red')\n",
    "    ax.set_xlim(np.min(t_s),np.max(t_s))\n",
    "    ax.set_xlabel('Time [days]')\n",
    "    ax.set_ylabel(ylabel)\n",
    "    ax.legend(loc='best')\n",
    "    plt.show()\n",
    "    plt.close()\n",
    "    #\n",
    "    #\n",
    "    # Trajectories + percentiles\n",
    "    #\n",
    "    fig,ax = plt.subplots(1,1,figsize=(10,6))\n",
    "    fig.suptitle('Trajectories, with quantiles')\n",
    "    ax.fill_between(t,percentiles_lower,percentiles_upper,\n",
    "                    color='red',alpha=0.1\n",
    "                   )\n",
    "    for i,e in enumerate(trajectories):\n",
    "        ax.plot(t,e,\n",
    "               alpha=0.3)\n",
    "    ax.plot(t,median,lw=3,color='black',\n",
    "           label='Median')\n",
    "    ax.plot(t,mean,lw=3,color='dodgerblue',ls='--',\n",
    "           label='Mean')\n",
    "    ax.plot(t,percentiles_lower,lw=2,ls='--',color='red',\n",
    "           label='Quantiles')\n",
    "    ax.plot(t,percentiles_upper,lw=2,ls='--',color='red')\n",
    "    ax.set_xlim(np.min(t_s),np.max(t_s))\n",
    "    ax.set_xlabel('Time [days]')\n",
    "    ax.set_ylabel(ylabel)\n",
    "    ax.legend(loc='best')\n",
    "    plt.show()\n",
    "    plt.close()"
   ]
  },
  {
   "cell_type": "code",
   "execution_count": null,
   "metadata": {},
   "outputs": [],
   "source": [
    "plot_data(t_s,\n",
    "          trajectories = trajectories_E_A_Ia,\n",
    "          mean = mean_E_A_Ia,  std =std_E_A_Ia,\n",
    "         median = percentiles_median_E_A_Ia, \n",
    "          percentiles_lower =percentiles_lower_E_A_Ia, percentiles_upper =percentiles_upper_E_A_Ia,\n",
    "         ylabel=r'Exposed + asymptomatic infectives')\n",
    "\n",
    "\n",
    "print(\"\\n\\n\")\n",
    "plot_data(t_s,\n",
    "          trajectories = trajectories_Is,\n",
    "          mean = mean_Is,  std =std_Is,\n",
    "         median = percentiles_median_Is, \n",
    "          percentiles_lower =percentiles_lower_Is, percentiles_upper =percentiles_upper_Is,\n",
    "         ylabel=r'Symptomatic infectives')\n",
    "\n",
    "\n",
    "print(\"\\n\\n\")\n",
    "plot_data(t_s,\n",
    "          trajectories = trajectories_Ih,\n",
    "          mean = mean_Ih,  std =std_Ih,\n",
    "         median = percentiles_median_Ih, \n",
    "          percentiles_lower =percentiles_lower_Ih, percentiles_upper =percentiles_upper_Ih,\n",
    "         ylabel=r'Hospitalised')"
   ]
  },
  {
   "cell_type": "markdown",
   "metadata": {},
   "source": [
    "# 3 - Run inference on the first n days"
   ]
  },
  {
   "cell_type": "markdown",
   "metadata": {},
   "source": [
    "## 3.1 - Create array with first n days of data"
   ]
  },
  {
   "cell_type": "code",
   "execution_count": null,
   "metadata": {},
   "outputs": [],
   "source": [
    "Tf_inf = 20;                         # using data for first 20 days\n",
    "Nf_inf = Tf_inf + 1\n",
    "N = NZA\n",
    "data_inf = (data_array/N)[:Nf_inf]\n"
   ]
  },
  {
   "cell_type": "markdown",
   "metadata": {},
   "source": [
    "# Do NOT run below"
   ]
  },
  {
   "cell_type": "code",
   "execution_count": null,
   "metadata": {},
   "outputs": [],
   "source": [
    "break"
   ]
  },
  {
   "cell_type": "markdown",
   "metadata": {},
   "source": [
    "## 3.2 - Parameters for inference"
   ]
  },
  {
   "cell_type": "code",
   "execution_count": null,
   "metadata": {},
   "outputs": [],
   "source": []
  },
  {
   "cell_type": "code",
   "execution_count": null,
   "metadata": {},
   "outputs": [],
   "source": [
    "ftol = 1e-1 \n",
    "steps = 5\n",
    "fi = np.array([0.25, 0.75])     # fraction of population in age age group\n",
    "#\n",
    "# initialise the estimator \n",
    "#\n",
    "\n",
    "estimator = pyross.inference.SEAI5R(parameters, M, fi, int(N), steps)\n"
   ]
  },
  {
   "cell_type": "code",
   "execution_count": null,
   "metadata": {},
   "outputs": [],
   "source": [
    "# initial\n",
    "alpha_g      = 0.15\n",
    "alpha_std    = 0.2\n",
    "alpha_bounds = (1e-3, 0.5)\n",
    "\n",
    "beta_g      = 0.05\n",
    "beta_std    = 0.1 \n",
    "beta_bounds = (1e-3, 1)\n",
    "\n",
    "gIa_g      = 0.13\n",
    "gIa_std    = 0.1 \n",
    "gIa_bounds = (1e-3, 1)\n",
    "\n",
    "gIs_g      = 0.15\n",
    "gIs_std    = 0.1 \n",
    "gIs_bounds = (1e-3, 1)\n",
    "\n",
    "guess = np.array([alpha_g, beta_g, gIa_g, gIs_g])\n",
    "stds = np.array([alpha_std, beta_std, gIa_std, gIs_std])\n",
    "bounds = np.array([alpha_bounds , beta_bounds , gIa_bounds , gIs_bounds])\n",
    "keys = ['alpha', 'beta', 'gIa', 'gIs']\n",
    "\n",
    "params = estimator.infer_parameters(keys, guess, stds, bounds, data_inf, Tf_inf , Nf_inf , contactMatrix ,\n",
    "                                    global_max_iter=20, global_ftol_factor = 10, verbose=True)\n",
    "\n",
    "print(params)"
   ]
  },
  {
   "cell_type": "code",
   "execution_count": null,
   "metadata": {
    "jupyter": {
     "source_hidden": true
    }
   },
   "outputs": [],
   "source": []
  },
  {
   "cell_type": "code",
   "execution_count": null,
   "metadata": {
    "jupyter": {
     "source_hidden": true
    }
   },
   "outputs": [],
   "source": []
  }
 ],
 "metadata": {
  "kernelspec": {
   "display_name": "Python 3",
   "language": "python",
   "name": "python3"
  },
  "language_info": {
   "codemirror_mode": {
    "name": "ipython",
    "version": 3
   },
   "file_extension": ".py",
   "mimetype": "text/x-python",
   "name": "python",
   "nbconvert_exporter": "python",
   "pygments_lexer": "ipython3",
   "version": "3.6.9"
  }
 },
 "nbformat": 4,
 "nbformat_minor": 4
}
