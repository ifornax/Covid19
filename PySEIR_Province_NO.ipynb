{
 "cells": [
  {
   "cell_type": "markdown",
   "metadata": {},
   "source": [
    "# Aim:\n",
    "\n",
    "- This notebook will made a deterministic model of the SEI5R for South Africa and the provinces using PyRoss\n"
   ]
  },
  {
   "cell_type": "code",
   "execution_count": 1,
   "metadata": {},
   "outputs": [
    {
     "name": "stdin",
     "output_type": "stream",
     "text": [
      "Once deleted, variables cannot be recovered. Proceed (y/[n])?  y\n"
     ]
    }
   ],
   "source": [
    "%reset"
   ]
  },
  {
   "cell_type": "code",
   "execution_count": 2,
   "metadata": {},
   "outputs": [],
   "source": [
    "ForColab = False"
   ]
  },
  {
   "cell_type": "markdown",
   "metadata": {},
   "source": [
    "\n",
    "## NB: The Pyross is not working in Colab, I will use Github as a platform to share and make amendments to the code\n"
   ]
  },
  {
   "cell_type": "code",
   "execution_count": 3,
   "metadata": {},
   "outputs": [
    {
     "name": "stdout",
     "output_type": "stream",
     "text": [
      "Working local\n"
     ]
    }
   ],
   "source": [
    "#\n",
    "# This is here but not working fully in Colab\n",
    "#\n",
    "if ForColab:\n",
    "    !pip install wget\n",
    "    !pip install git+https://github.com/rajeshrinet/pyross.git\n",
    "    !pip install git+https://github.com/lukastk/PyRossGeo.git\n",
    "    import os\n",
    "    owd = os.getcwd()\n",
    "    os.chdir('../../')\n",
    "\n",
    "    import plotly.io as pio\n",
    "    pio.renderers.default = 'colab'\n",
    "else:\n",
    "    print(\"Working local\")"
   ]
  },
  {
   "cell_type": "code",
   "execution_count": 4,
   "metadata": {},
   "outputs": [],
   "source": [
    "#\n",
    "# Import the parameters for the plots\n",
    "#\n",
    "import matplotlib.pyplot as plt\n",
    "params = {'legend.fontsize': 'x-large',\n",
    "          'figure.figsize': (12, 10),\n",
    "         'axes.labelsize': 13,\n",
    "         'axes.titlesize':13,\n",
    "         'xtick.labelsize':13,\n",
    "         'ytick.labelsize':13,\n",
    "         'axes.labelweight':'bold',\n",
    "          'legend.fontsize': 13,\n",
    "         'figure.max_open_warning': 0}\n",
    "         \n",
    "plt.rcParams.update(params)"
   ]
  },
  {
   "cell_type": "code",
   "execution_count": 5,
   "metadata": {},
   "outputs": [],
   "source": [
    "from datetime import datetime, timedelta\n",
    "import os\n",
    "from pathlib import Path\n",
    "import pickle\n",
    "from timeit import default_timer as timer\n",
    "#\n",
    "# The following is needed for pulling the files from Github\n",
    "#\n",
    "import wget\n",
    "import ssl\n",
    "ssl._create_default_https_context = ssl._create_unverified_context\n",
    "    \n",
    "import pandas as pd\n",
    "#pd.options.plotting.backend = \"plotly\"\n",
    "\n",
    "import numpy as np\n",
    "\n",
    "from tqdm.notebook import tqdm\n",
    "\n",
    "from scipy.integrate import odeint, solve_ivp\n",
    "from scipy.optimize import minimize,curve_fit\n",
    "\n",
    "from sklearn.metrics import mean_squared_log_error, mean_squared_error\n",
    "\n",
    "from PIL import Image\n",
    "\n",
    "#import chart_studio\n",
    "#chart_studio.tools.set_config_file(world_readable=False)\n",
    "\n",
    "#import chart_studio.plotly as ply\n",
    "\n",
    "#\n",
    "# Import pyross and pyrossgeo\n",
    "#\n",
    "\n",
    "import pyross, pyrossgeo"
   ]
  },
  {
   "cell_type": "code",
   "execution_count": null,
   "metadata": {},
   "outputs": [],
   "source": []
  },
  {
   "cell_type": "code",
   "execution_count": null,
   "metadata": {},
   "outputs": [],
   "source": []
  },
  {
   "cell_type": "code",
   "execution_count": 6,
   "metadata": {},
   "outputs": [],
   "source": [
    "def plot_model(Data,  ICUHospital, title):\n",
    "\n",
    "    S  = model.S(Data)\n",
    "    Ia = model.Ia(Data)\n",
    "    Is = model.Is(Data)\n",
    "    R  = model.R(Data)\n",
    "\n",
    "    InfectedCases = Ia+Is\n",
    "\n",
    "    #fig, (ax1, ax2) = plt.subplots(1, 2, figsize=(14,7))\n",
    "    fig, ax1 = plt.subplots(1, 1)\n",
    "    fig.suptitle(title)\n",
    "\n",
    "    ax1.plot(S, 'tab:blue', label='Susceptible');\n",
    "    ax1.plot(Ia, 'tab:orange', label='Exposed');\n",
    "    ax1.plot(Is, 'tab:red', label='Infected');\n",
    "    ax1.plot(R, 'tab:green', label='Recovered');\n",
    "    #ax1.plot(InfectedCases, 'tab:purple', label='Hospitalised');\n",
    "    #ax1.plot(crit, 'tab:brown', label='Critical');\n",
    "    #ax1.plot(death, 'tab:cyan', label='Deceased');\n",
    "    #ax1.hlines(np.mean([SAHospital[1][0],SAHospital[1][1]]),0,len(sus),linestyles='dashed',\n",
    "    #           label=\"Mean ICU beds\")\n",
    "\n",
    "\n",
    "    ax1.semilogy()\n",
    "\n",
    "    ax1.set_xlabel(\"Days\");\n",
    "    ax1.legend(loc='best');\n",
    "    ax1.set_ylabel(\"No of people\");\n",
    "    '''        \n",
    "    ax2.plot(cases, 'tab:red', label='Cases');    \n",
    "    ax2.set_xlabel(\"Days\", fontsize=10);\n",
    "    ax2.semilogy()\n",
    "\n",
    "    ax3 = ax2.twinx()\n",
    "    ax3.plot(death, 'tab:cyan', label='Deceased');    \n",
    "    ax3.set_xlabel(\"Days\", fontsize=10);\n",
    "    ax3.semilogy()\n",
    "    '''\n",
    "\n",
    "    '''\n",
    "    ax2.set_ylabel(\"No of population (Cases)\", fontsize=10, color='tab:red');\n",
    "    ax3.set_ylabel(\"No of population (Fatalities)\", fontsize=10, color='tab:cyan');\n",
    "    '''        \n",
    "\n",
    "    ax1.legend(loc='upper center', bbox_to_anchor=(0.5, -0.125),ncol=3, fancybox=True, shadow=True)"
   ]
  },
  {
   "cell_type": "markdown",
   "metadata": {},
   "source": [
    "\n",
    "# Setting the total poplation for South Africa\n"
   ]
  },
  {
   "cell_type": "code",
   "execution_count": 7,
   "metadata": {},
   "outputs": [],
   "source": [
    "\n",
    "NZA = 59156682 \n"
   ]
  },
  {
   "cell_type": "markdown",
   "metadata": {},
   "source": [
    "# Getting Covid values for cases in SA for each province "
   ]
  },
  {
   "cell_type": "code",
   "execution_count": 8,
   "metadata": {},
   "outputs": [],
   "source": [
    "def get_SA_province(ToUpdateSAProvince):\n",
    "    \n",
    "    '''\n",
    "    This function will get the SA provincial confirmed and cases as function of date from the Uni Pretoria repo\n",
    "    \n",
    "    It also has the total that should agree with the reported worldodometer confirmed cases\n",
    "    \n",
    "    Usage:\n",
    "    \n",
    "        get_SA_province('y') or get_SA_province('n')\n",
    "    \n",
    "    Input:\n",
    "        Take a y or n - whether to update the dataset or not\n",
    "    \n",
    "    Output:\n",
    "        Returns the SA province confirmed dataframe\n",
    "    '''\n",
    "    \n",
    "    import pandas as pd\n",
    "    import wget\n",
    "    import ssl\n",
    "    ssl._create_default_https_context = ssl._create_unverified_context\n",
    "\n",
    "    if ToUpdateSAProvince.lower() =='y':\n",
    "        \n",
    "        print(\"updating data\")\n",
    "        ConfirmedURL = \"https://raw.githubusercontent.com/dsfsi/covid19za/master/data/covid19za_provincial_cumulative_timeline_confirmed.csv\"\n",
    "        SAProvinConfirmed = pd.read_csv(wget.download(ConfirmedURL, out ='covid19za_provincial_cumulative_timeline_confirmed.csv'))\n",
    "        DeathURL = \"https://raw.githubusercontent.com/dsfsi/covid19za/master/data/covid19za_provincial_cumulative_timeline_deaths.csv\"\n",
    "        SAProvinDead = pd.read_csv(wget.download(DeathURL, out= 'covid19za_provincial_cumulative_timeline_deaths.csv'))\n",
    "        RecoveredURL = \"https://raw.githubusercontent.com/dsfsi/covid19za/master/data/covid19za_provincial_cumulative_timeline_recoveries.csv\"\n",
    "        SAProvinrecover = pd.read_csv(wget.download(DeathURL, out ='covid19za_provincial_cumulative_timeline_recoveries.csv'))\n",
    "        \n",
    "    else:\n",
    "        print(\"Reading local file... Please check data is uptodate\")\n",
    "        SAProvinConfirmed  = pd.read_csv(\"covid19za_provincial_cumulative_timeline_confirmed.csv\")\n",
    "        SAProvinDead = pd.read_csv(\"covid19za_provincial_cumulative_timeline_deaths.csv\")\n",
    "        SAProvinrecover = pd.read_csv(\"covid19za_provincial_cumulative_timeline_recoveries.csv\")\n",
    "        print(f\"Note: File was last updated on {SAProvinConfirmed['date'].values[-1]}\")\n",
    "    #\n",
    "    # Drop the unwanted column\n",
    "    #\n",
    "    if 'YYYYMMDD' in SAProvinConfirmed.columns:\n",
    "        SAProvinConfirmed.drop(columns='YYYYMMDD', inplace = True)\n",
    "        SAProvinDead.drop(columns='YYYYMMDD', inplace = True)\n",
    "        SAProvinrecover.drop(columns='YYYYMMDD', inplace = True)\n",
    "    #\n",
    "    # Drop the source of information\n",
    "    #\n",
    "    if 'source' in SAProvinConfirmed.columns:\n",
    "        SAProvinConfirmed.drop(columns='source', inplace = True)\n",
    "        SAProvinDead.drop(columns='source', inplace = True)\n",
    "        SAProvinrecover.drop(columns='source', inplace = True)\n",
    "    #\n",
    "    # Make the date the index\n",
    "    #\n",
    "    SAProvinConfirmed[\"date\"] = pd.to_datetime(SAProvinConfirmed.date, format='%d-%m-%Y')\n",
    "    SAProvinConfirmed.index = SAProvinConfirmed[\"date\"]\n",
    "    \n",
    "    SAProvinDead[\"date\"] = pd.to_datetime(SAProvinDead.date, format='%d-%m-%Y')\n",
    "    SAProvinDead.index = SAProvinDead[\"date\"]\n",
    "    \n",
    "    SAProvinrecover[\"date\"] = pd.to_datetime(SAProvinrecover.date, format='%d-%m-%Y')\n",
    "    SAProvinrecover.index = SAProvinrecover[\"date\"]\n",
    "    \n",
    "    #\n",
    "    # Deleting the date column now\n",
    "    #\n",
    "    SAProvinConfirmed.drop(columns='date', inplace = True)\n",
    "    SAProvinDead.drop(columns='date', inplace = True)\n",
    "    SAProvinrecover.drop(columns='date', inplace = True)\n",
    "    #\n",
    "    # Renaming the Total column to Confirmed\n",
    "    #\n",
    "    SAProvinConfirmed = SAProvinConfirmed.rename(columns={'total': 'Confirmed'})\n",
    "    SAProvinDead = SAProvinDead.rename(columns={'total': 'Dead'})\n",
    "    SAProvinrecover = SAProvinrecover.rename(columns={'total': 'Recovered'})\n",
    "    #\n",
    "    #\n",
    "    #\n",
    "    return(SAProvinConfirmed,SAProvinDead, SAProvinrecover)\n",
    "\n"
   ]
  },
  {
   "cell_type": "code",
   "execution_count": 9,
   "metadata": {},
   "outputs": [
    {
     "name": "stdout",
     "output_type": "stream",
     "text": [
      "updating data\n"
     ]
    },
    {
     "data": {
      "text/html": [
       "<div>\n",
       "<style scoped>\n",
       "    .dataframe tbody tr th:only-of-type {\n",
       "        vertical-align: middle;\n",
       "    }\n",
       "\n",
       "    .dataframe tbody tr th {\n",
       "        vertical-align: top;\n",
       "    }\n",
       "\n",
       "    .dataframe thead th {\n",
       "        text-align: right;\n",
       "    }\n",
       "</style>\n",
       "<table border=\"1\" class=\"dataframe\">\n",
       "  <thead>\n",
       "    <tr style=\"text-align: right;\">\n",
       "      <th></th>\n",
       "      <th>EC</th>\n",
       "      <th>FS</th>\n",
       "      <th>GP</th>\n",
       "      <th>KZN</th>\n",
       "      <th>LP</th>\n",
       "      <th>MP</th>\n",
       "      <th>NC</th>\n",
       "      <th>NW</th>\n",
       "      <th>WC</th>\n",
       "      <th>UNKNOWN</th>\n",
       "      <th>Confirmed</th>\n",
       "    </tr>\n",
       "    <tr>\n",
       "      <th>date</th>\n",
       "      <th></th>\n",
       "      <th></th>\n",
       "      <th></th>\n",
       "      <th></th>\n",
       "      <th></th>\n",
       "      <th></th>\n",
       "      <th></th>\n",
       "      <th></th>\n",
       "      <th></th>\n",
       "      <th></th>\n",
       "      <th></th>\n",
       "    </tr>\n",
       "  </thead>\n",
       "  <tbody>\n",
       "    <tr>\n",
       "      <th>2020-03-05</th>\n",
       "      <td>0</td>\n",
       "      <td>0</td>\n",
       "      <td>0</td>\n",
       "      <td>1</td>\n",
       "      <td>0</td>\n",
       "      <td>0</td>\n",
       "      <td>0</td>\n",
       "      <td>0</td>\n",
       "      <td>0</td>\n",
       "      <td>0</td>\n",
       "      <td>1</td>\n",
       "    </tr>\n",
       "    <tr>\n",
       "      <th>2020-03-07</th>\n",
       "      <td>0</td>\n",
       "      <td>0</td>\n",
       "      <td>1</td>\n",
       "      <td>1</td>\n",
       "      <td>0</td>\n",
       "      <td>0</td>\n",
       "      <td>0</td>\n",
       "      <td>0</td>\n",
       "      <td>0</td>\n",
       "      <td>0</td>\n",
       "      <td>2</td>\n",
       "    </tr>\n",
       "    <tr>\n",
       "      <th>2020-03-08</th>\n",
       "      <td>0</td>\n",
       "      <td>0</td>\n",
       "      <td>1</td>\n",
       "      <td>2</td>\n",
       "      <td>0</td>\n",
       "      <td>0</td>\n",
       "      <td>0</td>\n",
       "      <td>0</td>\n",
       "      <td>0</td>\n",
       "      <td>0</td>\n",
       "      <td>3</td>\n",
       "    </tr>\n",
       "    <tr>\n",
       "      <th>2020-03-09</th>\n",
       "      <td>0</td>\n",
       "      <td>0</td>\n",
       "      <td>1</td>\n",
       "      <td>6</td>\n",
       "      <td>0</td>\n",
       "      <td>0</td>\n",
       "      <td>0</td>\n",
       "      <td>0</td>\n",
       "      <td>0</td>\n",
       "      <td>0</td>\n",
       "      <td>7</td>\n",
       "    </tr>\n",
       "    <tr>\n",
       "      <th>2020-03-11</th>\n",
       "      <td>0</td>\n",
       "      <td>0</td>\n",
       "      <td>5</td>\n",
       "      <td>7</td>\n",
       "      <td>0</td>\n",
       "      <td>0</td>\n",
       "      <td>0</td>\n",
       "      <td>0</td>\n",
       "      <td>1</td>\n",
       "      <td>0</td>\n",
       "      <td>13</td>\n",
       "    </tr>\n",
       "  </tbody>\n",
       "</table>\n",
       "</div>"
      ],
      "text/plain": [
       "            EC  FS  GP  KZN  LP  MP  NC  NW  WC  UNKNOWN  Confirmed\n",
       "date                                                               \n",
       "2020-03-05   0   0   0    1   0   0   0   0   0        0          1\n",
       "2020-03-07   0   0   1    1   0   0   0   0   0        0          2\n",
       "2020-03-08   0   0   1    2   0   0   0   0   0        0          3\n",
       "2020-03-09   0   0   1    6   0   0   0   0   0        0          7\n",
       "2020-03-11   0   0   5    7   0   0   0   0   1        0         13"
      ]
     },
     "execution_count": 9,
     "metadata": {},
     "output_type": "execute_result"
    }
   ],
   "source": [
    "#\n",
    "# Pulling the data from the repo and doing some minor pre-processing\n",
    "#\n",
    "ProvinConf, ProvinDead, ProvinRecover = get_SA_province('y') \n",
    "\n",
    "ProvinConf.dropna(inplace=True)\n",
    "ProvinConf = ProvinConf.astype('int64')\n",
    "ProvinConf.head()\n"
   ]
  },
  {
   "cell_type": "code",
   "execution_count": null,
   "metadata": {},
   "outputs": [],
   "source": []
  },
  {
   "cell_type": "code",
   "execution_count": 10,
   "metadata": {},
   "outputs": [],
   "source": [
    "#\n",
    "# Plotting the dataset\n",
    "#"
   ]
  },
  {
   "cell_type": "code",
   "execution_count": 11,
   "metadata": {},
   "outputs": [
    {
     "data": {
      "image/png": "[encoded data removed]",
      "text/plain": [
       "<Figure size 864x720 with 1 Axes>"
      ]
     },
     "metadata": {
      "needs_background": "light"
     },
     "output_type": "display_data"
    }
   ],
   "source": [
    "#ProvinConf.plot(x=ProvinConf.index, y=['EC', 'FS', 'GP', 'KZN', 'LP', 'MP', 'NC', 'NW', 'WC', 'UNKNOWN'],\n",
    "ProvinConf.plot(title=f\"SA provincial distribution as at {ProvinConf.index[-1].date()}\");\n"
   ]
  },
  {
   "cell_type": "code",
   "execution_count": null,
   "metadata": {},
   "outputs": [],
   "source": []
  },
  {
   "cell_type": "code",
   "execution_count": null,
   "metadata": {},
   "outputs": [],
   "source": []
  },
  {
   "cell_type": "markdown",
   "metadata": {},
   "source": [
    "## Getting the ZA province population "
   ]
  },
  {
   "cell_type": "code",
   "execution_count": 12,
   "metadata": {},
   "outputs": [],
   "source": [
    "def get_SA_Prov_Pop(ToUpdateSAProvince):\n",
    "    \n",
    "    '''\n",
    "    \n",
    "    This function pulls the population for each provinces\n",
    "    \n",
    "    Usage:\n",
    "    \n",
    "        get_SA_province('y') or get_SA_province('n')\n",
    "    \n",
    "    This function will get the SA provincial population numbers.\n",
    "    \n",
    "    Input:\n",
    "        Take a y or n - whether to update the dataset or not\n",
    "    \n",
    "    Output:\n",
    "        Returns the SA province population dataframe\n",
    "    '''\n",
    "    \n",
    "    import pandas as pd\n",
    "    import wget\n",
    "    import ssl\n",
    "    ssl._create_default_https_context = ssl._create_unverified_context\n",
    "\n",
    "    if ToUpdateSAProvince.lower() =='y':\n",
    "        \n",
    "        print(\"updating data\")\n",
    "        ConfirmedURL = 'https://raw.githubusercontent.com/dsfsi/covid19za/master/data/district_data/za_province_pop.csv'\n",
    "        SAProvinPop = pd.read_csv(wget.download(ConfirmedURL, out='za_province_pop.csv'),header=None)\n",
    "        SAProvinPop.columns = ['Province', 'Pop']\n",
    "\n",
    "    return(SAProvinPop)\n"
   ]
  },
  {
   "cell_type": "code",
   "execution_count": 13,
   "metadata": {},
   "outputs": [
    {
     "name": "stdout",
     "output_type": "stream",
     "text": [
      "updating data\n"
     ]
    },
    {
     "data": {
      "image/png": "[encoded data removed]",
      "text/plain": [
       "<Figure size 864x720 with 1 Axes>"
      ]
     },
     "metadata": {
      "needs_background": "light"
     },
     "output_type": "display_data"
    }
   ],
   "source": [
    "#\n",
    "# Gettingt the data and doing some plotting \n",
    "#\n",
    "SAProvPop = get_SA_Prov_Pop('y')\n",
    "\n",
    "SAProvPop.plot(kind='bar',x='Province',y='Pop');"
   ]
  },
  {
   "cell_type": "code",
   "execution_count": null,
   "metadata": {},
   "outputs": [],
   "source": []
  },
  {
   "cell_type": "markdown",
   "metadata": {},
   "source": [
    "## Getting the Rt calculate values for each province"
   ]
  },
  {
   "cell_type": "code",
   "execution_count": null,
   "metadata": {},
   "outputs": [],
   "source": []
  },
  {
   "cell_type": "code",
   "execution_count": null,
   "metadata": {},
   "outputs": [],
   "source": []
  },
  {
   "cell_type": "code",
   "execution_count": null,
   "metadata": {},
   "outputs": [],
   "source": []
  },
  {
   "cell_type": "markdown",
   "metadata": {},
   "source": [
    "# SEAI8R"
   ]
  },
  {
   "cell_type": "markdown",
   "metadata": {},
   "source": [
    "- The SEAI8R model is a variation of the SIR model with inclusion of extra compartments such as the Exposed (E), Activated (A) compartment.\n",
    "\n",
    "- The activated compartment holds the population of cases that are asymptomatic and infectious.\n"
   ]
  },
  {
   "cell_type": "markdown",
   "metadata": {},
   "source": [
    "## Description of the model: "
   ]
  },
  {
   "cell_type": "markdown",
   "metadata": {},
   "source": [
    "\n",
    "![Screenshot_2020-05-13_at_13.54.00](https://gitlab.com/camsofties/covid19//uploads/55279e434788919018151d4793bb11f0/Screenshot_2020-05-13_at_13.54.00.png)\n"
   ]
  },
  {
   "cell_type": "markdown",
   "metadata": {},
   "source": [
    "\n",
    "The following parameters are used in this model:\n",
    "\n",
    "* $\\alpha$ (fraction of asymptomatic infectives), \n",
    "* $\\beta$ (probability of infection on contact), \n",
    "* $\\gamma_{I_a}$ (rate of recovery for asymptomatic infected individuals), \n",
    "* $\\gamma_{I_s}$ (rate of recovery for symptomatic infected individuals), \n",
    "* $\\gamma_\\mathrm{E}$ (rate of exposed -> activated), \n",
    "* $\\gamma_\\mathrm{A}$ (rate of activated -> infected, symptomatic or asymptomatic)\n",
    "* $\\mathrm{hh}$ (rate of infected -> hospitalised)\n"
   ]
  },
  {
   "cell_type": "markdown",
   "metadata": {},
   "source": [
    "\n",
    "# Doing a more complex model now pyross.deterministic.SEAI8R for ZA\n"
   ]
  },
  {
   "cell_type": "markdown",
   "metadata": {},
   "source": [
    "## 1 - Define model"
   ]
  },
  {
   "cell_type": "code",
   "execution_count": 14,
   "metadata": {},
   "outputs": [],
   "source": [
    "PyROSSPATH = pyross.__path__[0]"
   ]
  },
  {
   "cell_type": "code",
   "execution_count": 15,
   "metadata": {},
   "outputs": [
    {
     "data": {
      "text/plain": [
       "'/usr/local/lib/python3.6/dist-packages/pyross'"
      ]
     },
     "execution_count": 15,
     "metadata": {},
     "output_type": "execute_result"
    }
   ],
   "source": [
    "PyROSSPATH"
   ]
  },
  {
   "cell_type": "code",
   "execution_count": 16,
   "metadata": {},
   "outputs": [
    {
     "name": "stdout",
     "output_type": "stream",
     "text": [
      "/home/ubuntu/DS/COVID/COVID-19\n"
     ]
    }
   ],
   "source": [
    "!pwd"
   ]
  },
  {
   "cell_type": "code",
   "execution_count": 17,
   "metadata": {},
   "outputs": [],
   "source": [
    "PyROSSAgePATH = '/home/ubuntu/DS/COVID/pyross/examples/data/age_structures/'"
   ]
  },
  {
   "cell_type": "markdown",
   "metadata": {},
   "source": [
    "### 1.1 - Set up age group"
   ]
  },
  {
   "cell_type": "code",
   "execution_count": 18,
   "metadata": {},
   "outputs": [],
   "source": [
    "def AgeClass(AgeMat, ToDoAge):\n",
    "    '''\n",
    "    \n",
    "    This function will return the Age matrix for South Africa and returns the population in each group\n",
    "    \n",
    "    Input:\n",
    "        AgeMat - matrix holding the age classes\n",
    "        ToDoAge - is a logic (True or False) that will be used to break the group\n",
    "        \n",
    "    OutPut:\n",
    "        M  - Number of age classes,\n",
    "        Ni - Initial number in each compartment and class\n",
    "        N  - Total population is the size of this age group\n",
    "    '''\n",
    "    #\n",
    "    # population and age classes\n",
    "    #\n",
    "    if ToDoAge:\n",
    "        \n",
    "        print(\"#####\\n Age classes has been selected \\n#####\")\n",
    "        M     = len(AgeMat)                           # number of age classes, here taking all 21\n",
    "        Ni    = AgeMat['M'].values+AgeMat['F'].values # aM, aF - age male and age female\n",
    "        Ni    = Ni[0:M]                               # Give the total population in each age group\n",
    "        N     = np.sum(Ni)                            # Getting the total population of country\n",
    "\n",
    "    else:\n",
    "        print(\"#####\\n NO age classes has been selected \\n#####\")\n",
    "        M     = 1                                     # Number of compartments of individual for each class,\n",
    "                                                      # the SIR model has no age structure for now\n",
    "        Ni    = NZA*np.ones(M)                        # Initial number in each compartment and class\n",
    "        N     = np.sum(Ni)                            # and the total population is the size of this age group\n",
    "    \n",
    "    return(M, Ni, N)"
   ]
  },
  {
   "cell_type": "code",
   "execution_count": 19,
   "metadata": {},
   "outputs": [
    {
     "name": "stdout",
     "output_type": "stream",
     "text": [
      "#####\n",
      " NO age classes has been selected \n",
      "#####\n"
     ]
    }
   ],
   "source": [
    "#\n",
    "# Loading ZA age structure, if not available locally will pull from the github repo\n",
    "# \n",
    "try:\n",
    "    AgeZA = pd.read_csv(PyROSSAgePATH+'SouthAfrica-2019.csv')\n",
    "except:\n",
    "    print(\"Loading data from github repo\")\n",
    "    URL = 'https://raw.githubusercontent.com/ifornax/Covid19/master/SouthAfrica-2019.csv'\n",
    "    AgeZA = pd.read_csv(wget.download(URL, out='SouthAfrica-2019.csv'),header=None)\n",
    "\n",
    "M, Ni, N = AgeClass(AgeZA, False)"
   ]
  },
  {
   "cell_type": "code",
   "execution_count": 20,
   "metadata": {},
   "outputs": [
    {
     "name": "stdout",
     "output_type": "stream",
     "text": [
      "Number of classes: 1 \n",
      "Number Population in each age group: 59156682.0 \n",
      "Total population is: 59156682.0\n"
     ]
    }
   ],
   "source": [
    "print(f\"Number of classes: {M} \\nNumber Population in each age group: {Ni[0]} \\nTotal population is: {N}\")"
   ]
  },
  {
   "cell_type": "code",
   "execution_count": null,
   "metadata": {},
   "outputs": [],
   "source": []
  },
  {
   "cell_type": "markdown",
   "metadata": {},
   "source": [
    "### 1.2 - Set up the contact Matrix"
   ]
  },
  {
   "cell_type": "code",
   "execution_count": 21,
   "metadata": {},
   "outputs": [],
   "source": [
    "ToDoContact = False\n",
    "#\n",
    "# ToDo a contactmatrix for SouthAfrica provinces\n",
    "#\n",
    "# pyross.contactMatrix.ContactMatrixFunction?\n",
    "# CH:  constant matrix at home\n",
    "# CW:  constant matrix at work\n",
    "# CS:  constant matrix at school\n",
    "# CO:  constant matrix at other locations\n",
    "#\n",
    "\n",
    "Tf = 240                              # reference trajectory is 240 days long\n",
    "Nf = 600                     \n",
    "times = [M, Tf]                      # temporal boundaries between different contact-behaviour\n",
    "\n",
    "\n",
    "if ToDoContact:\n",
    "    #\n",
    "    # Get individual contact matrices\n",
    "    #\n",
    "    #CH, CW, CS, CO = pyross.contactMatrix.India()\n",
    "    url = 'https://raw.githubusercontent.com/sillsphelyx/Pyross-SA-contact-matrices/master/CH.csv'\n",
    "    CH = np.genfromtxt((wget.download(url, out = 'CH.csv')),delimiter = ',' ,skip_header = 0)\n",
    "    url = 'https://raw.githubusercontent.com/sillsphelyx/Pyross-SA-contact-matrices/master/CH.csv'\n",
    "    CW = np.genfromtxt((wget.download(url, out = 'CW.csv')),delimiter = ',' ,skip_header = 0)\n",
    "    url = 'https://raw.githubusercontent.com/sillsphelyx/Pyross-SA-contact-matrices/master/CH.csv'\n",
    "    CS = np.genfromtxt((wget.download(url, out = 'CS.csv')),delimiter = ',' ,skip_header = 0)\n",
    "    url = 'https://raw.githubusercontent.com/sillsphelyx/Pyross-SA-contact-matrices/master/CH.csv'\n",
    "    CO = np.genfromtxt((wget.download(url, out = 'CO.csv')),delimiter = ',' ,skip_header = 0)\n",
    "\n",
    "    #\n",
    "    # Generate class with contact matrix for SIR model with South Africa contact structure\n",
    "    #\n",
    "    generator = pyross.contactMatrix.ContactMatrixFunction(CH, CW, CS, CO)\n",
    "\n",
    "\n",
    "    aW, aS, aO = 0.3, 0.2, 0.8\n",
    "\n",
    "    # prefactors for CW, CS, CO:\n",
    "    interventions = [[1.0,1.0,1.0],      # before first time\n",
    "                     [aW, aS, aO],       # between first and second time\n",
    "                    ]         \n",
    "\n",
    "    # generate corresponding contact matrix function\n",
    "    contactMatrix = generator.interventions_temporal(times=times,interventions=interventions)\n",
    "    \n",
    "else:\n",
    "    def contactMatrix(t):   \n",
    "        return np.identity(M)"
   ]
  },
  {
   "cell_type": "code",
   "execution_count": null,
   "metadata": {},
   "outputs": [],
   "source": []
  },
  {
   "cell_type": "markdown",
   "metadata": {},
   "source": [
    "### 1.3 - Parameters of trajectory"
   ]
  },
  {
   "cell_type": "code",
   "execution_count": 22,
   "metadata": {},
   "outputs": [],
   "source": [
    "#\n",
    "# Model parameters set up\n",
    "#\n",
    "alpha = 0.75                 # fraction of infected who are asymptomatic\n",
    "\n",
    "#beta  = 0.5                # Uncomment to use infection rate for South Africa from \n",
    "                            # https://www.medrxiv.org/content/10.1101/2020.04.18.20070771v2\n",
    "                            # beta = Rt/tinf\n",
    "Rt    = 2.4                 # using the value we used in our original model\n",
    "tinf  = 6.1                 # infectious time\n",
    "beta  = Rt/tinf\n",
    "\n",
    "#gE    = 1./2.72            # rate of removal of Exposed\n",
    "gE    = 1./5.1              # rate of removal of Exposed, aka 1/t_incu \n",
    "gA    = 1./3.12             # rate of removal of Activated\n",
    "gIa   = 1./7.               # rate of removal of asymptomatic infectives \n",
    "gIs   = 1./4.82             # rate of removal of symptomatic infectives \n",
    "\n",
    "fsa   = 1.                  # the self-isolation parameter   \n",
    "fh    = 0.2                 # fraction by which hospitalised individuals are isolated\n",
    "gIh   = 1./10.              # rate of removal for hospitalised individuals\n",
    "gIc   = 1./10.              # rate of removal for idividuals in intensive care\n",
    " \n",
    "gIsp  = 1./7.               # rate of removal from symptomatic individuals towards buffer\n",
    "gIhp  = 1./7.               # rate of removal from hospitalised individuals towards buffer\n",
    "gIcp  = 1./7.               # rate of removal from ICU individuals towards buffer"
   ]
  },
  {
   "cell_type": "code",
   "execution_count": 23,
   "metadata": {},
   "outputs": [],
   "source": [
    "#\n",
    "# The following parameters are not varying for now\n",
    "#"
   ]
  },
  {
   "cell_type": "code",
   "execution_count": 24,
   "metadata": {},
   "outputs": [],
   "source": [
    "sa   = 0.2*np.ones(M)       # daily arrival of new susceptables - \n",
    "                            # sa is rate of additional/removal of population by birth etc\n",
    "hh   = 0.1*np.ones(M)       # fraction which goes from Is to hospital\n",
    "cc   = 0.05*np.ones(M)      # fraction sent to ICU from hospitalised\n",
    "mm   = 0.8*np.ones(M)       # mortality rate in ICU, aka IFR !!!"
   ]
  },
  {
   "cell_type": "markdown",
   "metadata": {},
   "source": [
    "\n",
    "### 1.4 - Initial conditions    \n"
   ]
  },
  {
   "cell_type": "code",
   "execution_count": 25,
   "metadata": {},
   "outputs": [],
   "source": [
    "\n",
    "DateToStart = '2020-05-01'     # Date to start the prediction \n"
   ]
  },
  {
   "cell_type": "code",
   "execution_count": 26,
   "metadata": {},
   "outputs": [],
   "source": [
    "\n",
    "#E_0   = np.zeros((M))\n",
    "\n",
    "A_0   = np.zeros((M))\n",
    "\n",
    "#Ia_0  = 1000*np.ones((M))            # assume 1000 asymptomatic cases \n",
    "                                      # 5-80% https://www.cebm.net/covid-19/covid-19-what-proportion-are-asymptomatic/\n",
    "frac_asymptomatic = alpha\n",
    "\n",
    "#n_tested_active   = 4502              # total cases - recovered: 5951 - 2498\n",
    "n_tested_active   = ProvinConf[ProvinConf.index == DateToStart]['Confirmed'].values[0]- \\\n",
    "                    ProvinRecover[ProvinRecover.index == DateToStart]['Recovered'].values[0]\n",
    "Ia_0              = (n_tested_active * (1/(1-frac_asymptomatic)))*np.ones((M)) \n",
    "\n",
    "\n",
    "E_0   = Ia_0 * 1.7                     # (R_t^(time from infection to test)/t_inf ~ 2)*n_infected\n",
    "\n",
    "#Is_0  = np.zeros((M))                 # initial symptomatic cases\n",
    "Is_0  = ProvinConf[ProvinConf.index == DateToStart]['Confirmed'].values[0]*np.ones((M))\n",
    "\n",
    "Isp_0 = np.zeros((M))\n",
    "\n",
    "#Ih_0  = np.zeros((M))                 # initial hospitalised cases\n",
    "Ih_0  = 140*np.ones((M))               # can put each province number hereon\n",
    "Ihp_0 = np.zeros((M))\n",
    "\n",
    "#Ic_0  = np.zeros((M))                 # initial icu patients\n",
    "Ic_0  = 70*np.ones((M))                # can put each province number hereon\n",
    "Icp_0 = np.zeros((M))\n",
    "\n",
    "#Im_0  = np.zeros((M))                 # initial mortality cases\n",
    "Im_0  = ProvinDead[ProvinDead.index == DateToStart]['Dead'].values[0]*np.ones((M))\n",
    "\n",
    "#R_0   = np.zeros((M))                 # assume no removed individuals\n",
    "#n_recovered = (n_total_cases - n_tested_active) * (1/(1-frac_asymptomatic))\n",
    "R_0   = (ProvinConf[ProvinConf.index == DateToStart]['Confirmed'].values[0] - n_tested_active)*\\\n",
    "        (1/(1-frac_asymptomatic))*np.ones(M)\n",
    "\n",
    "S_0   = Ni - (E_0 + A_0 + Ia_0 + Is_0 + Isp_0+ Icp_0+ Ihp_0 + Ih_0 + Ic_0  + R_0)\n"
   ]
  },
  {
   "cell_type": "markdown",
   "metadata": {},
   "source": [
    "## 2 - Use pyross to generate model"
   ]
  },
  {
   "cell_type": "markdown",
   "metadata": {},
   "source": [
    "- In this model we are interested in the population of cases which are critical, we can either use a SEAI8R or SEA5IR\n",
    "- The major differences is that the SEAI8R model has 3 ganular compartments of Symptomatic, Hospitalised and ICU\n",
    "cases that recover. Each will have a separate compartment.\n",
    "\n",
    "- We will look at both the SEAI8R and SEAI5R model"
   ]
  },
  {
   "cell_type": "markdown",
   "metadata": {},
   "source": [
    "### 2.1 - SEAI8R model (This is for testing and adapting)"
   ]
  },
  {
   "cell_type": "code",
   "execution_count": 27,
   "metadata": {},
   "outputs": [],
   "source": [
    "#\n",
    "# intantiate model\n",
    "#\n",
    "parameters = {'alpha':alpha,'beta':beta, 'gIa':gIa,'gIs':gIs,\n",
    "              'gIh':gIh,'gIc':gIc,  'gE':gE, 'gA':gA,\n",
    "              'fsa':fsa, 'fh':fh, 'gIsp':gIsp, 'gIcp':gIcp, 'gIhp':gIhp,\n",
    "              'sa':sa, 'hh':hh, 'cc':cc, 'mm':mm}\n",
    "model = pyross.deterministic.SEAI8R(parameters, M, Ni)\n",
    "data  = model.simulate(S_0, E_0, A_0, Ia_0, Is_0, Isp_0, Ih_0, \n",
    "                       Ih_0, Ic_0, Icp_0, Im_0, contactMatrix, Tf, Nf)\n",
    "data_array = data['X']\n",
    "np.save('Deterministic_Trajectory.npy', data_array) # this is needed in the inference part later"
   ]
  },
  {
   "cell_type": "markdown",
   "metadata": {},
   "source": [
    "### 2.1.1 - Intermediate SEAI8R visualization"
   ]
  },
  {
   "cell_type": "code",
   "execution_count": 28,
   "metadata": {},
   "outputs": [
    {
     "data": {
      "image/png": "[encoded data removed]",
      "text/plain": [
       "<Figure size 960x800 with 1 Axes>"
      ]
     },
     "metadata": {},
     "output_type": "display_data"
    }
   ],
   "source": [
    "#\n",
    "# plot the stochastic solution \n",
    "#\n",
    "fig,ax = plt.subplots(1,1, dpi=80, facecolor='w', edgecolor='k')\n",
    "\n",
    "S = model.S(data);\n",
    "E = model.E(data);\n",
    "A = model.A(data);\n",
    "\n",
    "Ia = model.Ia(data);\n",
    "Is = model.Is(data);\n",
    "Im = model.Im(data);\n",
    "Ih = model.Ih(data);\n",
    "Ic = model.Ic(data);\n",
    "\n",
    "Itotal = Ia+Is\n",
    "\n",
    "R = model.R(data);\n",
    "\n",
    "#cases = (inf + rec + hosp + crit + death)\n",
    "TotalCases = (Is + R + Ih + Im)\n",
    "\n",
    "#ax.plot(data['t'], S.sum(axis=1), lw=3, label='S - Suceptible')\n",
    "#ax.plot(data['t'], E.sum(axis=1), lw=3, label='E - Exposed')\n",
    "#ax.plot(data['t'], A.sum(axis=1), lw=3, label='A - Activated')\n",
    "#ax.plot(data['t'], Ia.sum(axis=1), lw=3, label='Ia - Infected Asymptomatic')\n",
    "#ax.plot(data['t'], Is.sum(axis=1), lw=3, label='Is - Infected Symptomatic')\n",
    "ax.plot(data['t'], Im.sum(axis=1), lw=3, label='Im - Fatality')\n",
    "ax.plot(data['t'], Ih.sum(axis=1), lw=3, label='Ih - Hospitalised')\n",
    "ax.plot(data['t'], Ic.sum(axis=1), lw=3, label='Ic - Critical/ICU')\n",
    "#ax.plot(data['t'], Itotal.sum(axis=1), lw=3, label='It - Total Infected')\n",
    "#ax.plot(data['t'], R.sum(axis=1), lw=3, label='R - Total Recovered')\n",
    "ax.plot(data['t'], TotalCases.sum(axis=1), lw=3, label='Cases - Total Cases')\n",
    "\n",
    "\n",
    "ax.set_xlabel(f\"Time [No. days from {DateToStart}]\")\n",
    "ax.set_ylabel('Populations')\n",
    "#ax.set_title('SEAI8R model')\n",
    "\n",
    "#ax2 = ax.twiny()\n",
    "#ax2.set_xlabel(\"Date\")\n",
    "    \n",
    "ax.legend(loc='upper center', bbox_to_anchor=(0.5, 1.15),ncol=3, fancybox=True, shadow=True)\n",
    "plt.semilogy()\n",
    "plt.savefig('PyROSS_SEAI8R_SEIRHCD.png')\n",
    "plt.show()\n",
    "plt.close()"
   ]
  },
  {
   "cell_type": "markdown",
   "metadata": {},
   "source": [
    "### 2.2 - SEAI5R model"
   ]
  },
  {
   "cell_type": "code",
   "execution_count": 29,
   "metadata": {},
   "outputs": [],
   "source": [
    "#\n",
    "# intantiate model\n",
    "#\n",
    "parameters = {'alpha':alpha,'beta':beta, 'gIa':gIa,'gIs':gIs,\n",
    "              'gIh':gIh,'gIc':gIc,  'gE':gE, 'gA':gA,\n",
    "              'fsa':fsa, 'fh':fh, 'gIsp':gIsp, 'gIcp':gIcp, 'gIhp':gIhp,\n",
    "              'sa':sa, 'hh':hh, 'cc':cc, 'mm':mm}\n",
    "model = pyross.deterministic.SEAI5R(parameters, M, Ni)\n",
    "data  = model.simulate(S_0, E_0, A_0, Ia_0, Is_0, Ih_0, Ic_0, Im_0, contactMatrix, Tf, Nf)\n",
    "data_array = data['X']\n",
    "np.save('SEAI5R_Deterministic_Trajectory.npy', data_array) # this is needed in the inference part later"
   ]
  },
  {
   "cell_type": "code",
   "execution_count": null,
   "metadata": {},
   "outputs": [],
   "source": []
  },
  {
   "cell_type": "code",
   "execution_count": 30,
   "metadata": {},
   "outputs": [
    {
     "data": {
      "image/png": "[encoded data removed]",
      "text/plain": [
       "<Figure size 960x800 with 1 Axes>"
      ]
     },
     "metadata": {},
     "output_type": "display_data"
    }
   ],
   "source": [
    "#\n",
    "# plot the stochastic solution \n",
    "#\n",
    "fig,ax = plt.subplots(1,1, dpi=80, facecolor='w', edgecolor='k')\n",
    "\n",
    "S = model.S(data);\n",
    "E = model.E(data);\n",
    "A = model.A(data);\n",
    "\n",
    "Ia = model.Ia(data);\n",
    "Is = model.Is(data);\n",
    "Im = model.Im(data);\n",
    "Ih = model.Ih(data);\n",
    "Ic = model.Ic(data);\n",
    "\n",
    "R = model.R(data);\n",
    "#\n",
    "# TotalCases = (inf + rec + hosp + crit + death)\n",
    "#\n",
    "TotalCases = (Is + R + Ih + Im)\n",
    "\n",
    "#ax.plot(data['t'], S.sum(axis=1), lw=3, label='S - Suceptible')\n",
    "#ax.plot(data['t'], E.sum(axis=1), lw=3, label='E - Exposed')\n",
    "#ax.plot(data['t'], A.sum(axis=1), lw=3, label='A - Activated')\n",
    "#ax.plot(data['t'], Ia.sum(axis=1), lw=3, label='Ia - Infected Asymptomatic')\n",
    "#ax.plot(data['t'], Is.sum(axis=1), lw=3, label='Is - Infected Symptomatic')\n",
    "ax.plot(data['t'], Im.sum(axis=1), lw=3, label='Im - Fatality')\n",
    "ax.plot(data['t'], Ih.sum(axis=1), lw=3, label='Ih - Hospitalised')\n",
    "ax.plot(data['t'], Ic.sum(axis=1), lw=3, label='Ic - Critical/ICU')\n",
    "#ax.plot(data['t'], Itotal.sum(axis=1), lw=3, label='It - Total Infected')\n",
    "#ax.plot(data['t'], R.sum(axis=1), lw=3, label='R - Total Recovered')\n",
    "ax.plot(data['t'], TotalCases.sum(axis=1), lw=3, label='Cases - Total Cases')\n",
    "\n",
    "\n",
    "ax.set_xlabel(f\"Time [No. days from {DateToStart}]\")\n",
    "ax.set_ylabel('Populations')\n",
    "#ax.set_title('SEAI8R model')\n",
    "\n",
    "#ax2 = ax.twiny()\n",
    "#ax2.set_xlabel(\"Date\")\n",
    "    \n",
    "ax.legend(loc='upper center', bbox_to_anchor=(0.5, 1.15),ncol=3, fancybox=True, shadow=True)\n",
    "plt.semilogy()\n",
    "plt.savefig('PyROSS_SEAI5R_SEIRHCD.png')\n",
    "plt.show()\n",
    "plt.close()"
   ]
  },
  {
   "cell_type": "markdown",
   "metadata": {},
   "source": [
    "# Below this cell can be very computer intensive "
   ]
  },
  {
   "cell_type": "markdown",
   "metadata": {},
   "source": [
    "### Here we, will create and array with the parameters from an ensemble similar to what we did for the National model."
   ]
  },
  {
   "cell_type": "code",
   "execution_count": 31,
   "metadata": {},
   "outputs": [],
   "source": [
    "#\n",
    "# Model parameters set up, each parameter names will be a column and the number of ensemble will be the rows\n",
    "#\n",
    "def ToEnsemble(NoIteration, Rt_initial):\n",
    "    '''\n",
    "    This function will create and ensemble of paramters that will be stired in a dataframe and passed onto \n",
    "    the modelling\n",
    "    \n",
    "    Input:\n",
    "        NoIteration - no of sample to generate\n",
    "        Rt_initial - initial value of Rt to use \n",
    "        \n",
    "    '''\n",
    "    alpha  = []\n",
    "    Rt     = [] ; tinf   = [] ; beta   = []\n",
    "    t_incu = []\n",
    "    gE     = []; gA     = []; gIa    = []; gIs    = []\n",
    "    fsa    = []; fh     = []\n",
    "    gIh    = []; gIc    = []; gIsp   = []; gIhp   = []; gIcp   = []\n",
    "\n",
    "    for i in range(NoIteration):\n",
    "\n",
    "        alpha_tmp = np.minimum(0.96, np.random.normal(0.75, 0.15))\n",
    "        alpha.append(alpha_tmp)                         # fraction of infected who are asymptomatic\n",
    "\n",
    "        #beta  = 0.5                               # Uncomment to use infection rate for South Africa from \n",
    "                                                   # https://www.medrxiv.org/content/10.1101/2020.04.18.20070771v2\n",
    "                                                   # beta = Rt/tinf\n",
    "        Rt_tmp = Rt_initial*np.random.normal(1.0, 0.03)\n",
    "        Rt.append(Rt_tmp)                          # using the value we used in our original model\n",
    "\n",
    "        tinf_tmp = np.maximum(2, np.random.normal(8.15, 1.15))\n",
    "        tinf.append(tinf_tmp)                      # infectious time\n",
    "        beta.append(Rt_tmp/tinf_tmp)\n",
    "\n",
    "        t_incu_tmp = 5.1\n",
    "        t_incu.append(t_incu_tmp)\n",
    "        gE.append(1./t_incu_tmp)                   # rate of removal of Exposed, aka 1/t_incu \n",
    "\n",
    "        gA_tmp = 3.12\n",
    "        gA.append(1./gA_tmp)                       # rate of removal of Activated\n",
    "        gIa_tmp = 7.\n",
    "        gIa.append(1./gIa_tmp)                     # rate of removal of asymptomatic infectives \n",
    "        gIs_tmp = 4.82\n",
    "        gIs.append(1./gIs_tmp)                     # rate of removal of symptomatic infectives \n",
    "\n",
    "\n",
    "        fsa    = 1.                                # the self-isolation parameter   \n",
    "        fh     = 0.2                               # fraction by which hospitalised individuals are isolated\n",
    "\n",
    "        gIh_tmp = np.maximum(3, np.random.normal(10.4, 4))\n",
    "        gIh.append(1./gIh_tmp)                     # rate of removal for hospitalised individuals\n",
    "        gIc_tmp = np.maximum(3, np.random.normal(10.4, 4))\n",
    "        gIc.append(1./gIc_tmp)                     # rate of removal for idividuals in intensive care\n",
    "\n",
    "        gIsp_tmp = 7.\n",
    "        gIsp.append(1./gIsp_tmp)                   # rate of removal from symptomatic individuals towards buffer\n",
    "\n",
    "        gIhp_tmp = np.maximum(3, np.random.normal(10.4, 4))\n",
    "        gIhp.append(1./gIhp_tmp)                   # rate of removal from hospitalised individuals towards buffer\n",
    "\n",
    "        gIcp_tmp = np.maximum(3, np.random.normal(10, 2))\n",
    "        gIcp.append(1./gIcp_tmp)                   # rate of removal from ICU individuals towards buffer\n",
    "\n",
    "\n",
    "    ModelParamDf = pd.DataFrame({'alpha':alpha,'Rt': Rt, 'tinf': tinf, 'beta':beta, 't_incu':t_incu,\n",
    "                                 'gE': gE, 'gA': gA, 'gIa':gIa, 'gIs':gIs,'fsa':fsa, \n",
    "                                 'fh':fh, 'gIh':gIh,'gIc':gIc, 'gIsp':gIsp, 'gIhp':gIhp, \n",
    "                                 'gIcp':gIcp}, \n",
    "                                columns = ['alpha', 'Rt', 'tinf', 'beta', 't_incu', \n",
    "                                           'gE', 'gA', 'gIa', 'gIs', 'fsa', 'fh', 'gIh',\n",
    "                                           'gIc', 'gIsp', 'gIhp', 'gIcp'])\n",
    "    return(ModelParamDf)"
   ]
  },
  {
   "cell_type": "code",
   "execution_count": 32,
   "metadata": {},
   "outputs": [],
   "source": [
    "#\n",
    "# This is testing for National values, change Rt initial if required\n",
    "# \n",
    "Nums = 1000\n",
    "ParamDf = ToEnsemble(Nums, Rt_initial=2.4)\n"
   ]
  },
  {
   "cell_type": "code",
   "execution_count": 33,
   "metadata": {},
   "outputs": [
    {
     "data": {
      "text/html": [
       "<div>\n",
       "<style scoped>\n",
       "    .dataframe tbody tr th:only-of-type {\n",
       "        vertical-align: middle;\n",
       "    }\n",
       "\n",
       "    .dataframe tbody tr th {\n",
       "        vertical-align: top;\n",
       "    }\n",
       "\n",
       "    .dataframe thead th {\n",
       "        text-align: right;\n",
       "    }\n",
       "</style>\n",
       "<table border=\"1\" class=\"dataframe\">\n",
       "  <thead>\n",
       "    <tr style=\"text-align: right;\">\n",
       "      <th></th>\n",
       "      <th>alpha</th>\n",
       "      <th>Rt</th>\n",
       "      <th>tinf</th>\n",
       "      <th>beta</th>\n",
       "      <th>t_incu</th>\n",
       "      <th>gE</th>\n",
       "      <th>gA</th>\n",
       "      <th>gIa</th>\n",
       "      <th>gIs</th>\n",
       "      <th>fsa</th>\n",
       "      <th>fh</th>\n",
       "      <th>gIh</th>\n",
       "      <th>gIc</th>\n",
       "      <th>gIsp</th>\n",
       "      <th>gIhp</th>\n",
       "      <th>gIcp</th>\n",
       "    </tr>\n",
       "  </thead>\n",
       "  <tbody>\n",
       "    <tr>\n",
       "      <th>0</th>\n",
       "      <td>0.616055</td>\n",
       "      <td>2.399816</td>\n",
       "      <td>9.680648</td>\n",
       "      <td>0.247898</td>\n",
       "      <td>5.1</td>\n",
       "      <td>0.196078</td>\n",
       "      <td>0.320513</td>\n",
       "      <td>0.142857</td>\n",
       "      <td>0.207469</td>\n",
       "      <td>1.0</td>\n",
       "      <td>0.2</td>\n",
       "      <td>0.195888</td>\n",
       "      <td>0.120559</td>\n",
       "      <td>0.142857</td>\n",
       "      <td>0.119571</td>\n",
       "      <td>0.091714</td>\n",
       "    </tr>\n",
       "    <tr>\n",
       "      <th>1</th>\n",
       "      <td>0.704642</td>\n",
       "      <td>2.472379</td>\n",
       "      <td>7.173420</td>\n",
       "      <td>0.344658</td>\n",
       "      <td>5.1</td>\n",
       "      <td>0.196078</td>\n",
       "      <td>0.320513</td>\n",
       "      <td>0.142857</td>\n",
       "      <td>0.207469</td>\n",
       "      <td>1.0</td>\n",
       "      <td>0.2</td>\n",
       "      <td>0.077538</td>\n",
       "      <td>0.171540</td>\n",
       "      <td>0.142857</td>\n",
       "      <td>0.098963</td>\n",
       "      <td>0.081240</td>\n",
       "    </tr>\n",
       "    <tr>\n",
       "      <th>2</th>\n",
       "      <td>0.859257</td>\n",
       "      <td>2.439040</td>\n",
       "      <td>7.086276</td>\n",
       "      <td>0.344192</td>\n",
       "      <td>5.1</td>\n",
       "      <td>0.196078</td>\n",
       "      <td>0.320513</td>\n",
       "      <td>0.142857</td>\n",
       "      <td>0.207469</td>\n",
       "      <td>1.0</td>\n",
       "      <td>0.2</td>\n",
       "      <td>0.057662</td>\n",
       "      <td>0.063800</td>\n",
       "      <td>0.142857</td>\n",
       "      <td>0.080051</td>\n",
       "      <td>0.102480</td>\n",
       "    </tr>\n",
       "    <tr>\n",
       "      <th>3</th>\n",
       "      <td>0.892892</td>\n",
       "      <td>2.447173</td>\n",
       "      <td>8.806675</td>\n",
       "      <td>0.277877</td>\n",
       "      <td>5.1</td>\n",
       "      <td>0.196078</td>\n",
       "      <td>0.320513</td>\n",
       "      <td>0.142857</td>\n",
       "      <td>0.207469</td>\n",
       "      <td>1.0</td>\n",
       "      <td>0.2</td>\n",
       "      <td>0.124751</td>\n",
       "      <td>0.110305</td>\n",
       "      <td>0.142857</td>\n",
       "      <td>0.122601</td>\n",
       "      <td>0.102097</td>\n",
       "    </tr>\n",
       "    <tr>\n",
       "      <th>4</th>\n",
       "      <td>0.521355</td>\n",
       "      <td>2.502123</td>\n",
       "      <td>8.198236</td>\n",
       "      <td>0.305203</td>\n",
       "      <td>5.1</td>\n",
       "      <td>0.196078</td>\n",
       "      <td>0.320513</td>\n",
       "      <td>0.142857</td>\n",
       "      <td>0.207469</td>\n",
       "      <td>1.0</td>\n",
       "      <td>0.2</td>\n",
       "      <td>0.090097</td>\n",
       "      <td>0.150445</td>\n",
       "      <td>0.142857</td>\n",
       "      <td>0.101726</td>\n",
       "      <td>0.122070</td>\n",
       "    </tr>\n",
       "  </tbody>\n",
       "</table>\n",
       "</div>"
      ],
      "text/plain": [
       "      alpha        Rt      tinf      beta  t_incu        gE        gA  \\\n",
       "0  0.616055  2.399816  9.680648  0.247898     5.1  0.196078  0.320513   \n",
       "1  0.704642  2.472379  7.173420  0.344658     5.1  0.196078  0.320513   \n",
       "2  0.859257  2.439040  7.086276  0.344192     5.1  0.196078  0.320513   \n",
       "3  0.892892  2.447173  8.806675  0.277877     5.1  0.196078  0.320513   \n",
       "4  0.521355  2.502123  8.198236  0.305203     5.1  0.196078  0.320513   \n",
       "\n",
       "        gIa       gIs  fsa   fh       gIh       gIc      gIsp      gIhp  \\\n",
       "0  0.142857  0.207469  1.0  0.2  0.195888  0.120559  0.142857  0.119571   \n",
       "1  0.142857  0.207469  1.0  0.2  0.077538  0.171540  0.142857  0.098963   \n",
       "2  0.142857  0.207469  1.0  0.2  0.057662  0.063800  0.142857  0.080051   \n",
       "3  0.142857  0.207469  1.0  0.2  0.124751  0.110305  0.142857  0.122601   \n",
       "4  0.142857  0.207469  1.0  0.2  0.090097  0.150445  0.142857  0.101726   \n",
       "\n",
       "       gIcp  \n",
       "0  0.091714  \n",
       "1  0.081240  \n",
       "2  0.102480  \n",
       "3  0.102097  \n",
       "4  0.122070  "
      ]
     },
     "execution_count": 33,
     "metadata": {},
     "output_type": "execute_result"
    }
   ],
   "source": [
    "ParamDf.head()"
   ]
  },
  {
   "cell_type": "code",
   "execution_count": 34,
   "metadata": {},
   "outputs": [
    {
     "data": {
      "text/plain": [
       "Text(0.5, 0, 'Rt values')"
      ]
     },
     "execution_count": 34,
     "metadata": {},
     "output_type": "execute_result"
    },
    {
     "data": {
      "image/png": "[encoded data removed]",
      "text/plain": [
       "<Figure size 864x720 with 1 Axes>"
      ]
     },
     "metadata": {
      "needs_background": "light"
     },
     "output_type": "display_data"
    }
   ],
   "source": [
    "ParamDf.Rt.plot(kind='hist',bins=25);\n",
    "plt.xlabel(\"Rt values\")"
   ]
  },
  {
   "cell_type": "markdown",
   "metadata": {},
   "source": [
    "## Setting the initial conditions based on the sensemble "
   ]
  },
  {
   "cell_type": "code",
   "execution_count": 35,
   "metadata": {},
   "outputs": [],
   "source": [
    "def ToPlot(ArrayToPlot, TimeArray, DfDead, DateToStart, title):\n",
    "    '''\n",
    "    \n",
    "    This function will take the prediction array and produce the plots similar to the ones we have used in our report\n",
    "    \n",
    "    Input:\n",
    "        ArrayToPlot - this is the array returned from the modelling that hild the varous compartment populations\n",
    "        TimeArray - array holding the time indices that was used for the prediction\n",
    "        DfDead - dataframe containing the dead cases for plotting over our fatalities\n",
    "        DateToStart - date to start plotting fatalities\n",
    "        title - the title of your plot\n",
    "    Output:\n",
    "        Return NoN\n",
    "    '''\n",
    "    \n",
    "    S = ArrayToPlot[:,:,0]\n",
    "    E = ArrayToPlot[:,:,1]\n",
    "    A = ArrayToPlot[:,:,2]\n",
    "    Ia = ArrayToPlot[:,:,3]\n",
    "    Is = ArrayToPlot[:,:,4]\n",
    "    Ih = ArrayToPlot[:,:,5]\n",
    "    Ic = ArrayToPlot[:,:,6]\n",
    "    Im = ArrayToPlot[:,:,7]\n",
    "    R = ArrayToPlot[:,:,8]\n",
    "\n",
    "    TotalCases = (Ia + Is + Ih + Ic + Im)\n",
    "\n",
    "    Time = data['t']\n",
    "\n",
    "    #\n",
    "    # Plan is to set this as proper date if needed\n",
    "    #\n",
    "    #StartDate = datetime.strptime(DateToStart, \"%Y-%m-%d\")\n",
    "    #datelist = pd.date_range(StartDate, periods=Tf).tolist()\n",
    "\n",
    "    fig, ((ax1, ax2), (ax3, ax4)) = plt.subplots(2, 2, figsize=(16,12))\n",
    "\n",
    "    #\n",
    "    # set uniform characteristics for axes\n",
    "    #\n",
    "    for idx, axis in enumerate([ax1, ax2, ax3, ax4]):\n",
    "        axis.set_ylim(ymin=10, ymax=NZA*1.2)\n",
    "        axis.set_xlim(0, Tf)\n",
    "        axis.set_yscale('log')\n",
    "        axis.tick_params(axis='y', labelsize=15);\n",
    "        axis.hlines([1e+03, 1e+04, 1e+05, 1e+06], xmin=0, xmax=Tf, linestyles='dotted', alpha = 0.6);\n",
    "\n",
    "    #\n",
    "    # Doing the plot now\n",
    "    #\n",
    "    for i in range(len(ArrayToPlot)):\n",
    "        ax1.plot(TimeArray, Ic[i,:], 'tab:orange', alpha=0.1, label='Ic - Critical/ICU')\n",
    "        ax2.plot(TimeArray, Im[i,:], 'tab:red', alpha=0.1, label='Im - Fatality')\n",
    "        ax3.plot(TimeArray, Ih[i,:], 'dodgerblue', alpha=0.1, label='Ih - Hospitalised')\n",
    "        ax4.plot(TimeArray, TotalCases[i,:], 'tab:blue', alpha=0.1, label='Cases - Total Cases')\n",
    "    #\n",
    "    # To plot the current dead cases, include the following, by passing this dataframe too\n",
    "    #\n",
    "    ax2.plot(DfDead[DfDead.index >= DateToStart]['Dead'].values, 'k', lw=3)\n",
    "\n",
    "    fig.suptitle(title, fontsize=16)\n",
    "\n",
    "    ax1.set_title(\"Individuals in Critical State\")\n",
    "    ax2.set_title(\"Fatalities\")\n",
    "    ax3.set_title(\"Individuals in Hospital\")\n",
    "    ax4.set_title((\"Cumulative Total Cases\"))\n",
    "\n",
    "\n",
    "    ax1.set_ylabel('Populations')\n",
    "    ax3.set_ylabel('Populations')\n",
    "    ax3.set_xlabel(f\"Time [No. days from {DateToStart}]\")\n",
    "    ax4.set_xlabel(f\"Time [No. days from {DateToStart}]\")\n",
    "\n",
    "    return()"
   ]
  },
  {
   "cell_type": "code",
   "execution_count": null,
   "metadata": {},
   "outputs": [],
   "source": []
  },
  {
   "cell_type": "markdown",
   "metadata": {},
   "source": [
    "## Run the above model using  WC province here"
   ]
  },
  {
   "cell_type": "code",
   "execution_count": null,
   "metadata": {},
   "outputs": [],
   "source": []
  },
  {
   "cell_type": "code",
   "execution_count": 36,
   "metadata": {},
   "outputs": [],
   "source": [
    "## Will make a function to call the model\n",
    "\n",
    "def MyModel(NoIteration, ParamDf, M,  Tf, Nf, Ni):\n",
    "    \n",
    "    '''\n",
    "    This function is used to instantiate the model again for ensemble\n",
    "    \n",
    "    Input:\n",
    "        NoIteration - Number of iterations to run (which should be <= Number of iteration used to generate ensemble)\n",
    "        ParamDf - dataframe containing the ensemble paramters\n",
    "        M, Tf, Nf, Ni - parameters explained earlier \n",
    "    Output:\n",
    "        trajectories_s - series for the prediction for each compartment \n",
    "        trajectories_time - time series from prediction\n",
    "    \n",
    "    '''\n",
    "\n",
    "    NoCompartment = 9                                    # Total number of compartments we have in our model\n",
    "    trajectories_s = np.zeros([Nums,Nf,9*M],dtype=float) # setting array to hold our results\n",
    "\n",
    "\n",
    "    for i in range(NoIteration):\n",
    "        print('Running simulation {0} of {1}'.format(i+1,NoIteration),end='\\r')\n",
    "        #\n",
    "        # intantiate model\n",
    "        #\n",
    "\n",
    "        A_0   = np.zeros((M))\n",
    "\n",
    "        #\n",
    "        #Ia_0  initial asymptomatic cases\n",
    "        #\n",
    "\n",
    "        frac_asymptomatic = ParamDf['alpha'].values[i] # 5-80% https://www.cebm.net/covid-19/covid-19-what-proportion-are-asymptomatic/\n",
    "\n",
    "        #\n",
    "        # total cases - recovered: 5951 - 2498\n",
    "        #\n",
    "        n_tested_active   = ProvinConf[ProvinConf.index == DateToStart]['Confirmed'].values[0]- \\\n",
    "                            ProvinRecover[ProvinRecover.index == DateToStart]['Recovered'].values[0]\n",
    "\n",
    "        Ia_0              = (n_tested_active * (1/(1-frac_asymptomatic)))*np.ones((M)) \n",
    "\n",
    "        E_0   = Ia_0 * 1.7                     # (R_t^(time from infection to test)/t_inf ~ 2)*n_infected\n",
    "\n",
    "        #\n",
    "        # initial symptomatic cases\n",
    "        #\n",
    "        Is_0  = ProvinConf[ProvinConf.index == DateToStart]['Confirmed'].values[0]*np.ones((M))\n",
    "\n",
    "        Isp_0 = np.zeros((M))\n",
    "\n",
    "        #\n",
    "        # initial hospitalised cases\n",
    "        #\n",
    "        Ih_0  = 140*np.ones((M))               \n",
    "        Ihp_0 = np.zeros((M))\n",
    "\n",
    "        #\n",
    "        # initial icu patients\n",
    "        #\n",
    "        Ic_0  = 70*np.ones((M))                \n",
    "        Icp_0 = np.zeros((M))\n",
    "\n",
    "        #\n",
    "        # initial mortality cases\n",
    "        #\n",
    "        Im_0  = ProvinDead[ProvinDead.index == DateToStart]['Dead'].values[0]*np.ones((M))\n",
    "\n",
    "        #\n",
    "        # assume no removed individuals\n",
    "        #\n",
    "        #n_recovered = (n_total_cases - n_tested_active) * (1/(1-frac_asymptomatic))\n",
    "        R_0   = (ProvinConf[ProvinConf.index == DateToStart]['Confirmed'].values[0] - n_tested_active)*\\\n",
    "                (1/(1-frac_asymptomatic))*np.ones(M)\n",
    "\n",
    "        S_0   = Ni - (E_0 + A_0 + Ia_0 + Is_0 + Isp_0+ Icp_0+ Ihp_0 + Ih_0 + Ic_0  + R_0)\n",
    "\n",
    "        parameters = {'alpha':ParamDf['alpha'].values[i],\n",
    "                      'beta' :ParamDf['beta'].values[i], \n",
    "                      'gIa'  :ParamDf['gIa'].values[i],\n",
    "                      'gIs'  :ParamDf['gIs'].values[i],\n",
    "                      'gIh'  :ParamDf['gIh'].values[i],\n",
    "                      'gIc'  :ParamDf['gIc'].values[i],\n",
    "                      'gE'   :ParamDf['gE'].values[i],\n",
    "                      'gA'   :ParamDf['gA'].values[i],\n",
    "                      'fsa'  :ParamDf['fsa'].values[i],\n",
    "                      'fh'   :ParamDf['fh'].values[i], \n",
    "                      'gIsp' :ParamDf['gIsp'].values[i], \n",
    "                      'gIcp' :ParamDf['gIcp'].values[i], \n",
    "                      'gIhp' :ParamDf['gIhp'].values[i],\n",
    "                      'sa':sa, 'hh':hh, 'cc':cc, 'mm':mm}\n",
    "        model = pyross.deterministic.SEAI5R(parameters, M, Ni)\n",
    "        data  = model.simulate(S_0, E_0, A_0, Ia_0, Is_0, Ih_0, Ic_0, Im_0, contactMatrix, Tf, Nf)\n",
    "        trajectories_s[i] = data['X']\n",
    "    \n",
    "    trajectories_time =  data['t']\n",
    "    \n",
    "    return(trajectories_s, trajectories_time)"
   ]
  },
  {
   "cell_type": "markdown",
   "metadata": {},
   "source": [
    "# Need to extract the Rt for the province and pass it in the function below"
   ]
  },
  {
   "cell_type": "code",
   "execution_count": 37,
   "metadata": {},
   "outputs": [],
   "source": [
    "#\n",
    "# First calculate ParamDf, e.g. using Rt for WC\n",
    "#\n",
    "ParamDf = ToEnsemble(Nums, 2.4)"
   ]
  },
  {
   "cell_type": "code",
   "execution_count": 38,
   "metadata": {},
   "outputs": [],
   "source": [
    "#SAProvPop.head"
   ]
  },
  {
   "cell_type": "code",
   "execution_count": 39,
   "metadata": {},
   "outputs": [
    {
     "name": "stdin",
     "output_type": "stream",
     "text": [
      "Enter province name of [National] from above names ['Gauteng' 'KwaZulu-Natal' 'Western Cape' 'Eastern Cape' 'Limpopo'\n",
      " 'Mpumalanga' 'Northwest' 'Free State' 'Northern Cape'] National\n"
     ]
    }
   ],
   "source": [
    "province = input(f\"Enter province name of [National] from above names {SAProvPop.Province.unique()}\") \n"
   ]
  },
  {
   "cell_type": "code",
   "execution_count": 40,
   "metadata": {},
   "outputs": [],
   "source": [
    "if province == 'National':\n",
    "    Ni = np.array([NZA])\n",
    "else:\n",
    "    Ni = SAProvPop[SAProvPop['Province'] == province]['Pop'].values"
   ]
  },
  {
   "cell_type": "code",
   "execution_count": null,
   "metadata": {},
   "outputs": [],
   "source": []
  },
  {
   "cell_type": "code",
   "execution_count": 41,
   "metadata": {},
   "outputs": [
    {
     "name": "stdout",
     "output_type": "stream",
     "text": [
      "Total population in National = [59156682]\n"
     ]
    }
   ],
   "source": [
    "print(f\"Total population in {province} = {Ni}\")"
   ]
  },
  {
   "cell_type": "code",
   "execution_count": 42,
   "metadata": {},
   "outputs": [
    {
     "name": "stdout",
     "output_type": "stream",
     "text": [
      "Running simulation 500 of 500\r"
     ]
    }
   ],
   "source": [
    "MyPredict, MyPredictTime = MyModel(500, ParamDf, M,  Tf, Nf, Ni)"
   ]
  },
  {
   "cell_type": "code",
   "execution_count": 43,
   "metadata": {},
   "outputs": [
    {
     "data": {
      "text/plain": [
       "((1000, 600, 9), (600,))"
      ]
     },
     "execution_count": 43,
     "metadata": {},
     "output_type": "execute_result"
    }
   ],
   "source": [
    "MyPredict.shape, MyPredictTime.shape"
   ]
  },
  {
   "cell_type": "code",
   "execution_count": null,
   "metadata": {},
   "outputs": [],
   "source": [
    "\n",
    "ToPlot(MyPredict, MyPredictTime, ProvinDead, DateToStart,province+\"-SEI5R prediction\")\n"
   ]
  },
  {
   "cell_type": "code",
   "execution_count": null,
   "metadata": {},
   "outputs": [],
   "source": []
  }
 ],
 "metadata": {
  "kernelspec": {
   "display_name": "Python 3",
   "language": "python",
   "name": "python3"
  },
  "language_info": {
   "codemirror_mode": {
    "name": "ipython",
    "version": 3
   },
   "file_extension": ".py",
   "mimetype": "text/x-python",
   "name": "python",
   "nbconvert_exporter": "python",
   "pygments_lexer": "ipython3",
   "version": "3.6.9"
  }
 },
 "nbformat": 4,
 "nbformat_minor": 4
}
