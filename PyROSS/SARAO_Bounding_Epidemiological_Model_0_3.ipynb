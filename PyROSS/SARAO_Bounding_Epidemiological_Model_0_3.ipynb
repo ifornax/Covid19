{
 "cells": [
  {
   "cell_type": "markdown",
   "metadata": {
    "colab_type": "text",
    "id": "P3umw4out-eY"
   },
   "source": [
    "# SARAO Epidemiological Model\n",
    "\n",
    "Objective\n",
    "\n",
    "The objective of the model is to estimate the upper and lower bounds for total demand for hospitalization and ventilator to aid with production planning for the National Ventilator Project executed by SARAO."
   ]
  },
  {
   "cell_type": "markdown",
   "metadata": {
    "colab_type": "text",
    "id": "fvBV8g35yex-"
   },
   "source": [
    "### Imports"
   ]
  },
  {
   "cell_type": "code",
   "execution_count": 1,
   "metadata": {
    "colab": {},
    "colab_type": "code",
    "id": "v1lrdgoxuV1U"
   },
   "outputs": [],
   "source": [
    "import pandas as pd\n",
    "import numpy as np\n",
    "import matplotlib.pyplot as plt\n",
    "\n",
    "from scipy.integrate import solve_ivp\n",
    "from scipy import stats\n",
    "\n",
    "import warnings"
   ]
  },
  {
   "cell_type": "markdown",
   "metadata": {
    "colab_type": "text",
    "id": "ji7e3We3t4MC"
   },
   "source": [
    "### SEIR-model\n",
    "We use a class of what is known as compartmental models in which individuals in a population are divided into different compartments depending on predetermined epidemiological properties. Within each compartment, individuals are assumed to have the same characteristics and act in the same way. These are mean-field models, tracking spatially averaged population qualities as they vary over time, with individuals assumed to be homogenous within compartments. The compartments are denoted S as in susceptible, E as in exposed, I as in infected, H as in hospitalised, C as in critical and potentially requiring ICU facility, R as in recovered, and D as in deceased.\n",
    "\n",
    "When a healthy individual gets infected, he or she does not become infectious at once but enters the symptom-free phase E and remains in that compartment for an average incubation time or latency period, t_inc = 1/sigma.\n",
    "We divide infectious cases into two groups: reported cases and unreported cases. After the incubation period, an infected individual either is tested through the public or private health care sector and becomes a confirmed and reported case or remains unconfirmed, i.e. an unreported case.\n",
    "\n",
    "The average time during which an infected individual is infectious is t_inf.\n",
    "\n",
    "We assume a closed population, which is justified under a model of the rapid spread of a pathogen; that is, we neglect births, and deaths due to other causes in our modeled population. We denote the number of individuals in each compartment by S, E, I_r, I_u, H, C, R, and D, the sum of which is the population size, N."
   ]
  },
  {
   "cell_type": "markdown",
   "metadata": {
    "colab_type": "text",
    "id": "DEb1KPs9uKtT"
   },
   "source": [
    "## Transmission Dynamics"
   ]
  },
  {
   "cell_type": "code",
   "execution_count": 2,
   "metadata": {
    "colab": {},
    "colab_type": "code",
    "id": "Z6ag1CVoq1JY"
   },
   "outputs": [],
   "source": [
    "# Susceptible\n",
    "def dS_dt(S, I, R_t, t_inf):\n",
    "    return -(R_t / t_inf) * I * S\n",
    "\n",
    "# Exposed\n",
    "def dE_dt(S, E, I, R_t, t_inf, t_inc):\n",
    "    return (R_t / t_inf) * I * S - (E / t_inc)\n",
    "\n",
    "# Infected\n",
    "def dI_dt(I, E, t_inc, t_inf):\n",
    "    return (E / t_inc) - (I / t_inf)\n",
    "\n",
    "# Hospitalized \n",
    "def dH_dt(I, C, H, t_inf, t_hosp, t_crit, frac_mild_total, frac_fatal):\n",
    "    return ((1 - frac_mild_total) * (I / t_inf)) + ((1 - frac_fatal) * C / t_crit) - (H / t_hosp)\n",
    "\n",
    "# Critical\n",
    "def dC_dt(H, C, t_hosp, t_crit, frac_crit):\n",
    "    return (frac_crit * H / t_hosp) - (C/t_crit)\n",
    "    # return (frac_crit * H / t_hosp) - (1-frac_fatal)*(C/t_crit) - frac_fatal*(C/t_crit)\n",
    "    # i.e.  = (term gained from Hospitalised) - (term lost to Hospitalised) - (term lost to Deaths)\n",
    "    #       = (term gained from H) - (terms lost to both H and D)\n",
    "\n",
    "# Recovered\n",
    "def dR_dt(I, H, t_inf, t_hosp, frac_mild_total, frac_crit):\n",
    "    return (frac_mild_total * I / t_inf) + (1 - frac_crit) * (H / t_hosp)\n",
    "\n",
    "# Deaths\n",
    "def dD_dt(C, t_crit, frac_fatal):\n",
    "    return frac_fatal * (C/t_crit)\n",
    "\n",
    "\n",
    "def SEIR_HCD_model(t, y, R_t, t_inc=2.9, t_inf=6.1, t_hosp=4, t_crit=10, frac_mild_total=0.96, frac_crit=0.2, frac_fatal=0.2):\n",
    "    \"\"\"\n",
    "    :param t: Time step for solve_ivp\n",
    "    :param y: Previous solution or initial values\n",
    "    :param R_t: Time-varying reproductive number\n",
    "    :param t_inc: Average incubation period. \n",
    "    :param t_inf: Average infectious period. \n",
    "    :param t_hosp: Average time a patient is in hospital before either recovering or becoming critical.\n",
    "    :param t_crit: Average time a patient is in a critical state (either recovers or dies).\n",
    "    :param frac_mild_total: Fraction of infections that are asymptomatic or mild.      \n",
    "    :param frac_crit: Fraction of severe cases that turn critical.                      \n",
    "    :param frac_fatal: Fraction of critical cases that are fatal.                   \n",
    "    :return:\n",
    "    \"\"\"\n",
    "    \n",
    "    # account for potential functional nature of R_t\n",
    "    if callable(R_t):\n",
    "        reprod = R_t(t)\n",
    "    else:\n",
    "        reprod = R_t\n",
    "\n",
    "    S, E, I, R, H, C, D = y\n",
    "    \n",
    "    # account for ICU overload by modifying the fatality ratio\n",
    "    ICU_CAPACITY = 4000/N # [find ref please]\n",
    "    #TURN OFF\n",
    "    #if C > ICU_CAPACITY:\n",
    "      #[again, can we get true number of ICU Overflow fatality and ref from Willem/Fernando?]\n",
    "      #frac_fatal = ((C - ICU_CAPACITY)/C)*np.minimum(0.8, np.random.normal(0.6, 0.15)) + (ICU_CAPACITY/C)*frac_fatal\n",
    "      #frac_fatal = ((C - ICU_CAPACITY)/C)*0.8 + (ICU_CAPACITY/C)*frac_fatal\n",
    "      #frac_fatal = (patients needing ICU who can't get it)*(higher fatality rate) + (patients needing ICU who can get it)*(fiducial fatality rate)\n",
    "    \n",
    "    # account for effect of increased deaths: i. extra lockdown by goverment ii. greater compliance with social distancing measures\n",
    "    def find_idx_nearest(array, value):\n",
    "      array = np.asarray(array)\n",
    "      idx = (np.abs(array - value)).argmin()\n",
    "      return idx # array[idx], idx\n",
    "\n",
    "    dn = np.linspace(1e+03, 2.5e+05, 100)\n",
    "    rn = np.linspace(3, 1.3, 100)\n",
    "    rtcap = rn[find_idx_nearest(dn, D)]\n",
    "    #TURN OFF\n",
    "    #reprod = np.minimum(rtcap, reprod)\n",
    "\n",
    "    S_out = dS_dt(S, I, reprod, t_inf)\n",
    "    E_out = dE_dt(S, E, I, reprod, t_inf, t_inc)\n",
    "    I_out = dI_dt(I, E, t_inc, t_inf)\n",
    "    R_out = dR_dt(I, H, t_inf, t_hosp, frac_mild_total, frac_crit)\n",
    "    H_out = dH_dt(I, C, H, t_inf, t_hosp, t_crit, frac_mild_total, frac_fatal)\n",
    "    C_out = dC_dt(H, C, t_hosp, t_crit, frac_crit)\n",
    "    D_out = dD_dt(C, t_crit, frac_fatal)\n",
    "    return [S_out, E_out, I_out, R_out, H_out, C_out, D_out]"
   ]
  },
  {
   "cell_type": "markdown",
   "metadata": {
    "colab_type": "text",
    "id": "UAChSETBukYs"
   },
   "source": [
    "## Plotting Functions"
   ]
  },
  {
   "cell_type": "code",
   "execution_count": 3,
   "metadata": {
    "colab": {},
    "colab_type": "code",
    "id": "WXvINkhruLaQ"
   },
   "outputs": [],
   "source": [
    "def plot_ensemble(N, scenarios, title='SARAO SIER-HCD Model'):\n",
    "    # set up the axes, titles, styles, etc\n",
    "    fig, ((ax1, ax2), (ax3, ax4)) = plt.subplots(2, 2, figsize=(16,12))\n",
    "    fig.suptitle(title, fontsize=16)\n",
    "    ax1.set_title(\"Individuals in Critical State\")\n",
    "    ax2.set_title(\"Fatalities\")\n",
    "    ax3.set_title(\"Individuals in Hospital\")\n",
    "    ax4.set_title((\"Cumulative Total Cases\"))\n",
    "    \n",
    "    ax3.set_xlabel(\"Days\", fontsize=10);\n",
    "    ax4.set_xlabel(\"Days\", fontsize=10);\n",
    "    \n",
    "    # set uniform characteristics for axes\n",
    "    for idx, axis in enumerate([ax1, ax2, ax3, ax4]):\n",
    "        axis.set_ylim(ymin=10, ymax=N*1.2)\n",
    "        axis.set_xlim(0, model_days)\n",
    "        axis.set_yscale('log')\n",
    "        axis.tick_params(axis='y', labelsize=15);\n",
    "        axis.hlines([1e+03, 1e+04, 1e+05, 1e+06], xmin=0, xmax=model_days, linestyles='dotted', alpha = 0.6);\n",
    "    \n",
    "    #ax4.set_ylim(.001, 1.2)\n",
    "    #ax4.set_xlim(0, model_days)\n",
    "    \n",
    "    # loop over each scenario in the ensemble and plot to the axes\n",
    "    for idx, solution in enumerate(scenarios):\n",
    "        sus, exp, inf, rec, hosp, crit, death = solution.y\n",
    "        cases = (inf + rec + hosp + crit + death)\n",
    "        ax1.plot(crit*N, 'tab:red', label='Critical', alpha=0.05);\n",
    "        ax2.plot(death*N, 'tab:grey', label='Fatalities', alpha=0.05);\n",
    "        ax3.plot(hosp*N, 'tab:orange', label='Hospitalised', alpha=0.05);\n",
    "        ax4.plot(cases*N, 'tab:blue', label='Total cases', alpha=0.1);\n",
    "    \n",
    "    #plot stars\n",
    "    #x_20May = 19 #zero-indexed!\n",
    "    #deaths_20May = 339\n",
    "    #cases_20May=18003\n",
    "    #ax2.scatter(x_20May, deaths_20May, s=40, marker=(5, 2), color = 'r', alpha=1)\n",
    "    #ax4.scatter(x_20May, cases_20May, s=40, marker=(5, 2), color = 'k', alpha=1)\n",
    "\n",
    "    #plot measured cases and deaths from Worldometer\n",
    "    cases = np.array([0,0,0,0,0,0,0,0,0,0,0,0,0,0,0,0,0,0,0,1,1,2,3,7,7,13,16,24,38,61,64,85,116,150,202,240,274,402,554,709,927,1170,1187,1280,1326,1353,1380,1462,1505,1585,1655,1686,1749,1845,1934,2003,2028,2173,2272,2415,2506,2605,2783,3034,3158,3300,3465,3635,3953,4220,4361,4546,4793,4996,5350,5647,5951,6336,6783,7220,7572,7808,8232,8895,9420,10015,10652,11350,12074,12739,13524,14355,15515,16433,17200,18003])\n",
    "    deaths = np.array([0,0,0,0,0,0,0,0,0,0,0,0,0,0,0,0,0,0,0,0,0,0,0,0,0,0,0,0,0,0,0,0,0,0,0,0,0,0,0,0,0,1,1,2,3,5,5,5,9,9,11,12,13,18,18,24,25,25,27,27,34,48,50,52,54,58,58,65,75,79,86,87,90,93,103,103,116,123,131,138,148,153,161,178,186,194,206,206,219,238,247,261,264,286,312,339])\n",
    "    dates = np.array([\"Feb 15\",\"Feb 16\",\"Feb 17\",\"Feb 18\",\"Feb 19\",\"Feb 20\",\"Feb 21\",\"Feb 22\",\"Feb 23\",\"Feb 24\",\"Feb 25\",\"Feb 26\",\"Feb 27\",\"Feb 28\",\"Feb 29\",\"Mar 01\",\"Mar 02\",\"Mar 03\",\"Mar 04\",\"Mar 05\",\"Mar 06\",\"Mar 07\",\"Mar 08\",\"Mar 09\",\"Mar 10\",\"Mar 11\",\"Mar 12\",\"Mar 13\",\"Mar 14\",\"Mar 15\",\"Mar 16\",\"Mar 17\",\"Mar 18\",\"Mar 19\",\"Mar 20\",\"Mar 21\",\"Mar 22\",\"Mar 23\",\"Mar 24\",\"Mar 25\",\"Mar 26\",\"Mar 27\",\"Mar 28\",\"Mar 29\",\"Mar 30\",\"Mar 31\",\"Apr 01\",\"Apr 02\",\"Apr 03\",\"Apr 04\",\"Apr 05\",\"Apr 06\",\"Apr 07\",\"Apr 08\",\"Apr 09\",\"Apr 10\",\"Apr 11\",\"Apr 12\",\"Apr 13\",\"Apr 14\",\"Apr 15\",\"Apr 16\",\"Apr 17\",\"Apr 18\",\"Apr 19\",\"Apr 20\",\"Apr 21\",\"Apr 22\",\"Apr 23\",\"Apr 24\",\"Apr 25\",\"Apr 26\",\"Apr 27\",\"Apr 28\",\"Apr 29\",\"Apr 30\",\"May 01\",\"May 02\",\"May 03\",\"May 04\",\"May 05\",\"May 06\",\"May 07\",\"May 08\",\"May 09\",\"May 10\",\"May 11\",\"May 12\",\"May 13\",\"May 14\",\"May 15\",\"May 16\",\"May 17\",\"May 18\",\"May 19\",\"May 20\"])\n",
    "    ax4.semilogy(cases[76:])\n",
    "    ax2.semilogy(deaths[76:])"
   ]
  },
  {
   "cell_type": "code",
   "execution_count": 4,
   "metadata": {
    "colab": {},
    "colab_type": "code",
    "id": "NZNQdDhPxEqZ"
   },
   "outputs": [],
   "source": [
    "def plot_hist(comp, title=\"Histogram and KDE through scenario ensemble\", days = [31,61,122,153]):\n",
    "  # plot histogram for specified compartment on various key dates\n",
    "  # set up the axes, titles, styles, etc\n",
    "  fig, axes = plt.subplots(2, 2, figsize=(8,6))\n",
    "  ((ax1, ax2), (ax3, ax4)) = axes\n",
    "  fig.suptitle(title, fontsize=14)\n",
    "  ax1.set_title(\"1 June\")\n",
    "  ax2.set_title(\"1 July\")\n",
    "  ax3.set_title(\"1 September\")\n",
    "  ax4.set_title(\"Maximum\")\n",
    "  plt.tight_layout()\n",
    "\n",
    "  # set uniform characteristics for axes\n",
    "  for idx, axis in enumerate([ax1, ax2, ax3, ax4]):\n",
    "    axis.set_yscale('log')\n",
    "    axis.set_xscale(\"log\")\n",
    "    axis.tick_params(axis='y', labelsize=12);\n",
    "\n",
    "    if idx == 3:\n",
    "      hist_data = N*comp.max(1)\n",
    "    else:\n",
    "      hist_data = N*comp[:,int(days[idx])]\n",
    "    \n",
    "    ax1.set_ylabel(\"density\", fontsize=10);\n",
    "    #ax3.set_ylabel(\"density\", fontsize=10);\n",
    "        \n",
    "    MAX=np.max(hist_data)\n",
    "    MIN=np.min(hist_data)\n",
    "    bins = np.logspace(np.log10(MIN), np.log10(MAX), 30)\n",
    "    x_d = np.linspace(MIN, MAX, hist_data.shape[0])\n",
    "\n",
    "    axis.hist(hist_data, bins=bins, density=True, histtype='step', color='k')#, alpha=0.5, log=True)\n",
    "\n",
    "    #percentiles\n",
    "    axis.axvline(np.percentile(hist_data, 50), color='k', linestyle='dotted', alpha=0.5) #ax2.axvline(np.median(h_data), color='g')\n",
    "    axis.axvline(np.percentile(hist_data, 95), color='k', linestyle='dotted', alpha=0.5)\n",
    "    axis.axvline(np.percentile(hist_data, 5), color='k', linestyle='dotted', alpha=0.5)"
   ]
  },
  {
   "cell_type": "markdown",
   "metadata": {
    "colab_type": "text",
    "id": "63WqIj4DykmG"
   },
   "source": [
    "## Model Parameters"
   ]
  },
  {
   "cell_type": "code",
   "execution_count": 5,
   "metadata": {
    "colab": {},
    "colab_type": "code",
    "id": "eJ5yQLakywH9"
   },
   "outputs": [],
   "source": [
    "# parameters from the Imperial paper (https://www.imperial.ac.uk/media/imperial-college/medicine/sph/ide/gida-fellowships/Imperial-College-COVID19-NPI-modelling-16-03-2020.pdf)\n",
    "\n",
    "R_0 = 2.4 # basic reproductive number\n",
    "t_incu = 5.1 # average incubation period\n",
    "t_infect = 6.1 # average infectious period\n",
    "t_hosp = 4 # time in hospital before transitioning to either critical or recovered\n",
    "t_crit = 10 # average time patient is critical before transition to recovered or dead\n",
    "\n",
    "ratio_mild = 0.80 # ratio of infections that are mild.\n",
    "ratio_unreported = 0.80 # ratio of total infections that remain unreported due to lack of symptoms #5-80% https://www.cebm.net/covid-19/covid-19-what-proportion-are-asymptomatic/\n",
    "#ratio_asymptomatic = 0.96 # ratio of infections that are either mild or unreported, and may be symptomless (potentially bad variable name!)\n",
    "ratio_severe = 1 - ratio_mild\n",
    "ratio_crit = 0.20 # ratio of severe cases that become critical\n",
    "ratio_fatal = 0.40 # ratio of critical cases that result in death\n",
    "\n",
    "N = 59156682  # Population size\n",
    "n_tested_active =  4502 #3453 # total cases - recovered: 5951 - 2498\n",
    "n_total_cases = 5951\n",
    "n_hosp = 140#??\n",
    "n_crit = 70#??\n",
    "n_dead = 116"
   ]
  },
  {
   "cell_type": "markdown",
   "metadata": {
    "colab_type": "text",
    "id": "Pxyi00vXz1Fn"
   },
   "source": [
    "## Intervention Scenario"
   ]
  },
  {
   "cell_type": "markdown",
   "metadata": {
    "colab_type": "text",
    "id": "Fsf4DCLez5E9"
   },
   "source": [
    "### Ensembles"
   ]
  },
  {
   "cell_type": "code",
   "execution_count": 6,
   "metadata": {
    "colab": {
     "base_uri": "https://localhost:8080/",
     "height": 1000
    },
    "colab_type": "code",
    "id": "ojILcmbkweGc",
    "outputId": "c2fb35e1-d146-442f-8396-2f337a87ce67"
   },
   "outputs": [
    {
     "name": "stdout",
     "output_type": "stream",
     "text": [
      "0\n",
      "1\n",
      "2\n",
      "3\n",
      "4\n",
      "5\n",
      "6\n",
      "7\n",
      "8\n",
      "9\n",
      "10\n",
      "11\n",
      "12\n",
      "13\n",
      "14\n",
      "15\n",
      "16\n",
      "17\n",
      "18\n",
      "19\n",
      "20\n",
      "21\n",
      "22\n",
      "23\n",
      "24\n",
      "25\n",
      "26\n",
      "27\n",
      "28\n",
      "29\n",
      "30\n",
      "31\n",
      "32\n",
      "33\n",
      "34\n",
      "35\n",
      "36\n",
      "37\n",
      "38\n",
      "39\n",
      "40\n",
      "41\n",
      "42\n",
      "43\n",
      "44\n",
      "45\n",
      "46\n",
      "47\n",
      "48\n",
      "49\n",
      "50\n",
      "51\n",
      "52\n",
      "53\n",
      "54\n",
      "55\n",
      "56\n",
      "57\n",
      "58\n",
      "59\n",
      "60\n",
      "61\n",
      "62\n",
      "63\n",
      "64\n",
      "65\n",
      "66\n",
      "67\n",
      "68\n",
      "69\n",
      "70\n",
      "71\n",
      "72\n",
      "73\n",
      "74\n",
      "75\n",
      "76\n",
      "77\n",
      "78\n",
      "79\n",
      "80\n",
      "81\n",
      "82\n",
      "83\n",
      "84\n",
      "85\n",
      "86\n",
      "87\n",
      "88\n",
      "89\n",
      "90\n",
      "91\n",
      "92\n",
      "93\n",
      "94\n",
      "95\n",
      "96\n",
      "97\n",
      "98\n",
      "99\n",
      "100\n",
      "101\n",
      "102\n",
      "103\n",
      "104\n",
      "105\n",
      "106\n",
      "107\n",
      "108\n",
      "109\n",
      "110\n",
      "111\n",
      "112\n",
      "113\n",
      "114\n",
      "115\n",
      "116\n",
      "117\n",
      "118\n",
      "119\n",
      "120\n",
      "121\n",
      "122\n",
      "123\n",
      "124\n",
      "125\n",
      "126\n",
      "127\n",
      "128\n",
      "129\n",
      "130\n",
      "131\n",
      "132\n",
      "133\n",
      "134\n",
      "135\n",
      "136\n",
      "137\n",
      "138\n",
      "139\n",
      "140\n",
      "141\n",
      "142\n",
      "143\n",
      "144\n",
      "145\n",
      "146\n",
      "147\n",
      "148\n",
      "149\n",
      "150\n",
      "151\n",
      "152\n",
      "153\n",
      "154\n",
      "155\n",
      "156\n",
      "157\n",
      "158\n",
      "159\n",
      "160\n",
      "161\n",
      "162\n",
      "163\n",
      "164\n",
      "165\n",
      "166\n",
      "167\n",
      "168\n",
      "169\n",
      "170\n",
      "171\n",
      "172\n",
      "173\n",
      "174\n",
      "175\n",
      "176\n",
      "177\n",
      "178\n",
      "179\n",
      "180\n",
      "181\n",
      "182\n",
      "183\n"
     ]
    },
    {
     "ename": "KeyboardInterrupt",
     "evalue": "",
     "output_type": "error",
     "traceback": [
      "\u001b[0;31m---------------------------------------------------------------------------\u001b[0m",
      "\u001b[0;31mKeyboardInterrupt\u001b[0m                         Traceback (most recent call last)",
      "\u001b[0;32m<ipython-input-6-af6277acca1e>\u001b[0m in \u001b[0;36m<module>\u001b[0;34m\u001b[0m\n\u001b[1;32m     61\u001b[0m \u001b[0;34m\u001b[0m\u001b[0m\n\u001b[1;32m     62\u001b[0m   \u001b[0;31m# run solver and save to solution matrix\u001b[0m\u001b[0;34m\u001b[0m\u001b[0;34m\u001b[0m\u001b[0;34m\u001b[0m\u001b[0m\n\u001b[0;32m---> 63\u001b[0;31m   \u001b[0msol\u001b[0m \u001b[0;34m=\u001b[0m \u001b[0msolve_ivp\u001b[0m\u001b[0;34m(\u001b[0m\u001b[0mSEIR_HCD_model\u001b[0m\u001b[0;34m,\u001b[0m \u001b[0;34m[\u001b[0m\u001b[0;36m0\u001b[0m\u001b[0;34m,\u001b[0m \u001b[0mmodel_days\u001b[0m\u001b[0;34m]\u001b[0m\u001b[0;34m,\u001b[0m \u001b[0minitial_state\u001b[0m\u001b[0;34m,\u001b[0m \u001b[0margs\u001b[0m\u001b[0;34m=\u001b[0m\u001b[0margs\u001b[0m\u001b[0;34m,\u001b[0m \u001b[0mt_eval\u001b[0m\u001b[0;34m=\u001b[0m\u001b[0mnp\u001b[0m\u001b[0;34m.\u001b[0m\u001b[0marange\u001b[0m\u001b[0;34m(\u001b[0m\u001b[0mmodel_days\u001b[0m\u001b[0;34m)\u001b[0m\u001b[0;34m)\u001b[0m\u001b[0;34m\u001b[0m\u001b[0;34m\u001b[0m\u001b[0m\n\u001b[0m\u001b[1;32m     64\u001b[0m   \u001b[0mi_scenarios\u001b[0m\u001b[0;34m.\u001b[0m\u001b[0mappend\u001b[0m\u001b[0;34m(\u001b[0m\u001b[0msol\u001b[0m\u001b[0;34m)\u001b[0m\u001b[0;34m\u001b[0m\u001b[0;34m\u001b[0m\u001b[0m\n\u001b[1;32m     65\u001b[0m \u001b[0;34m\u001b[0m\u001b[0m\n",
      "\u001b[0;32m~/py3_kernel/lib/python3.8/site-packages/scipy/integrate/_ivp/ivp.py\u001b[0m in \u001b[0;36msolve_ivp\u001b[0;34m(fun, t_span, y0, method, t_eval, dense_output, events, vectorized, args, **options)\u001b[0m\n\u001b[1;32m    575\u001b[0m     \u001b[0mstatus\u001b[0m \u001b[0;34m=\u001b[0m \u001b[0;32mNone\u001b[0m\u001b[0;34m\u001b[0m\u001b[0;34m\u001b[0m\u001b[0m\n\u001b[1;32m    576\u001b[0m     \u001b[0;32mwhile\u001b[0m \u001b[0mstatus\u001b[0m \u001b[0;32mis\u001b[0m \u001b[0;32mNone\u001b[0m\u001b[0;34m:\u001b[0m\u001b[0;34m\u001b[0m\u001b[0;34m\u001b[0m\u001b[0m\n\u001b[0;32m--> 577\u001b[0;31m         \u001b[0mmessage\u001b[0m \u001b[0;34m=\u001b[0m \u001b[0msolver\u001b[0m\u001b[0;34m.\u001b[0m\u001b[0mstep\u001b[0m\u001b[0;34m(\u001b[0m\u001b[0;34m)\u001b[0m\u001b[0;34m\u001b[0m\u001b[0;34m\u001b[0m\u001b[0m\n\u001b[0m\u001b[1;32m    578\u001b[0m \u001b[0;34m\u001b[0m\u001b[0m\n\u001b[1;32m    579\u001b[0m         \u001b[0;32mif\u001b[0m \u001b[0msolver\u001b[0m\u001b[0;34m.\u001b[0m\u001b[0mstatus\u001b[0m \u001b[0;34m==\u001b[0m \u001b[0;34m'finished'\u001b[0m\u001b[0;34m:\u001b[0m\u001b[0;34m\u001b[0m\u001b[0;34m\u001b[0m\u001b[0m\n",
      "\u001b[0;32m~/py3_kernel/lib/python3.8/site-packages/scipy/integrate/_ivp/base.py\u001b[0m in \u001b[0;36mstep\u001b[0;34m(self)\u001b[0m\n\u001b[1;32m    180\u001b[0m         \u001b[0;32melse\u001b[0m\u001b[0;34m:\u001b[0m\u001b[0;34m\u001b[0m\u001b[0;34m\u001b[0m\u001b[0m\n\u001b[1;32m    181\u001b[0m             \u001b[0mt\u001b[0m \u001b[0;34m=\u001b[0m \u001b[0mself\u001b[0m\u001b[0;34m.\u001b[0m\u001b[0mt\u001b[0m\u001b[0;34m\u001b[0m\u001b[0;34m\u001b[0m\u001b[0m\n\u001b[0;32m--> 182\u001b[0;31m             \u001b[0msuccess\u001b[0m\u001b[0;34m,\u001b[0m \u001b[0mmessage\u001b[0m \u001b[0;34m=\u001b[0m \u001b[0mself\u001b[0m\u001b[0;34m.\u001b[0m\u001b[0m_step_impl\u001b[0m\u001b[0;34m(\u001b[0m\u001b[0;34m)\u001b[0m\u001b[0;34m\u001b[0m\u001b[0;34m\u001b[0m\u001b[0m\n\u001b[0m\u001b[1;32m    183\u001b[0m \u001b[0;34m\u001b[0m\u001b[0m\n\u001b[1;32m    184\u001b[0m             \u001b[0;32mif\u001b[0m \u001b[0;32mnot\u001b[0m \u001b[0msuccess\u001b[0m\u001b[0;34m:\u001b[0m\u001b[0;34m\u001b[0m\u001b[0;34m\u001b[0m\u001b[0m\n",
      "\u001b[0;32m~/py3_kernel/lib/python3.8/site-packages/scipy/integrate/_ivp/rk.py\u001b[0m in \u001b[0;36m_step_impl\u001b[0;34m(self)\u001b[0m\n\u001b[1;32m    143\u001b[0m             \u001b[0mh_abs\u001b[0m \u001b[0;34m=\u001b[0m \u001b[0mnp\u001b[0m\u001b[0;34m.\u001b[0m\u001b[0mabs\u001b[0m\u001b[0;34m(\u001b[0m\u001b[0mh\u001b[0m\u001b[0;34m)\u001b[0m\u001b[0;34m\u001b[0m\u001b[0;34m\u001b[0m\u001b[0m\n\u001b[1;32m    144\u001b[0m \u001b[0;34m\u001b[0m\u001b[0m\n\u001b[0;32m--> 145\u001b[0;31m             y_new, f_new = rk_step(self.fun, t, y, self.f, h, self.A,\n\u001b[0m\u001b[1;32m    146\u001b[0m                                    self.B, self.C, self.K)\n\u001b[1;32m    147\u001b[0m             \u001b[0mscale\u001b[0m \u001b[0;34m=\u001b[0m \u001b[0matol\u001b[0m \u001b[0;34m+\u001b[0m \u001b[0mnp\u001b[0m\u001b[0;34m.\u001b[0m\u001b[0mmaximum\u001b[0m\u001b[0;34m(\u001b[0m\u001b[0mnp\u001b[0m\u001b[0;34m.\u001b[0m\u001b[0mabs\u001b[0m\u001b[0;34m(\u001b[0m\u001b[0my\u001b[0m\u001b[0;34m)\u001b[0m\u001b[0;34m,\u001b[0m \u001b[0mnp\u001b[0m\u001b[0;34m.\u001b[0m\u001b[0mabs\u001b[0m\u001b[0;34m(\u001b[0m\u001b[0my_new\u001b[0m\u001b[0;34m)\u001b[0m\u001b[0;34m)\u001b[0m \u001b[0;34m*\u001b[0m \u001b[0mrtol\u001b[0m\u001b[0;34m\u001b[0m\u001b[0;34m\u001b[0m\u001b[0m\n",
      "\u001b[0;32m~/py3_kernel/lib/python3.8/site-packages/scipy/integrate/_ivp/rk.py\u001b[0m in \u001b[0;36mrk_step\u001b[0;34m(fun, t, y, f, h, A, B, C, K)\u001b[0m\n\u001b[1;32m     63\u001b[0m     \u001b[0;32mfor\u001b[0m \u001b[0ms\u001b[0m\u001b[0;34m,\u001b[0m \u001b[0;34m(\u001b[0m\u001b[0ma\u001b[0m\u001b[0;34m,\u001b[0m \u001b[0mc\u001b[0m\u001b[0;34m)\u001b[0m \u001b[0;32min\u001b[0m \u001b[0menumerate\u001b[0m\u001b[0;34m(\u001b[0m\u001b[0mzip\u001b[0m\u001b[0;34m(\u001b[0m\u001b[0mA\u001b[0m\u001b[0;34m[\u001b[0m\u001b[0;36m1\u001b[0m\u001b[0;34m:\u001b[0m\u001b[0;34m]\u001b[0m\u001b[0;34m,\u001b[0m \u001b[0mC\u001b[0m\u001b[0;34m[\u001b[0m\u001b[0;36m1\u001b[0m\u001b[0;34m:\u001b[0m\u001b[0;34m]\u001b[0m\u001b[0;34m)\u001b[0m\u001b[0;34m,\u001b[0m \u001b[0mstart\u001b[0m\u001b[0;34m=\u001b[0m\u001b[0;36m1\u001b[0m\u001b[0;34m)\u001b[0m\u001b[0;34m:\u001b[0m\u001b[0;34m\u001b[0m\u001b[0;34m\u001b[0m\u001b[0m\n\u001b[1;32m     64\u001b[0m         \u001b[0mdy\u001b[0m \u001b[0;34m=\u001b[0m \u001b[0mnp\u001b[0m\u001b[0;34m.\u001b[0m\u001b[0mdot\u001b[0m\u001b[0;34m(\u001b[0m\u001b[0mK\u001b[0m\u001b[0;34m[\u001b[0m\u001b[0;34m:\u001b[0m\u001b[0ms\u001b[0m\u001b[0;34m]\u001b[0m\u001b[0;34m.\u001b[0m\u001b[0mT\u001b[0m\u001b[0;34m,\u001b[0m \u001b[0ma\u001b[0m\u001b[0;34m[\u001b[0m\u001b[0;34m:\u001b[0m\u001b[0ms\u001b[0m\u001b[0;34m]\u001b[0m\u001b[0;34m)\u001b[0m \u001b[0;34m*\u001b[0m \u001b[0mh\u001b[0m\u001b[0;34m\u001b[0m\u001b[0;34m\u001b[0m\u001b[0m\n\u001b[0;32m---> 65\u001b[0;31m         \u001b[0mK\u001b[0m\u001b[0;34m[\u001b[0m\u001b[0ms\u001b[0m\u001b[0;34m]\u001b[0m \u001b[0;34m=\u001b[0m \u001b[0mfun\u001b[0m\u001b[0;34m(\u001b[0m\u001b[0mt\u001b[0m \u001b[0;34m+\u001b[0m \u001b[0mc\u001b[0m \u001b[0;34m*\u001b[0m \u001b[0mh\u001b[0m\u001b[0;34m,\u001b[0m \u001b[0my\u001b[0m \u001b[0;34m+\u001b[0m \u001b[0mdy\u001b[0m\u001b[0;34m)\u001b[0m\u001b[0;34m\u001b[0m\u001b[0;34m\u001b[0m\u001b[0m\n\u001b[0m\u001b[1;32m     66\u001b[0m \u001b[0;34m\u001b[0m\u001b[0m\n\u001b[1;32m     67\u001b[0m     \u001b[0my_new\u001b[0m \u001b[0;34m=\u001b[0m \u001b[0my\u001b[0m \u001b[0;34m+\u001b[0m \u001b[0mh\u001b[0m \u001b[0;34m*\u001b[0m \u001b[0mnp\u001b[0m\u001b[0;34m.\u001b[0m\u001b[0mdot\u001b[0m\u001b[0;34m(\u001b[0m\u001b[0mK\u001b[0m\u001b[0;34m[\u001b[0m\u001b[0;34m:\u001b[0m\u001b[0;34m-\u001b[0m\u001b[0;36m1\u001b[0m\u001b[0;34m]\u001b[0m\u001b[0;34m.\u001b[0m\u001b[0mT\u001b[0m\u001b[0;34m,\u001b[0m \u001b[0mB\u001b[0m\u001b[0;34m)\u001b[0m\u001b[0;34m\u001b[0m\u001b[0;34m\u001b[0m\u001b[0m\n",
      "\u001b[0;32m~/py3_kernel/lib/python3.8/site-packages/scipy/integrate/_ivp/base.py\u001b[0m in \u001b[0;36mfun\u001b[0;34m(t, y)\u001b[0m\n\u001b[1;32m    137\u001b[0m         \u001b[0;32mdef\u001b[0m \u001b[0mfun\u001b[0m\u001b[0;34m(\u001b[0m\u001b[0mt\u001b[0m\u001b[0;34m,\u001b[0m \u001b[0my\u001b[0m\u001b[0;34m)\u001b[0m\u001b[0;34m:\u001b[0m\u001b[0;34m\u001b[0m\u001b[0;34m\u001b[0m\u001b[0m\n\u001b[1;32m    138\u001b[0m             \u001b[0mself\u001b[0m\u001b[0;34m.\u001b[0m\u001b[0mnfev\u001b[0m \u001b[0;34m+=\u001b[0m \u001b[0;36m1\u001b[0m\u001b[0;34m\u001b[0m\u001b[0;34m\u001b[0m\u001b[0m\n\u001b[0;32m--> 139\u001b[0;31m             \u001b[0;32mreturn\u001b[0m \u001b[0mself\u001b[0m\u001b[0;34m.\u001b[0m\u001b[0mfun_single\u001b[0m\u001b[0;34m(\u001b[0m\u001b[0mt\u001b[0m\u001b[0;34m,\u001b[0m \u001b[0my\u001b[0m\u001b[0;34m)\u001b[0m\u001b[0;34m\u001b[0m\u001b[0;34m\u001b[0m\u001b[0m\n\u001b[0m\u001b[1;32m    140\u001b[0m \u001b[0;34m\u001b[0m\u001b[0m\n\u001b[1;32m    141\u001b[0m         \u001b[0mself\u001b[0m\u001b[0;34m.\u001b[0m\u001b[0mfun\u001b[0m \u001b[0;34m=\u001b[0m \u001b[0mfun\u001b[0m\u001b[0;34m\u001b[0m\u001b[0;34m\u001b[0m\u001b[0m\n",
      "\u001b[0;32m~/py3_kernel/lib/python3.8/site-packages/scipy/integrate/_ivp/base.py\u001b[0m in \u001b[0;36mfun_wrapped\u001b[0;34m(t, y)\u001b[0m\n\u001b[1;32m     19\u001b[0m \u001b[0;34m\u001b[0m\u001b[0m\n\u001b[1;32m     20\u001b[0m     \u001b[0;32mdef\u001b[0m \u001b[0mfun_wrapped\u001b[0m\u001b[0;34m(\u001b[0m\u001b[0mt\u001b[0m\u001b[0;34m,\u001b[0m \u001b[0my\u001b[0m\u001b[0;34m)\u001b[0m\u001b[0;34m:\u001b[0m\u001b[0;34m\u001b[0m\u001b[0;34m\u001b[0m\u001b[0m\n\u001b[0;32m---> 21\u001b[0;31m         \u001b[0;32mreturn\u001b[0m \u001b[0mnp\u001b[0m\u001b[0;34m.\u001b[0m\u001b[0masarray\u001b[0m\u001b[0;34m(\u001b[0m\u001b[0mfun\u001b[0m\u001b[0;34m(\u001b[0m\u001b[0mt\u001b[0m\u001b[0;34m,\u001b[0m \u001b[0my\u001b[0m\u001b[0;34m)\u001b[0m\u001b[0;34m,\u001b[0m \u001b[0mdtype\u001b[0m\u001b[0;34m=\u001b[0m\u001b[0mdtype\u001b[0m\u001b[0;34m)\u001b[0m\u001b[0;34m\u001b[0m\u001b[0;34m\u001b[0m\u001b[0m\n\u001b[0m\u001b[1;32m     22\u001b[0m \u001b[0;34m\u001b[0m\u001b[0m\n\u001b[1;32m     23\u001b[0m     \u001b[0;32mreturn\u001b[0m \u001b[0mfun_wrapped\u001b[0m\u001b[0;34m,\u001b[0m \u001b[0my0\u001b[0m\u001b[0;34m\u001b[0m\u001b[0;34m\u001b[0m\u001b[0m\n",
      "\u001b[0;32m~/py3_kernel/lib/python3.8/site-packages/scipy/integrate/_ivp/ivp.py\u001b[0m in \u001b[0;36m<lambda>\u001b[0;34m(t, x, fun)\u001b[0m\n\u001b[1;32m    513\u001b[0m         \u001b[0;31m# additional parameters.  Pass in the original fun as a keyword\u001b[0m\u001b[0;34m\u001b[0m\u001b[0;34m\u001b[0m\u001b[0;34m\u001b[0m\u001b[0m\n\u001b[1;32m    514\u001b[0m         \u001b[0;31m# argument to keep it in the scope of the lambda.\u001b[0m\u001b[0;34m\u001b[0m\u001b[0;34m\u001b[0m\u001b[0;34m\u001b[0m\u001b[0m\n\u001b[0;32m--> 515\u001b[0;31m         \u001b[0mfun\u001b[0m \u001b[0;34m=\u001b[0m \u001b[0;32mlambda\u001b[0m \u001b[0mt\u001b[0m\u001b[0;34m,\u001b[0m \u001b[0mx\u001b[0m\u001b[0;34m,\u001b[0m \u001b[0mfun\u001b[0m\u001b[0;34m=\u001b[0m\u001b[0mfun\u001b[0m\u001b[0;34m:\u001b[0m \u001b[0mfun\u001b[0m\u001b[0;34m(\u001b[0m\u001b[0mt\u001b[0m\u001b[0;34m,\u001b[0m \u001b[0mx\u001b[0m\u001b[0;34m,\u001b[0m \u001b[0;34m*\u001b[0m\u001b[0margs\u001b[0m\u001b[0;34m)\u001b[0m\u001b[0;34m\u001b[0m\u001b[0;34m\u001b[0m\u001b[0m\n\u001b[0m\u001b[1;32m    516\u001b[0m         \u001b[0mjac\u001b[0m \u001b[0;34m=\u001b[0m \u001b[0moptions\u001b[0m\u001b[0;34m.\u001b[0m\u001b[0mget\u001b[0m\u001b[0;34m(\u001b[0m\u001b[0;34m'jac'\u001b[0m\u001b[0;34m)\u001b[0m\u001b[0;34m\u001b[0m\u001b[0;34m\u001b[0m\u001b[0m\n\u001b[1;32m    517\u001b[0m         \u001b[0;32mif\u001b[0m \u001b[0mcallable\u001b[0m\u001b[0;34m(\u001b[0m\u001b[0mjac\u001b[0m\u001b[0;34m)\u001b[0m\u001b[0;34m:\u001b[0m\u001b[0;34m\u001b[0m\u001b[0;34m\u001b[0m\u001b[0m\n",
      "\u001b[0;32m<ipython-input-2-c3c86359d551>\u001b[0m in \u001b[0;36mSEIR_HCD_model\u001b[0;34m(t, y, R_t, t_inc, t_inf, t_hosp, t_crit, frac_mild_total, frac_crit, frac_fatal)\u001b[0m\n\u001b[1;32m     69\u001b[0m       \u001b[0;32mreturn\u001b[0m \u001b[0midx\u001b[0m \u001b[0;31m# array[idx], idx\u001b[0m\u001b[0;34m\u001b[0m\u001b[0;34m\u001b[0m\u001b[0m\n\u001b[1;32m     70\u001b[0m \u001b[0;34m\u001b[0m\u001b[0m\n\u001b[0;32m---> 71\u001b[0;31m     \u001b[0mdn\u001b[0m \u001b[0;34m=\u001b[0m \u001b[0mnp\u001b[0m\u001b[0;34m.\u001b[0m\u001b[0mlinspace\u001b[0m\u001b[0;34m(\u001b[0m\u001b[0;36m1e+03\u001b[0m\u001b[0;34m,\u001b[0m \u001b[0;36m2.5e+05\u001b[0m\u001b[0;34m,\u001b[0m \u001b[0;36m100\u001b[0m\u001b[0;34m)\u001b[0m\u001b[0;34m\u001b[0m\u001b[0;34m\u001b[0m\u001b[0m\n\u001b[0m\u001b[1;32m     72\u001b[0m     \u001b[0mrn\u001b[0m \u001b[0;34m=\u001b[0m \u001b[0mnp\u001b[0m\u001b[0;34m.\u001b[0m\u001b[0mlinspace\u001b[0m\u001b[0;34m(\u001b[0m\u001b[0;36m3\u001b[0m\u001b[0;34m,\u001b[0m \u001b[0;36m1.3\u001b[0m\u001b[0;34m,\u001b[0m \u001b[0;36m100\u001b[0m\u001b[0;34m)\u001b[0m\u001b[0;34m\u001b[0m\u001b[0;34m\u001b[0m\u001b[0m\n\u001b[1;32m     73\u001b[0m     \u001b[0mrtcap\u001b[0m \u001b[0;34m=\u001b[0m \u001b[0mrn\u001b[0m\u001b[0;34m[\u001b[0m\u001b[0mfind_idx_nearest\u001b[0m\u001b[0;34m(\u001b[0m\u001b[0mdn\u001b[0m\u001b[0;34m,\u001b[0m \u001b[0mD\u001b[0m\u001b[0;34m)\u001b[0m\u001b[0;34m]\u001b[0m\u001b[0;34m\u001b[0m\u001b[0;34m\u001b[0m\u001b[0m\n",
      "\u001b[0;32m<__array_function__ internals>\u001b[0m in \u001b[0;36mlinspace\u001b[0;34m(*args, **kwargs)\u001b[0m\n",
      "\u001b[0;32m~/py3_kernel/lib/python3.8/site-packages/numpy/core/function_base.py\u001b[0m in \u001b[0;36mlinspace\u001b[0;34m(start, stop, num, endpoint, retstep, dtype, axis)\u001b[0m\n\u001b[1;32m    130\u001b[0m     \u001b[0mstop\u001b[0m  \u001b[0;34m=\u001b[0m \u001b[0masanyarray\u001b[0m\u001b[0;34m(\u001b[0m\u001b[0mstop\u001b[0m\u001b[0;34m)\u001b[0m  \u001b[0;34m*\u001b[0m \u001b[0;36m1.0\u001b[0m\u001b[0;34m\u001b[0m\u001b[0;34m\u001b[0m\u001b[0m\n\u001b[1;32m    131\u001b[0m \u001b[0;34m\u001b[0m\u001b[0m\n\u001b[0;32m--> 132\u001b[0;31m     \u001b[0mdt\u001b[0m \u001b[0;34m=\u001b[0m \u001b[0mresult_type\u001b[0m\u001b[0;34m(\u001b[0m\u001b[0mstart\u001b[0m\u001b[0;34m,\u001b[0m \u001b[0mstop\u001b[0m\u001b[0;34m,\u001b[0m \u001b[0mfloat\u001b[0m\u001b[0;34m(\u001b[0m\u001b[0mnum\u001b[0m\u001b[0;34m)\u001b[0m\u001b[0;34m)\u001b[0m\u001b[0;34m\u001b[0m\u001b[0;34m\u001b[0m\u001b[0m\n\u001b[0m\u001b[1;32m    133\u001b[0m     \u001b[0;32mif\u001b[0m \u001b[0mdtype\u001b[0m \u001b[0;32mis\u001b[0m \u001b[0;32mNone\u001b[0m\u001b[0;34m:\u001b[0m\u001b[0;34m\u001b[0m\u001b[0;34m\u001b[0m\u001b[0m\n\u001b[1;32m    134\u001b[0m         \u001b[0mdtype\u001b[0m \u001b[0;34m=\u001b[0m \u001b[0mdt\u001b[0m\u001b[0;34m\u001b[0m\u001b[0;34m\u001b[0m\u001b[0m\n",
      "\u001b[0;32m<__array_function__ internals>\u001b[0m in \u001b[0;36mresult_type\u001b[0;34m(*args, **kwargs)\u001b[0m\n",
      "\u001b[0;31mKeyboardInterrupt\u001b[0m: "
     ]
    }
   ],
   "source": [
    "model_days = 240\n",
    "N_RUNS = 1000\n",
    "\n",
    "def time_varying_reproduction(t):\n",
    "    if t <= t_startL5:\n",
    "        warnings.warn(\"Using R_0 in time-varying_reproduction function\") #throw error/warning\n",
    "        return R_0\n",
    "    elif t > t_startL5 and t <= t_startL4:\n",
    "        return R_t_L5\n",
    "    elif t > t_startL4 and t <= t_startL3:\n",
    "        return R_t_L4\n",
    "    elif t > t_startL3 and t <= t_startL2:\n",
    "        return R_t_L3\n",
    "    elif t > t_startL2 and t <= t_startL1:\n",
    "        return R_t_L2\n",
    "    elif t > t_startL1:\n",
    "        return R_t_L1\n",
    "    else:\n",
    "        warnings.warn(\"Using R_0 in time-varying_reproduction function\")  #throw error/warning\n",
    "        return R_0\n",
    "\n",
    "i_scenarios = []\n",
    "\n",
    "for i in range(N_RUNS):\n",
    "  print(i)\n",
    "  # scenario variables\n",
    "  R_t_L5 = 1.4*np.random.normal(1.0, 0.03)\n",
    "  R_t_L4 = np.maximum(0.65, R_t_L5*np.random.normal(1.2, 0.15))\n",
    "  R_t_L3 = np.maximum(0.65, R_t_L4*np.random.normal(1.0, 0.25))\n",
    "  R_t_L2 = np.maximum(0.65, R_t_L3*np.random.normal(1.0, 0.25))\n",
    "  R_t_L1 = np.maximum(0.85, np.random.normal(0.95, 0.35))\n",
    "\n",
    "  t_startL5 = -1\n",
    "  t_startL4 = int(np.maximum(21, np.random.normal(30, 7)))\n",
    "  t_startL3 = int(np.maximum(41, np.random.normal(60, 7)))\n",
    "  t_startL2 = int(np.random.normal(120, 21))\n",
    "  t_startL1 = int(np.random.normal(150, 28))\n",
    "\n",
    "  R_0 = np.maximum(1.8, np.random.normal(2.4, 0.31))\n",
    "  \n",
    "  t_incu = np.random.normal(3.96, 0.34) # average incubation period\n",
    "  t_infect = np.random.normal(5, 2) # average infectious period\n",
    "  t_hosp = np.random.normal(4, 0.5) # time in hospital before transitioning to either critical or recovered\n",
    "  t_crit = np.random.normal(10, 2) # average time patient is critical before transition to recovered or dead     # Distribution is possibly lognormal?\n",
    "\n",
    "\n",
    "  frac_asymptomatic = np.minimum(0.96, np.random.normal(0.65, 0.15)) #5-80% https://www.cebm.net/covid-19/covid-19-what-proportion-are-asymptomatic/\n",
    "  frac_tested_mild = np.minimum(0.96, np.random.normal(0.80, 0.05)) # ratio of tested infections that are mild. [REF??]\n",
    "  frac_mild_total = 1-((1-frac_asymptomatic) * (1 - frac_tested_mild))\n",
    "\n",
    "  frac_crit = np.maximum(0.05, np.random.normal(0.20, 0.05)) # ratio of severe cases that become critical\n",
    "  frac_fatal = np.maximum(0.05, np.random.normal(0.20, 0.05))  # ratio of critical cases that result in death\n",
    "\n",
    "  n_infected = n_tested_active * (1/(1-frac_asymptomatic))\n",
    "  n_exposed = n_infected * 1.7 #(R_t^(time from infection to test)/t_inf ~ 2)*n_infected\n",
    "  n_recovered = (n_total_cases - n_tested_active) * (1/(1-frac_asymptomatic))\n",
    "\n",
    "  initial_state = [(N - n_infected)/N, n_exposed/N, n_infected/N, n_recovered/N, n_hosp/N, n_crit/N, n_dead/N]\n",
    "\n",
    "  args = (time_varying_reproduction, t_incu, t_infect, t_hosp, t_crit, frac_mild_total, frac_crit, frac_fatal)\n",
    "\n",
    "  # run solver and save to solution matrix\n",
    "  sol = solve_ivp(SEIR_HCD_model, [0, model_days], initial_state, args=args, t_eval=np.arange(model_days))\n",
    "  i_scenarios.append(sol)\n",
    "\n",
    "plot_ensemble(N, i_scenarios, title = \"SARAO SEIR-HCD model - Intervention Scenario Ensemble\")"
   ]
  },
  {
   "cell_type": "markdown",
   "metadata": {
    "colab_type": "text",
    "id": "Eqm7YT3_49Ep"
   },
   "source": [
    "### Histograms"
   ]
  },
  {
   "cell_type": "code",
   "execution_count": 7,
   "metadata": {
    "colab": {
     "base_uri": "https://localhost:8080/",
     "height": 1000
    },
    "colab_type": "code",
    "id": "u-lAJrk92P33",
    "outputId": "f316e7c2-463f-4908-91e2-e626ef0d5710"
   },
   "outputs": [
    {
     "name": "stderr",
     "output_type": "stream",
     "text": [
      "<ipython-input-4-30df8fccdbce>:29: RuntimeWarning: divide by zero encountered in log10\n",
      "  bins = np.logspace(np.log10(MIN), np.log10(MAX), 30)\n",
      "/Users/nadeem/py3_kernel/lib/python3.8/site-packages/numpy/core/function_base.py:153: RuntimeWarning: invalid value encountered in multiply\n",
      "  y *= step\n",
      "/Users/nadeem/py3_kernel/lib/python3.8/site-packages/numpy/core/function_base.py:163: RuntimeWarning: invalid value encountered in add\n",
      "  y += start\n",
      "/Users/nadeem/py3_kernel/lib/python3.8/site-packages/numpy/lib/histograms.py:433: RuntimeWarning: invalid value encountered in greater\n",
      "  if np.any(bin_edges[:-1] > bin_edges[1:]):\n",
      "<ipython-input-4-30df8fccdbce>:35: UserWarning: Data has no positive values, and therefore cannot be log-scaled.\n",
      "  axis.axvline(np.percentile(hist_data, 50), color='k', linestyle='dotted', alpha=0.5) #ax2.axvline(np.median(h_data), color='g')\n",
      "<ipython-input-4-30df8fccdbce>:29: RuntimeWarning: divide by zero encountered in log10\n",
      "  bins = np.logspace(np.log10(MIN), np.log10(MAX), 30)\n",
      "/Users/nadeem/py3_kernel/lib/python3.8/site-packages/numpy/core/function_base.py:153: RuntimeWarning: invalid value encountered in multiply\n",
      "  y *= step\n",
      "/Users/nadeem/py3_kernel/lib/python3.8/site-packages/numpy/core/function_base.py:163: RuntimeWarning: invalid value encountered in add\n",
      "  y += start\n",
      "/Users/nadeem/py3_kernel/lib/python3.8/site-packages/numpy/lib/histograms.py:433: RuntimeWarning: invalid value encountered in greater\n",
      "  if np.any(bin_edges[:-1] > bin_edges[1:]):\n",
      "<ipython-input-4-30df8fccdbce>:35: UserWarning: Data has no positive values, and therefore cannot be log-scaled.\n",
      "  axis.axvline(np.percentile(hist_data, 50), color='k', linestyle='dotted', alpha=0.5) #ax2.axvline(np.median(h_data), color='g')\n",
      "<ipython-input-4-30df8fccdbce>:29: RuntimeWarning: divide by zero encountered in log10\n",
      "  bins = np.logspace(np.log10(MIN), np.log10(MAX), 30)\n",
      "/Users/nadeem/py3_kernel/lib/python3.8/site-packages/numpy/core/function_base.py:153: RuntimeWarning: invalid value encountered in multiply\n",
      "  y *= step\n",
      "/Users/nadeem/py3_kernel/lib/python3.8/site-packages/numpy/core/function_base.py:163: RuntimeWarning: invalid value encountered in add\n",
      "  y += start\n",
      "/Users/nadeem/py3_kernel/lib/python3.8/site-packages/numpy/lib/histograms.py:433: RuntimeWarning: invalid value encountered in greater\n",
      "  if np.any(bin_edges[:-1] > bin_edges[1:]):\n",
      "<ipython-input-4-30df8fccdbce>:35: UserWarning: Data has no positive values, and therefore cannot be log-scaled.\n",
      "  axis.axvline(np.percentile(hist_data, 50), color='k', linestyle='dotted', alpha=0.5) #ax2.axvline(np.median(h_data), color='g')\n",
      "<ipython-input-4-30df8fccdbce>:29: RuntimeWarning: divide by zero encountered in log10\n",
      "  bins = np.logspace(np.log10(MIN), np.log10(MAX), 30)\n",
      "/Users/nadeem/py3_kernel/lib/python3.8/site-packages/numpy/core/function_base.py:153: RuntimeWarning: invalid value encountered in multiply\n",
      "  y *= step\n",
      "/Users/nadeem/py3_kernel/lib/python3.8/site-packages/numpy/core/function_base.py:163: RuntimeWarning: invalid value encountered in add\n",
      "  y += start\n",
      "/Users/nadeem/py3_kernel/lib/python3.8/site-packages/numpy/lib/histograms.py:433: RuntimeWarning: invalid value encountered in greater\n",
      "  if np.any(bin_edges[:-1] > bin_edges[1:]):\n",
      "<ipython-input-4-30df8fccdbce>:35: UserWarning: Data has no positive values, and therefore cannot be log-scaled.\n",
      "  axis.axvline(np.percentile(hist_data, 50), color='k', linestyle='dotted', alpha=0.5) #ax2.axvline(np.median(h_data), color='g')\n",
      "<ipython-input-4-30df8fccdbce>:29: RuntimeWarning: divide by zero encountered in log10\n",
      "  bins = np.logspace(np.log10(MIN), np.log10(MAX), 30)\n",
      "/Users/nadeem/py3_kernel/lib/python3.8/site-packages/numpy/core/function_base.py:153: RuntimeWarning: invalid value encountered in multiply\n",
      "  y *= step\n",
      "/Users/nadeem/py3_kernel/lib/python3.8/site-packages/numpy/core/function_base.py:163: RuntimeWarning: invalid value encountered in add\n",
      "  y += start\n",
      "/Users/nadeem/py3_kernel/lib/python3.8/site-packages/numpy/lib/histograms.py:433: RuntimeWarning: invalid value encountered in greater\n",
      "  if np.any(bin_edges[:-1] > bin_edges[1:]):\n",
      "<ipython-input-4-30df8fccdbce>:35: UserWarning: Data has no positive values, and therefore cannot be log-scaled.\n",
      "  axis.axvline(np.percentile(hist_data, 50), color='k', linestyle='dotted', alpha=0.5) #ax2.axvline(np.median(h_data), color='g')\n",
      "<ipython-input-4-30df8fccdbce>:29: RuntimeWarning: divide by zero encountered in log10\n",
      "  bins = np.logspace(np.log10(MIN), np.log10(MAX), 30)\n",
      "/Users/nadeem/py3_kernel/lib/python3.8/site-packages/numpy/core/function_base.py:153: RuntimeWarning: invalid value encountered in multiply\n",
      "  y *= step\n",
      "/Users/nadeem/py3_kernel/lib/python3.8/site-packages/numpy/core/function_base.py:163: RuntimeWarning: invalid value encountered in add\n",
      "  y += start\n",
      "/Users/nadeem/py3_kernel/lib/python3.8/site-packages/numpy/lib/histograms.py:433: RuntimeWarning: invalid value encountered in greater\n",
      "  if np.any(bin_edges[:-1] > bin_edges[1:]):\n",
      "<ipython-input-4-30df8fccdbce>:35: UserWarning: Data has no positive values, and therefore cannot be log-scaled.\n",
      "  axis.axvline(np.percentile(hist_data, 50), color='k', linestyle='dotted', alpha=0.5) #ax2.axvline(np.median(h_data), color='g')\n",
      "<ipython-input-4-30df8fccdbce>:29: RuntimeWarning: divide by zero encountered in log10\n",
      "  bins = np.logspace(np.log10(MIN), np.log10(MAX), 30)\n",
      "/Users/nadeem/py3_kernel/lib/python3.8/site-packages/numpy/core/function_base.py:153: RuntimeWarning: invalid value encountered in multiply\n",
      "  y *= step\n",
      "/Users/nadeem/py3_kernel/lib/python3.8/site-packages/numpy/core/function_base.py:163: RuntimeWarning: invalid value encountered in add\n",
      "  y += start\n",
      "/Users/nadeem/py3_kernel/lib/python3.8/site-packages/numpy/lib/histograms.py:433: RuntimeWarning: invalid value encountered in greater\n",
      "  if np.any(bin_edges[:-1] > bin_edges[1:]):\n",
      "<ipython-input-4-30df8fccdbce>:35: UserWarning: Data has no positive values, and therefore cannot be log-scaled.\n",
      "  axis.axvline(np.percentile(hist_data, 50), color='k', linestyle='dotted', alpha=0.5) #ax2.axvline(np.median(h_data), color='g')\n",
      "<ipython-input-4-30df8fccdbce>:29: RuntimeWarning: divide by zero encountered in log10\n",
      "  bins = np.logspace(np.log10(MIN), np.log10(MAX), 30)\n",
      "/Users/nadeem/py3_kernel/lib/python3.8/site-packages/numpy/core/function_base.py:153: RuntimeWarning: invalid value encountered in multiply\n",
      "  y *= step\n",
      "/Users/nadeem/py3_kernel/lib/python3.8/site-packages/numpy/core/function_base.py:163: RuntimeWarning: invalid value encountered in add\n",
      "  y += start\n",
      "/Users/nadeem/py3_kernel/lib/python3.8/site-packages/numpy/lib/histograms.py:433: RuntimeWarning: invalid value encountered in greater\n",
      "  if np.any(bin_edges[:-1] > bin_edges[1:]):\n",
      "<ipython-input-4-30df8fccdbce>:35: UserWarning: Data has no positive values, and therefore cannot be log-scaled.\n",
      "  axis.axvline(np.percentile(hist_data, 50), color='k', linestyle='dotted', alpha=0.5) #ax2.axvline(np.median(h_data), color='g')\n",
      "<ipython-input-4-30df8fccdbce>:29: RuntimeWarning: divide by zero encountered in log10\n",
      "  bins = np.logspace(np.log10(MIN), np.log10(MAX), 30)\n",
      "/Users/nadeem/py3_kernel/lib/python3.8/site-packages/numpy/core/function_base.py:153: RuntimeWarning: invalid value encountered in multiply\n",
      "  y *= step\n",
      "/Users/nadeem/py3_kernel/lib/python3.8/site-packages/numpy/core/function_base.py:163: RuntimeWarning: invalid value encountered in add\n",
      "  y += start\n",
      "/Users/nadeem/py3_kernel/lib/python3.8/site-packages/numpy/lib/histograms.py:433: RuntimeWarning: invalid value encountered in greater\n",
      "  if np.any(bin_edges[:-1] > bin_edges[1:]):\n",
      "<ipython-input-4-30df8fccdbce>:35: UserWarning: Data has no positive values, and therefore cannot be log-scaled.\n",
      "  axis.axvline(np.percentile(hist_data, 50), color='k', linestyle='dotted', alpha=0.5) #ax2.axvline(np.median(h_data), color='g')\n",
      "<ipython-input-4-30df8fccdbce>:29: RuntimeWarning: divide by zero encountered in log10\n",
      "  bins = np.logspace(np.log10(MIN), np.log10(MAX), 30)\n",
      "/Users/nadeem/py3_kernel/lib/python3.8/site-packages/numpy/core/function_base.py:153: RuntimeWarning: invalid value encountered in multiply\n",
      "  y *= step\n",
      "/Users/nadeem/py3_kernel/lib/python3.8/site-packages/numpy/core/function_base.py:163: RuntimeWarning: invalid value encountered in add\n",
      "  y += start\n",
      "/Users/nadeem/py3_kernel/lib/python3.8/site-packages/numpy/lib/histograms.py:433: RuntimeWarning: invalid value encountered in greater\n",
      "  if np.any(bin_edges[:-1] > bin_edges[1:]):\n",
      "<ipython-input-4-30df8fccdbce>:35: UserWarning: Data has no positive values, and therefore cannot be log-scaled.\n",
      "  axis.axvline(np.percentile(hist_data, 50), color='k', linestyle='dotted', alpha=0.5) #ax2.axvline(np.median(h_data), color='g')\n",
      "<ipython-input-4-30df8fccdbce>:29: RuntimeWarning: divide by zero encountered in log10\n",
      "  bins = np.logspace(np.log10(MIN), np.log10(MAX), 30)\n",
      "/Users/nadeem/py3_kernel/lib/python3.8/site-packages/numpy/core/function_base.py:153: RuntimeWarning: invalid value encountered in multiply\n",
      "  y *= step\n",
      "/Users/nadeem/py3_kernel/lib/python3.8/site-packages/numpy/core/function_base.py:163: RuntimeWarning: invalid value encountered in add\n",
      "  y += start\n",
      "/Users/nadeem/py3_kernel/lib/python3.8/site-packages/numpy/lib/histograms.py:433: RuntimeWarning: invalid value encountered in greater\n",
      "  if np.any(bin_edges[:-1] > bin_edges[1:]):\n",
      "<ipython-input-4-30df8fccdbce>:35: UserWarning: Data has no positive values, and therefore cannot be log-scaled.\n",
      "  axis.axvline(np.percentile(hist_data, 50), color='k', linestyle='dotted', alpha=0.5) #ax2.axvline(np.median(h_data), color='g')\n",
      "<ipython-input-4-30df8fccdbce>:29: RuntimeWarning: divide by zero encountered in log10\n",
      "  bins = np.logspace(np.log10(MIN), np.log10(MAX), 30)\n",
      "/Users/nadeem/py3_kernel/lib/python3.8/site-packages/numpy/core/function_base.py:153: RuntimeWarning: invalid value encountered in multiply\n",
      "  y *= step\n",
      "/Users/nadeem/py3_kernel/lib/python3.8/site-packages/numpy/core/function_base.py:163: RuntimeWarning: invalid value encountered in add\n",
      "  y += start\n",
      "/Users/nadeem/py3_kernel/lib/python3.8/site-packages/numpy/lib/histograms.py:433: RuntimeWarning: invalid value encountered in greater\n",
      "  if np.any(bin_edges[:-1] > bin_edges[1:]):\n",
      "<ipython-input-4-30df8fccdbce>:35: UserWarning: Data has no positive values, and therefore cannot be log-scaled.\n",
      "  axis.axvline(np.percentile(hist_data, 50), color='k', linestyle='dotted', alpha=0.5) #ax2.axvline(np.median(h_data), color='g')\n"
     ]
    },
    {
     "data": {
      "image/png": "[encoded data removed]",
      "text/plain": [
       "<Figure size 576x432 with 4 Axes>"
      ]
     },
     "metadata": {
      "needs_background": "light"
     },
     "output_type": "display_data"
    },
    {
     "data": {
      "image/png": "[encoded data removed]",
      "text/plain": [
       "<Figure size 576x432 with 4 Axes>"
      ]
     },
     "metadata": {
      "needs_background": "light"
     },
     "output_type": "display_data"
    },
    {
     "data": {
      "image/png": "[encoded data removed]",
      "text/plain": [
       "<Figure size 576x432 with 4 Axes>"
      ]
     },
     "metadata": {
      "needs_background": "light"
     },
     "output_type": "display_data"
    }
   ],
   "source": [
    "is_arr = np.empty([N_RUNS, sol.y.shape[0], sol.y.shape[1]]) # i.e. make it, for instance [1000, 7, 240] \n",
    "for idx, sol in enumerate(i_scenarios):\n",
    "  is_arr[idx,:,:] = sol.y\n",
    "\n",
    "# days of evaluation should correspond to [1 June, 1 July, 1 September, 1 October]\n",
    "eval_days = [31,61,122,153]\n",
    "\n",
    "compartment_labels = ['Susceptible', 'Exposed', 'Infectious', 'Recovered', 'Hospitalised', 'Critical', 'Deaths']\n",
    "show_labels = ['Critical', 'Hospitalised', 'Deaths']\n",
    "\n",
    "\n",
    "for idx, scen in enumerate(np.rollaxis(is_arr[:,[compartment_labels.index(show_labels[0]), compartment_labels.index(show_labels[1]), compartment_labels.index(show_labels[2])],:], 1)):\n",
    "    plot_hist(scen, title = show_labels[idx], days=eval_days)\n",
    "\n",
    "# for reference: sus, exp, inf, rec, hosp, crit, death = solution.y\n",
    "# cases = (inf + rec + hosp + crit + death) "
   ]
  },
  {
   "cell_type": "markdown",
   "metadata": {
    "colab_type": "text",
    "id": "-Uuno03kDLnX"
   },
   "source": [
    "### R_t parameterisation and plots"
   ]
  },
  {
   "cell_type": "code",
   "execution_count": 8,
   "metadata": {
    "colab": {},
    "colab_type": "code",
    "id": "ZnFNivvPDPxL"
   },
   "outputs": [
    {
     "data": {
      "text/plain": [
       "<matplotlib.collections.PolyCollection at 0x127a9a730>"
      ]
     },
     "execution_count": 8,
     "metadata": {},
     "output_type": "execute_result"
    },
    {
     "data": {
      "image/png": "[encoded data removed]",
      "text/plain": [
       "<Figure size 432x288 with 1 Axes>"
      ]
     },
     "metadata": {
      "needs_background": "light"
     },
     "output_type": "display_data"
    }
   ],
   "source": [
    "t_arr = np.empty((N_RUNS, model_days))\n",
    "for i in range(N_RUNS):\n",
    "  # scenario variables\n",
    "  R_t_L5 = 1.3*np.random.normal(1.0, 0.02)\n",
    "  R_t_L4 = np.maximum(0.65, R_t_L5*np.random.normal(1.2, 0.15))\n",
    "  R_t_L3 = np.maximum(0.65, R_t_L4*np.random.normal(1.0, 0.25))\n",
    "  R_t_L2 = np.maximum(0.65, R_t_L3*np.random.normal(1.0, 0.25))\n",
    "  R_t_L1 = np.maximum(0.65, np.random.normal(0.95, 0.35))\n",
    "\n",
    "  t_startL5 = -1\n",
    "  t_startL4 = int(np.maximum(21, np.random.normal(30, 7)))\n",
    "  t_startL3 = int(np.maximum(41, np.random.normal(60, 14)))\n",
    "  t_startL2 = int(np.random.normal(120, 21))\n",
    "  t_startL1 = int(np.random.normal(150, 28))\n",
    "\n",
    "  t = np.empty(model_days)\n",
    "  for j in range(model_days):\n",
    "    t[j] = time_varying_reproduction(j)\n",
    "\n",
    "  plt.plot(t, color='r', alpha=0.05)\n",
    "  plt.ylabel(\"R_t\")\n",
    "  plt.xlabel(\"Day\")\n",
    "  t_arr[i,:] = t\n",
    "\n",
    "median = np.empty(model_days)\n",
    "percentile_32 = np.empty(model_days)\n",
    "percentile_68 = np.empty(model_days)\n",
    "percentile_5 = np.empty(model_days)\n",
    "percentile_95 = np.empty(model_days)\n",
    "for day in range(t_arr.shape[1]):\n",
    "  median[day] = np.median(t_arr[:,day])\n",
    "  percentile_32[day] = np.percentile(t_arr[:,day], 32)\n",
    "  percentile_68[day] = np.percentile(t_arr[:,day], 68)\n",
    "  percentile_5[day] = np.percentile(t_arr[:,day], 5)\n",
    "  percentile_95[day] = np.percentile(t_arr[:,day], 95)\n",
    "\n",
    "\n",
    "plt.ylim(0.2, 3.5)\n",
    "plt.xlim(0, 231)\n",
    "plt.plot(range(model_days), median, color = 'magenta')\n",
    "plt.plot(range(model_days), percentile_32, color='purple', alpha=0.5)\n",
    "plt.plot(range(model_days), percentile_68, color='purple', alpha=0.5)\n",
    "plt.plot(range(model_days), percentile_5, color='purple', alpha=0.5)\n",
    "plt.plot(range(model_days), percentile_95, color='purple', alpha=0.5)\n",
    "plt.fill_between(range(model_days), percentile_32, percentile_68, facecolor='green', alpha=0.4)"
   ]
  },
  {
   "cell_type": "code",
   "execution_count": 0,
   "metadata": {
    "colab": {},
    "colab_type": "code",
    "id": "YTHqNnwi5yQE"
   },
   "outputs": [],
   "source": [
    "for i in range(10):\n",
    "  plt.plot(t_arr[np.random.randint(t_arr.shape[0]),:])"
   ]
  },
  {
   "cell_type": "markdown",
   "metadata": {
    "colab_type": "text",
    "id": "P1EGe7z_e64N"
   },
   "source": [
    "# Scratch"
   ]
  },
  {
   "cell_type": "code",
   "execution_count": 0,
   "metadata": {
    "colab": {},
    "colab_type": "code",
    "id": "hUjAP9IJr-37"
   },
   "outputs": [],
   "source": [
    "#test ICU_Overload code\n",
    "\n",
    "ratio_fatal=0.2\n",
    "ICU_CAPACITY = 4000 # [find ref please]   \n",
    "for C in [-1, 0, 1000, 3999, 4000, 4001, 5000, 10000, 100000, 1e7]:\n",
    "  # account for ICU overload by modifying the fatality ratio\n",
    "  if C > ICU_CAPACITY: \n",
    "    #[again, can we get true number and ref from Willem/Fernando]\n",
    "    ratio_fatal = ((C - ICU_CAPACITY)/C)*np.maximum(0.8, np.random.normal(0.6, 0.15)) + ICU_CAPACITY/C*ratio_fatal #0.8 #\n",
    "  \n",
    "  print(ratio_fatal)\n"
   ]
  },
  {
   "cell_type": "code",
   "execution_count": 0,
   "metadata": {
    "colab": {
     "base_uri": "https://localhost:8080/",
     "height": 265
    },
    "colab_type": "code",
    "id": "fGr6DZ_yYpvf",
    "outputId": "b54520d1-4dfa-4373-8c02-04723e67b39c"
   },
   "outputs": [
    {
     "data": {
      "image/png": "[encoded data removed]",
      "text/plain": [
       "<Figure size 432x288 with 1 Axes>"
      ]
     },
     "metadata": {
      "needs_background": "light",
      "tags": []
     },
     "output_type": "display_data"
    }
   ],
   "source": [
    "# trying to get the correct distribution for frac_mild_tested\n",
    "\n",
    "ra=np.empty(N_RUNS)\n",
    "ru=np.empty(N_RUNS)\n",
    "rm=np.empty(N_RUNS)\n",
    "for i in range(N_RUNS):\n",
    "  frac_asymptomatic = np.minimum(0.96, np.random.normal(0.60, 0.15)) #5-80% https://www.cebm.net/covid-19/covid-19-what-proportion-are-asymptomatic/\n",
    "  frac_tested_mild = np.minimum(0.96, np.random.normal(0.80, 0.05)) # ratio of infections that are mild. \n",
    "  frac_mild_total = 1-((1-frac_asymptomatic) * (1 - frac_tested_mild))\n",
    "  ra[i] = frac_mild_total\n",
    "  ru[i] = frac_asymptomatic\n",
    "  rm[i] = frac_tested_mild\n",
    "plt.hist(ra, bins=30, density=True,histtype='step')\n",
    "plt.hist(ru, bins=30, density=True,histtype='step')\n",
    "plt.hist(rm, bins=30, density=True,histtype='step')\n",
    "k=stats.gaussian_kde(ra, bw_method=30)\n",
    "plt.plot(range(0,1,30), k(range(0,1,30)))\n",
    "ra.shape\n",
    "\n",
    "symptomatic_frac = 0.5    # Vo, Diamond Princess \n",
    "symptomatic_frac_tested = 0.1#??   # Country specific \n",
    "# IFR = 1% = dead(t)/counts(t-14)\n",
    "\n",
    "mild_frac_of_cases = 0.8  #CFR \n",
    "fraction_tested = (symptomatic_frac)*symptomatic_frac_tested*mild_frac_of_cases\n"
   ]
  },
  {
   "cell_type": "code",
   "execution_count": 0,
   "metadata": {
    "colab": {},
    "colab_type": "code",
    "id": "-OGZ8ueMxMTe"
   },
   "outputs": [],
   "source": []
  }
 ],
 "metadata": {
  "colab": {
   "name": "SARAO_Bounding_Epidemiological_Model_0.3.ipynb",
   "provenance": []
  },
  "kernelspec": {
   "display_name": "Python 3",
   "language": "python",
   "name": "python3"
  },
  "language_info": {
   "codemirror_mode": {
    "name": "ipython",
    "version": 3
   },
   "file_extension": ".py",
   "mimetype": "text/x-python",
   "name": "python",
   "nbconvert_exporter": "python",
   "pygments_lexer": "ipython3",
   "version": "3.8.2"
  }
 },
 "nbformat": 4,
 "nbformat_minor": 1
}
